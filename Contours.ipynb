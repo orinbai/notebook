{
 "cells": [
  {
   "cell_type": "code",
   "execution_count": 78,
   "metadata": {},
   "outputs": [],
   "source": [
    "import cv2\n",
    "import numpy as np\n",
    "from itertools import groupby\n",
    "from matplotlib import pyplot as plt"
   ]
  },
  {
   "cell_type": "code",
   "execution_count": 52,
   "metadata": {},
   "outputs": [],
   "source": [
    "def pltShow(img, cvt=True):\n",
    "    if cvt:\n",
    "        img = cv2.cvtColor(img, cv2.COLOR_BGR2RGB)\n",
    "#     plt.figure(figsize=(180, 100))\n",
    "    plt.imshow(img)\n",
    "    plt.axis(\"off\")\n",
    "    plt.show()"
   ]
  },
  {
   "cell_type": "code",
   "execution_count": 95,
   "metadata": {},
   "outputs": [],
   "source": [
    "def continueNum(nArray):\n",
    "    blockRange = []\n",
    "    fun = lambda x: x[1] - x[0]\n",
    "    for i, g in groupby(enumerate(nArray), fun):\n",
    "        print([v for m, v in g])\n",
    "        #blockRange.append((min(tmp), max(tmp)))\n",
    "    return blockRange"
   ]
  },
  {
   "cell_type": "code",
   "execution_count": 44,
   "metadata": {},
   "outputs": [],
   "source": [
    "img = cv2.imread(\"00000.jpg\")"
   ]
  },
  {
   "cell_type": "code",
   "execution_count": 100,
   "metadata": {},
   "outputs": [
    {
     "name": "stdout",
     "output_type": "stream",
     "text": [
      "(2950, 720)\n",
      "247\n",
      "764\n",
      "[array([   0,    1,    2,    3,    4,    5,    6,    7,    8,    9,   10,\n",
      "         11,   12,   13,   14,   15,   16,   17,   18,   19,   20,   21,\n",
      "         22,   23,   24,   25,   26,   27,   28,   29,   30,   31,   32,\n",
      "         33,   34,   35,   36,   37,   38,   39,   40,   41,   42,   43,\n",
      "         44,   45,   46,   47,   48,   49,   50,   51,   52,   53,   54,\n",
      "         55,   56,   57,   58,   59,   60,   61,   62,   63,   64,   65,\n",
      "         66,   67,   68,   69,   70,   71,   72,   73,   74,   75,   76,\n",
      "         77,   78,   79,   80,   81,   82,   83,   84,   85,   86,   87,\n",
      "         88,   89,   90,   91,   92,   93,   94,   95,   96,   97,   98,\n",
      "         99,  100,  101,  102,  103,  104,  105,  106,  107,  108,  109,\n",
      "        110,  111,  112,  113,  114,  115,  116,  117,  118,  119,  120,\n",
      "        121,  122,  123,  124,  125,  126,  127,  128,  129,  130,  131,\n",
      "        132,  133,  134,  135,  136,  137,  138,  139,  140,  141,  142,\n",
      "        143,  144,  145,  146,  147,  148,  149,  150,  151,  152,  153,\n",
      "        154,  155,  156,  157,  158,  159,  160,  161,  162,  163,  164,\n",
      "        165,  166,  167,  168,  169,  170,  171,  172,  173,  174,  175,\n",
      "        176,  177,  178,  179,  180,  181,  182,  183,  184,  185,  186,\n",
      "        187,  188,  189,  190,  191,  192,  193,  194,  195,  196,  197,\n",
      "        198,  199,  200,  201,  202,  203,  204,  205,  206,  207,  208,\n",
      "        209,  210,  211,  212,  213,  214,  215,  216,  217,  218,  219,\n",
      "        220,  221,  222,  223,  224,  225,  226,  227,  228,  229,  230,\n",
      "        231,  232,  233,  234,  235,  236,  237,  238,  239,  240,  241,\n",
      "        242,  243,  244,  245,  246,  247,  248,  249,  250,  251,  252,\n",
      "        253,  254,  255,  256,  257,  258,  259,  260,  261,  262,  263,\n",
      "        264,  265,  266,  267,  268,  269,  270,  271,  272,  273,  274,\n",
      "        275,  276,  277,  278,  279,  280,  281,  282,  283,  284,  285,\n",
      "        286,  287,  288,  289,  290,  291,  292,  293,  294,  295,  296,\n",
      "        297,  298,  299,  300,  301,  302,  303,  304,  305,  306,  307,\n",
      "        308,  309,  310,  311,  312,  313,  314,  315,  316,  317,  318,\n",
      "        319,  320,  321,  322,  323,  324,  325,  326,  327,  328,  329,\n",
      "        330,  331,  332,  333,  334,  335,  336,  337,  338,  339,  340,\n",
      "        341,  342,  343,  344, 1222, 1223, 1224, 1225, 1226, 1227, 1228,\n",
      "       1229, 1230, 1231, 1232, 1233, 1234, 1235, 1236, 1237, 1238, 1239,\n",
      "       1240, 1241, 1242, 1243, 1244, 1245, 1246, 1247, 1248, 1249, 1250,\n",
      "       1251, 1252, 1253, 1254, 1255, 1256, 1257, 1258, 1259, 1260, 1261,\n",
      "       1262, 1263, 1264, 1265, 1266, 1267, 1268, 1269, 1270, 1271, 1272,\n",
      "       1273, 1274, 1275, 1276, 1277, 1278, 1279, 1280, 1281, 1282, 1283,\n",
      "       1284, 1285, 1286, 1287, 1288, 1289, 1290, 1291, 1292, 1293, 1294,\n",
      "       1295, 1296, 1297, 1298, 1299, 1300, 1301, 1302, 1303, 1304, 1305,\n",
      "       1306, 1307, 1308, 1309, 1310, 1311, 1312, 1313, 1314, 1315, 1316,\n",
      "       1317, 1318, 1319, 1320, 1321, 1322, 1323, 1324, 1325, 1326, 1327,\n",
      "       1328, 1329, 1330, 1331, 1332, 1333, 1334, 1335, 1336, 1337, 1338,\n",
      "       1339, 1340, 1341, 1342, 1343, 1344, 1345, 1346, 1347, 1348, 1349,\n",
      "       1350, 1351, 1352, 1353, 1354, 1355, 1356, 1357, 1358, 1359, 1360,\n",
      "       1361, 1362, 1363, 1364, 1365, 1366, 1367, 1368, 1369, 1370, 1371,\n",
      "       1372, 1373, 1374, 1375, 1376, 1377, 1378, 1379, 1380, 1381, 1382,\n",
      "       1383, 1384, 1385, 1386, 1387, 1388, 1389, 1390, 1391, 1392, 1393,\n",
      "       1394, 1395, 1396, 1397, 1398, 1399, 1400, 1401, 1402, 1403, 1404,\n",
      "       1405, 1406, 1407, 1408, 1409, 1410, 1411, 1412, 1413, 1414, 1415,\n",
      "       1416, 1417, 1418, 1419, 1420, 1421, 1422, 1423, 1424, 1425, 1426,\n",
      "       1427, 1428, 1429, 1430, 1431, 1432, 1433, 1434, 1435, 1436, 1437,\n",
      "       1438, 1439, 1440, 1441, 1442, 1443, 1444, 1445, 2755, 2756, 2757,\n",
      "       2758, 2759, 2760, 2761, 2762, 2763, 2764, 2765, 2766, 2767, 2768,\n",
      "       2769, 2770, 2771, 2772, 2773, 2774, 2775, 2776, 2777, 2778, 2779,\n",
      "       2780, 2781, 2782, 2783, 2784, 2785, 2786, 2787, 2788, 2789, 2790,\n",
      "       2791, 2792, 2793, 2794, 2795, 2796, 2797, 2798, 2799, 2800, 2801,\n",
      "       2802, 2803, 2804, 2805, 2806, 2807, 2808, 2809, 2810, 2811, 2812,\n",
      "       2813, 2814, 2815, 2816, 2817, 2818, 2819, 2820, 2821, 2822, 2823,\n",
      "       2824, 2825, 2826, 2827, 2828, 2829, 2830, 2831, 2832, 2833, 2834,\n",
      "       2835, 2836, 2837, 2838, 2839, 2840, 2841, 2842, 2843, 2844, 2845,\n",
      "       2846, 2847, 2848, 2849, 2850, 2851, 2852, 2853, 2854, 2855, 2856,\n",
      "       2857, 2858, 2859, 2860, 2861, 2862, 2863, 2864, 2865, 2866, 2867,\n",
      "       2868, 2869, 2870, 2871, 2872, 2873, 2874, 2875, 2876, 2877, 2878,\n",
      "       2879, 2880, 2881, 2882, 2883, 2884, 2885, 2886, 2887, 2888, 2889,\n",
      "       2890, 2891, 2892, 2893, 2894, 2895, 2896, 2897, 2898, 2899, 2900,\n",
      "       2901, 2902, 2903, 2904, 2905, 2906, 2907, 2908, 2909, 2910, 2911,\n",
      "       2912, 2913, 2914, 2915, 2916, 2917, 2918, 2919, 2920, 2921, 2922,\n",
      "       2923, 2924, 2925, 2926, 2927, 2928, 2929, 2930, 2931, 2932, 2933,\n",
      "       2934, 2935, 2936, 2937, 2938, 2939, 2940, 2941, 2942, 2943, 2944,\n",
      "       2945, 2946, 2947, 2948, 2949])]\n"
     ]
    },
    {
     "data": {
      "text/plain": [
       "[]"
      ]
     },
     "execution_count": 100,
     "metadata": {},
     "output_type": "execute_result"
    }
   ],
   "source": [
    "img1 = cv2.medianBlur(img,5)\n",
    "b=cv2.threshold(img1,15,255,cv2.THRESH_BINARY)\n",
    "binary_image=b[1]\n",
    "binary_image=cv2.cvtColor(binary_image,cv2.COLOR_BGR2GRAY)\n",
    "print(binary_image.shape)\n",
    "print(sum(binary_image[750,:]==0))\n",
    "mm = np.sum(binary_image[:,:]==0, axis=1)\n",
    "print(sum(mm>720*.95))\n",
    "mm.shape\n",
    "764/2950\n",
    "aa = np.where(mm>720*.95)\n",
    "continueNum(list(aa))"
   ]
  },
  {
   "cell_type": "code",
   "execution_count": 53,
   "metadata": {},
   "outputs": [
    {
     "data": {
      "image/png": "[encoded data removed]",
      "text/plain": [
       "<Figure size 432x288 with 1 Axes>"
      ]
     },
     "metadata": {
      "needs_background": "light"
     },
     "output_type": "display_data"
    }
   ],
   "source": [
    "pltShow(binary_image, False)"
   ]
  }
 ],
 "metadata": {
  "kernelspec": {
   "display_name": "Python 3",
   "language": "python",
   "name": "python3"
  },
  "language_info": {
   "codemirror_mode": {
    "name": "ipython",
    "version": 3
   },
   "file_extension": ".py",
   "mimetype": "text/x-python",
   "name": "python",
   "nbconvert_exporter": "python",
   "pygments_lexer": "ipython3",
   "version": "3.5.2"
  }
 },
 "nbformat": 4,
 "nbformat_minor": 2
}
