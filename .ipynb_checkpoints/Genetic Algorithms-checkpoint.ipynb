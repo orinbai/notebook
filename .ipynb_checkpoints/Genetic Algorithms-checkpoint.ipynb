{
 "cells": [
  {
   "cell_type": "code",
   "execution_count": null,
   "metadata": {},
   "outputs": [],
   "source": [
    "# 使用《复杂》中罗比扫地机器人的例子，进行遗传算法编程\n",
    "# 场景说明：\n",
    "# 场地总共是10×10个格子，每个格子可能有三种情况：\n",
    "#    0. 空\n",
    "#    1. 罐子\n",
    "#    2. 墙\n",
    "# 罗比是一个机器人，他每次都只能看到周围和当前格子的情况\n",
    "# 也就是其周围“上下左右中”的情况，按照顺序记入一个列表：\n",
    "#    [0, 0, 0, 0, 0] -> 周围都是空的\n",
    "#    [2, 0, 0, 1, 0] -> 上面是墙，右面有罐子\n",
    "# 针对不同情况他的策略是:\n",
    "#    0:向上走\n",
    "#    1:向下走\n",
    "#    2:向左走\n",
    "#    3:向右走\n",
    "#    4:随机走\n",
    "#    5:什么都不做\n",
    "#    6:捡罐子\n",
    "# 总共7种策略\n",
    "#\n",
    "# 由于需要计算染色体(chromosome)的代表性，所以我们需要确定染色体的长度：\n",
    "#    罗比能看到范围的情况 3 ^ 5 = 243 种，所以染色体需要243位的长度\n",
    "#    我们对应染色体列表的chromosome[0]~chromosome[242]分别对应\n",
    "#    [0,0,0,0,0], [0,0,0,0,0,1], [0,0,0,0,2], ~ ,[2,2,2,2,1], [2,2,2,2,2]\n",
    "#    染色体的值 chromosome[n] 取值于 0 ~ 6 共 7 种策略。\n",
    "# 所以需要在总共 7 ^ 243 种策略中寻找最优策略。\n",
    "# 比如：\n",
    "#    染色体m为chromosom[m] = \"56132....62312\" 长度为243, 其意义为\n",
    "#    [0,0,0,0,0] 采取 5 也就是 什么都不做的策略\n",
    "#    [0,0,0,0,1] 采取 6 也就是 拣罐子\n",
    "#    [0,0,0,0,2] 采取 1 也就是 向右走\n",
    "#    [0,0,0,1,0] 采取 3 也就是 向后走\n",
    "#    [0,0,0,1,1] 采取 2 也就是 向前走\n",
    "# 以此类推\n",
    "# 优化的目的是找到最佳个体，其实就是染色体序列，使其的表现最佳。染色体是基因组合，种群其实就是染色体组合。\n",
    "#\n",
    "# 评分策略：\n",
    "#    有罐子捡起 +10\n",
    "#    没罐子却捡 -1\n",
    "#    撞墙 -5"
   ]
  },
  {
   "cell_type": "code",
   "execution_count": 19,
   "metadata": {},
   "outputs": [],
   "source": [
    "import math, random"
   ]
  },
  {
   "cell_type": "code",
   "execution_count": 128,
   "metadata": {},
   "outputs": [],
   "source": [
    "class Population:\n",
    "    def __init__(self, map_size, size, chrom_size, cp, mp, gen_max, max_step=200):\n",
    "        # 种群信息\n",
    "        self.individuals = [] # 个体集合\n",
    "        self.fitness = [] # 个体适应度集合\n",
    "        self.selector_probability = [] # 个体选择概率集合\n",
    "        self.new_individuals = [] # 新一代个体集合\n",
    "        \n",
    "        self.elitist = {'chromosome': [0, 0], 'fitness': 0, 'age': 0} # 最佳个体信息\n",
    "        \n",
    "        self.size = size # 种群包含个体数量\n",
    "        self.chromosome_size = chrom_size # 染色体长度\n",
    "        self.crossover_probability = cp # 个体间染色体交叉概率\n",
    "        self.mutation_probability = mp # 个体变异概率\n",
    "        \n",
    "        self.generation_max = gen_max # 进化最大世代数\n",
    "        self.age = 0 # 种群当前世代\n",
    "        self.maxStep = max_step\n",
    "        \n",
    "        self.map_dim = map_size\n",
    "        self.map = self.genMap()\n",
    "        self.actions = 7\n",
    "        self.sample_space = 243\n",
    "        self.strategyMX = {} # 用strategyMX来指定染色体中的基因\n",
    "        self._genStrategy(self.sample_space)\n",
    "        \n",
    "        self.act = {\n",
    "            0: \"up\",\n",
    "            1: \"down\",\n",
    "            2: \"left\",\n",
    "            3: \"right\",\n",
    "            4: \"rand\",\n",
    "            5: \"none\",\n",
    "            6: \"pick\"\n",
    "        }\n",
    "        self.status = {\n",
    "            0: \"none\",\n",
    "            1: \"can\",\n",
    "            2: \"wall\"\n",
    "        }\n",
    "        self.pickpunish = {\n",
    "            0: -1,\n",
    "            # 应该不会出现人在墙上\n",
    "            2: -1,\n",
    "            1: 10\n",
    "        }\n",
    "        \n",
    "        for i in range(self.size):\n",
    "            tmpArr = []\n",
    "            for n in range(self.sample_space):\n",
    "                tmpArr.append(random.randint(0, self.actions-1))\n",
    "            self.individuals.append(tmpArr)\n",
    "            self.fitness.append(0)\n",
    "            self.selector_probability.append(0)\n",
    "\n",
    "    def _genStrategy(self, sNum):\n",
    "            # act = list(range(self.actions))\n",
    "            tmp = [0, 0, 0, 0, 0]\n",
    "            # 3^5=243种枚举策略\n",
    "            # self.strategyMX[tuple(tmp)] = act\n",
    "            self.strategyMX[tuple(tmp)] = 0\n",
    "            # sNum -= 1\n",
    "            for i in range(1, sNum):\n",
    "                tmp = self._addEle(tmp)\n",
    "                self.strategyMX[tuple(tmp)] = i\n",
    "            return self.strategyMX\n",
    "\n",
    "    def _addEle(self, tmp):\n",
    "        m = len(tmp)\n",
    "        while m >=0 :\n",
    "            tmp[m-1] += 1\n",
    "            if tmp[m-1] > 2:\n",
    "                tmp[m-1] = 0\n",
    "                m = m - 1\n",
    "            else:\n",
    "                return tmp\n",
    "            \n",
    "    def _setItem(self, items=[2, 1, 0], probDis=[0, 0.3, 0.7]):\n",
    "        # 参数是概率分布数组\n",
    "        p = random.uniform(0, 1)\n",
    "        cumulative_probability = 0.0\n",
    "        for item, item_prob in zip(items, probDis):\n",
    "            cumulative_probability += item_prob\n",
    "            if p < cumulative_probability:\n",
    "                return item\n",
    "            \n",
    "    def genMap(self):\n",
    "        tmpmap = []\n",
    "        # 四边为墙\n",
    "        upper = [2] * self.map_dim\n",
    "        bottom = [2] * self.map_dim\n",
    "        tmpmap.append(upper)\n",
    "        for row in range(self.map_dim-2):\n",
    "            tmpmap.append([0] * self.map_dim)\n",
    "            tmpmap[row + 1][0] = 2\n",
    "            for col in range(self.map_dim-2):\n",
    "                tmpmap[row + 1][col+1] = self._setItem()\n",
    "            tmpmap[row + 1][col+2] = 2\n",
    "        tmpmap.append(bottom)\n",
    "        print(tmpmap)\n",
    "        return tmpmap\n",
    "    \n",
    "    def lookAround(self, pos):\n",
    "        # 只能看到上下左右中, pos是(x, y), 但要注意其实 x是纵轴，y是横轴\n",
    "        x, y = pos\n",
    "        return self.map[x-1][y], self.map[x+1][y], self.map[x][y-1], self.map[x][y+1], self.map[x][y]\n",
    "    \n",
    "    def score(self, act, pos, nowMap):\n",
    "        # 这里实际上是完成了解码和评估两步\n",
    "        # 解决从染色体到具体得分的过程\n",
    "        scoreHash = {\n",
    "            # “动作”: [x或者y, -1或者1] 用-1乘以这个值完成加减的转换\n",
    "            \"up\": [0,1],\n",
    "            \"down\": [0, -1],\n",
    "            \"left\": [1, 1],\n",
    "            \"right\": [1, -1],\n",
    "            \"none\": [0, 0],\n",
    "            \"rand\": [random.randint(0, 1), [-1, 1][random.randint(0, 1)]]\n",
    "        }\n",
    "        posIDX = scoreHash[act][0]\n",
    "        posDelta = scoreHash[act][1]\n",
    "        pos[posIDX] += -1 * posDelta\n",
    "        if act == \"pick\":\n",
    "            return self.pickpunish[nowMap[pos[0]][pos[1]]], pos\n",
    "        elif nowMap[pos[0]][pos[1]] == 2:\n",
    "            # 墙壁无法走过去，所以要还原位置，其实很简单只要把乘数-1去掉就好\n",
    "            pos[posIDX] += posDelta\n",
    "            return -15, pos\n",
    "        return 0, pos\n",
    "    \n",
    "    def _initPos(self):\n",
    "        return random.randint(1, self.map_dim-2), random.randint(1, self.map_dim-2)\n",
    "    \n",
    "    \n",
    "    def genLife(self, nowChromo):\n",
    "        newMap = self.genMap()\n",
    "        pos = self._initPos()\n",
    "        score = 0\n",
    "        for i in range(self.max_step):\n",
    "            envStatus = self.lookAround(pos)\n",
    "            genePOS = self.strategyMX[envStatus]\n",
    "            score_gen, pos = self.score(self.act[nowChromo[genePOS]], pos, newMap)\n",
    "            score += score_gen\n",
    "        return score\n",
    "        \n",
    "    def fitness_func(self, chromosome):\n",
    "        for i in self.generation_max:\n",
    "            for individual in self.individuals:\n",
    "                \n",
    "            \n",
    "        \n"
   ]
  },
  {
   "cell_type": "code",
   "execution_count": 129,
   "metadata": {},
   "outputs": [
    {
     "name": "stdout",
     "output_type": "stream",
     "text": [
      "[[2, 2, 2, 2, 2, 2, 2, 2, 2, 2], [2, 0, 0, 0, 0, 0, 0, 1, 1, 2], [2, 0, 0, 1, 1, 0, 0, 0, 1, 2], [2, 1, 1, 1, 1, 0, 1, 0, 0, 2], [2, 0, 0, 0, 0, 0, 1, 0, 0, 2], [2, 1, 0, 0, 0, 0, 0, 0, 0, 2], [2, 1, 0, 1, 0, 1, 0, 0, 0, 2], [2, 0, 1, 1, 0, 0, 0, 1, 1, 2], [2, 1, 0, 0, 0, 0, 0, 1, 0, 2], [2, 2, 2, 2, 2, 2, 2, 2, 2, 2]]\n",
      "2222222222\n",
      "2000000112\n",
      "2001100012\n",
      "2111101002\n",
      "2000001002\n",
      "2100000002\n",
      "2101010002\n",
      "2011000112\n",
      "2100000102\n",
      "2222222222\n"
     ]
    },
    {
     "data": {
      "text/plain": [
       "(2, 1, 0, 0, 0)"
      ]
     },
     "execution_count": 129,
     "metadata": {},
     "output_type": "execute_result"
    }
   ],
   "source": [
    "m = Population(10, 200, 243, 0.5, 0.3, 1000)\n",
    "# len(m.individuals)\n",
    "# n = m.genMap()\n",
    "for i in m.map:\n",
    "    print(\"\".join(map(str, i)))\n",
    "m.lookAround((1,3))"
   ]
  },
  {
   "cell_type": "code",
   "execution_count": 133,
   "metadata": {},
   "outputs": [
    {
     "data": {
      "text/plain": [
       "((0, 1, 0, 0, 1), [0, 1, 2, 3, 4, 5, 6])"
      ]
     },
     "execution_count": 133,
     "metadata": {},
     "output_type": "execute_result"
    }
   ],
   "source": [
    "m.lookAround((6, 3)), m.strategyMX[m.lookAround((6, 3))]"
   ]
  },
  {
   "cell_type": "code",
   "execution_count": 130,
   "metadata": {},
   "outputs": [
    {
     "data": {
      "text/plain": [
       "(6, 3)"
      ]
     },
     "execution_count": 130,
     "metadata": {},
     "output_type": "execute_result"
    }
   ],
   "source": [
    "m.initPos()"
   ]
  }
 ],
 "metadata": {
  "kernelspec": {
   "display_name": "Python 3",
   "language": "python",
   "name": "python3"
  },
  "language_info": {
   "codemirror_mode": {
    "name": "ipython",
    "version": 3
   },
   "file_extension": ".py",
   "mimetype": "text/x-python",
   "name": "python",
   "nbconvert_exporter": "python",
   "pygments_lexer": "ipython3",
   "version": "3.5.2"
  }
 },
 "nbformat": 4,
 "nbformat_minor": 2
}
