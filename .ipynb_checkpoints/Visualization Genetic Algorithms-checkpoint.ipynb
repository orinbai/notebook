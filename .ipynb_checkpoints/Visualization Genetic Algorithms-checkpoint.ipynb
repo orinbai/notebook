{
 "cells": [
  {
   "cell_type": "code",
   "execution_count": 2,
   "metadata": {},
   "outputs": [],
   "source": [
    "# Visualization Genetic Algorithms"
   ]
  },
  {
   "cell_type": "code",
   "execution_count": 3,
   "metadata": {},
   "outputs": [],
   "source": [
    "import json\n",
    "import numpy as np\n",
    "import pandas as pd\n",
    "import matplotlib.pyplot as plt"
   ]
  },
  {
   "cell_type": "code",
   "execution_count": null,
   "metadata": {},
   "outputs": [],
   "source": [
    "def drawMAP(mapMtx):\n",
    "    # Draw Map\n",
    "    h = 12\n",
    "    plt.rc(\"grid\", linestyle='-', color=\"black\")\n",
    "    plt.grid(True)\n",
    "    plt.show()\n",
    "    "
   ]
  },
  {
   "cell_type": "code",
   "execution_count": 26,
   "metadata": {},
   "outputs": [],
   "source": [
    "with open(\"result/1601384773.mi.res\") as f:\n",
    "    m = json.loads(f.read().split(\"\\t\")[1])"
   ]
  },
  {
   "cell_type": "code",
   "execution_count": 19,
   "metadata": {},
   "outputs": [
    {
     "data": {
      "text/plain": [
       "[257.3611111111111, 259.25, 253.73611111111111, 252.75]"
      ]
     },
     "execution_count": 19,
     "metadata": {},
     "output_type": "execute_result"
    }
   ],
   "source": [
    "n = pd.DataFrame(m[\"chromosome\"])\n",
    "m[\"fitness\"]"
   ]
  },
  {
   "cell_type": "code",
   "execution_count": 28,
   "metadata": {},
   "outputs": [
    {
     "name": "stdout",
     "output_type": "stream",
     "text": [
      "4603652651653414610650321001603642101641660143433141422632645622632612220600442140660422650633612620\n",
      "4603652651653414610620321041663442101641660143433141432632645022632612230600442140660422650633642650\n",
      "4603652651653414610650321001603642101641660143433321022652405022632612630600442140660422650633612250\n",
      "4603652651653414610650321001603642101641660143433141422632645622632612220600442140660422650633612620\n"
     ]
    }
   ],
   "source": [
    "for i in m[\"chromosome\"]:\n",
    "    print(\"\".join(list(map(str, i[:100]))))"
   ]
  },
  {
   "cell_type": "code",
   "execution_count": 30,
   "metadata": {},
   "outputs": [
    {
     "data": {
      "text/plain": [
       "False"
      ]
     },
     "execution_count": 30,
     "metadata": {},
     "output_type": "execute_result"
    }
   ],
   "source": [
    "m[\"chromosome\"][0] == m[\"chromosome\"][3]\n",
    "print(\"\".join(list(map(str, i))))"
   ]
  }
 ],
 "metadata": {
  "kernelspec": {
   "display_name": "Python 3",
   "language": "python",
   "name": "python3"
  },
  "language_info": {
   "codemirror_mode": {
    "name": "ipython",
    "version": 3
   },
   "file_extension": ".py",
   "mimetype": "text/x-python",
   "name": "python",
   "nbconvert_exporter": "python",
   "pygments_lexer": "ipython3",
   "version": "3.5.2"
  }
 },
 "nbformat": 4,
 "nbformat_minor": 2
}
