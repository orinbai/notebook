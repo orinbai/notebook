{
 "cells": [
  {
   "cell_type": "code",
   "execution_count": 1,
   "metadata": {
    "execution": {
     "iopub.status.idle": "2021-02-09T10:27:59.201837Z",
     "shell.execute_reply": "2021-02-09T10:27:59.201008Z",
     "shell.execute_reply.started": "2021-02-09T10:27:58.429432Z"
    }
   },
   "outputs": [],
   "source": [
    "import pandas as pd\n",
    "import matplotlib.pyplot as plt\n",
    "import pandas_bokeh as pb\n",
    "# from bokeh.plotting import figure, show\n",
    "# from bokeh.io import output_notebook, export_png, output_file\n",
    "# from bokeh.layouts import row, gridplot\n",
    "# from bokeh.models import ColumnDataSource\n",
    "import numpy as np\n",
    "import random\n",
    "import datetime\n",
    "# import seaborn as sns; sns.set()\n",
    "# %matplotlib inline\n",
    "# pb.output_notebook()\n",
    "# output_notebook()"
   ]
  },
  {
   "cell_type": "code",
   "execution_count": 2,
   "metadata": {
    "execution": {
     "iopub.execute_input": "2021-02-09T10:27:59.203688Z",
     "iopub.status.busy": "2021-02-09T10:27:59.203477Z",
     "iopub.status.idle": "2021-02-09T10:27:59.207268Z",
     "shell.execute_reply": "2021-02-09T10:27:59.206476Z",
     "shell.execute_reply.started": "2021-02-09T10:27:59.203651Z"
    }
   },
   "outputs": [],
   "source": [
    "starttime = datetime.datetime.now()"
   ]
  },
  {
   "cell_type": "code",
   "execution_count": 3,
   "metadata": {
    "execution": {
     "iopub.execute_input": "2021-02-09T10:27:59.208926Z",
     "iopub.status.busy": "2021-02-09T10:27:59.208742Z",
     "iopub.status.idle": "2021-02-09T10:27:59.228128Z",
     "shell.execute_reply": "2021-02-09T10:27:59.226754Z",
     "shell.execute_reply.started": "2021-02-09T10:27:59.208902Z"
    }
   },
   "outputs": [],
   "source": [
    "# 已知规则\n",
    "# 1. 客户来源_原始 如果该字段为空，则自动填充为 展厅"
   ]
  },
  {
   "cell_type": "code",
   "execution_count": 4,
   "metadata": {
    "execution": {
     "iopub.execute_input": "2021-02-09T10:27:59.229911Z",
     "iopub.status.busy": "2021-02-09T10:27:59.229510Z",
     "iopub.status.idle": "2021-02-09T10:27:59.248106Z",
     "shell.execute_reply": "2021-02-09T10:27:59.246753Z",
     "shell.execute_reply.started": "2021-02-09T10:27:59.229848Z"
    }
   },
   "outputs": [],
   "source": [
    "filename = 'potential.202101.pkl'\n",
    "monstr = filename.split('.')[1]"
   ]
  },
  {
   "cell_type": "code",
   "execution_count": 5,
   "metadata": {
    "execution": {
     "iopub.execute_input": "2021-02-09T10:27:59.249756Z",
     "iopub.status.busy": "2021-02-09T10:27:59.249375Z",
     "iopub.status.idle": "2021-02-09T10:27:59.309794Z",
     "shell.execute_reply": "2021-02-09T10:27:59.308665Z",
     "shell.execute_reply.started": "2021-02-09T10:27:59.249696Z"
    }
   },
   "outputs": [],
   "source": [
    "databookALL = pd.read_pickle(\"Data/AudiPotentialCustomer/History/%s\" % filename, compression='bz2')"
   ]
  },
  {
   "cell_type": "code",
   "execution_count": 6,
   "metadata": {
    "execution": {
     "iopub.execute_input": "2021-02-09T10:27:59.310693Z",
     "iopub.status.busy": "2021-02-09T10:27:59.310516Z",
     "iopub.status.idle": "2021-02-09T10:27:59.315946Z",
     "shell.execute_reply": "2021-02-09T10:27:59.315055Z",
     "shell.execute_reply.started": "2021-02-09T10:27:59.310668Z"
    }
   },
   "outputs": [],
   "source": [
    "# databook = databookALL.drop(['车型', '大区', '客户来源更新', '月份'], axis=1)\n",
    "databook = databookALL.copy()"
   ]
  },
  {
   "cell_type": "code",
   "execution_count": 7,
   "metadata": {
    "execution": {
     "iopub.execute_input": "2021-02-09T10:27:59.316867Z",
     "iopub.status.busy": "2021-02-09T10:27:59.316689Z",
     "iopub.status.idle": "2021-02-09T10:27:59.343583Z",
     "shell.execute_reply": "2021-02-09T10:27:59.342208Z",
     "shell.execute_reply.started": "2021-02-09T10:27:59.316843Z"
    }
   },
   "outputs": [
    {
     "data": {
      "text/plain": [
       "338134"
      ]
     },
     "execution_count": 7,
     "metadata": {},
     "output_type": "execute_result"
    }
   ],
   "source": [
    "databookALL['潜客量'].sum()"
   ]
  },
  {
   "cell_type": "code",
   "execution_count": 8,
   "metadata": {
    "execution": {
     "iopub.execute_input": "2021-02-09T10:27:59.347103Z",
     "iopub.status.busy": "2021-02-09T10:27:59.346902Z",
     "iopub.status.idle": "2021-02-09T10:27:59.449711Z",
     "shell.execute_reply": "2021-02-09T10:27:59.448741Z",
     "shell.execute_reply.started": "2021-02-09T10:27:59.347077Z"
    }
   },
   "outputs": [],
   "source": [
    "# setting.xlsx 格式\n",
    "# 每个sheet的名字会被用来作为字段映射时的字典名，所以最好用英文，比如现在setting里的sheet名就是\"cartype\",\"bigarea\"\n",
    "# 同时，sheet的内容是一个字段的映射关系，比如 大区名称->大区\n",
    "#      A    B\n",
    "#  1  东北区 A1\n",
    "# 这样读取的时候就可以按照下面去读了\n",
    "tExcel = pd.read_excel(\"Data/AudiPotentialCustomer/settingALL.xlsx\", sheet_name=None)"
   ]
  },
  {
   "cell_type": "code",
   "execution_count": 9,
   "metadata": {
    "execution": {
     "iopub.execute_input": "2021-02-09T10:27:59.452266Z",
     "iopub.status.busy": "2021-02-09T10:27:59.452059Z",
     "iopub.status.idle": "2021-02-09T10:27:59.457967Z",
     "shell.execute_reply": "2021-02-09T10:27:59.456859Z",
     "shell.execute_reply.started": "2021-02-09T10:27:59.452240Z"
    }
   },
   "outputs": [],
   "source": [
    "# 这里settingHash就是未来做dataframe.map()用的\n",
    "settingHash = {}\n",
    "for keys in tExcel:\n",
    "    settingHash[keys] = dict(tExcel[keys].values)"
   ]
  },
  {
   "cell_type": "code",
   "execution_count": 10,
   "metadata": {
    "execution": {
     "iopub.execute_input": "2021-02-09T10:27:59.459425Z",
     "iopub.status.busy": "2021-02-09T10:27:59.458947Z",
     "iopub.status.idle": "2021-02-09T10:27:59.480336Z",
     "shell.execute_reply": "2021-02-09T10:27:59.478998Z",
     "shell.execute_reply.started": "2021-02-09T10:27:59.459378Z"
    }
   },
   "outputs": [
    {
     "data": {
      "text/plain": [
       "odict_keys(['city', 'cname', 'bigarea', 'cartype'])"
      ]
     },
     "execution_count": 10,
     "metadata": {},
     "output_type": "execute_result"
    }
   ],
   "source": [
    "tExcel.keys()"
   ]
  },
  {
   "cell_type": "code",
   "execution_count": 11,
   "metadata": {
    "execution": {
     "iopub.execute_input": "2021-02-09T10:27:59.482293Z",
     "iopub.status.busy": "2021-02-09T10:27:59.481867Z",
     "iopub.status.idle": "2021-02-09T10:27:59.524117Z",
     "shell.execute_reply": "2021-02-09T10:27:59.523029Z",
     "shell.execute_reply.started": "2021-02-09T10:27:59.482238Z"
    }
   },
   "outputs": [],
   "source": [
    "# 客户来源_原始 中 所有NaN值 都会赋值为展厅\n",
    "databook['客户来源更新'] = databook['客户来源_原始'].fillna('展厅')\n",
    "\n",
    "databook['车型new'] = databook['分组名称'].map(settingHash['cartype'])"
   ]
  },
  {
   "cell_type": "code",
   "execution_count": 12,
   "metadata": {
    "execution": {
     "iopub.execute_input": "2021-02-09T10:27:59.524943Z",
     "iopub.status.busy": "2021-02-09T10:27:59.524774Z",
     "iopub.status.idle": "2021-02-09T10:27:59.528882Z",
     "shell.execute_reply": "2021-02-09T10:27:59.527921Z",
     "shell.execute_reply.started": "2021-02-09T10:27:59.524920Z"
    }
   },
   "outputs": [],
   "source": [
    "# (2021-02-08) 保存原始车型信息，所以不用考虑空值\n",
    "# map的方式举例，m没用，但是建议将其保留，备以后查\n",
    "# 当有新的车型进来时，可以在这里看到。\n",
    "# m = pd.DataFrame({'a':databook['分组名称'].head(200), 'b':databook['分组名称'].head(200)})\n",
    "# m['b'] = m['a'].map(settingHash['cartype'])\n",
    "# m.drop_duplicates(['a','b'],  'first')"
   ]
  },
  {
   "cell_type": "code",
   "execution_count": 13,
   "metadata": {
    "execution": {
     "iopub.execute_input": "2021-02-09T10:27:59.529758Z",
     "iopub.status.busy": "2021-02-09T10:27:59.529583Z",
     "iopub.status.idle": "2021-02-09T10:27:59.549898Z",
     "shell.execute_reply": "2021-02-09T10:27:59.549032Z",
     "shell.execute_reply.started": "2021-02-09T10:27:59.529735Z"
    }
   },
   "outputs": [],
   "source": [
    "def transArr(df):\n",
    "    # 将 [[A4L, 10], [A6, 5]], 这种类型的改成10个A4L，5个A6\n",
    "    # [A4L, A4L, A4L, A4L, A4L, A4L, A4L, A4L, A4L, A4L, A6, A6, A6, A6, A6]\n",
    "    # 方便后面按照随机取数出来，这样取出来应该就是这种分布\n",
    "    tmp = []\n",
    "    for idx, row in df.iterrows():\n",
    "        tmp.extend([row['车型new']] * row['潜客量'])\n",
    "    return tmp"
   ]
  },
  {
   "cell_type": "code",
   "execution_count": 14,
   "metadata": {
    "execution": {
     "iopub.execute_input": "2021-02-09T10:27:59.551128Z",
     "iopub.status.busy": "2021-02-09T10:27:59.550853Z",
     "iopub.status.idle": "2021-02-09T10:27:59.572941Z",
     "shell.execute_reply": "2021-02-09T10:27:59.571607Z",
     "shell.execute_reply.started": "2021-02-09T10:27:59.551091Z"
    }
   },
   "outputs": [],
   "source": [
    "# 清空dataMiss时，要用这种办法\n",
    "# dataMiss.drop(dataMiss.index, inplace=True)"
   ]
  },
  {
   "cell_type": "code",
   "execution_count": 15,
   "metadata": {
    "execution": {
     "iopub.execute_input": "2021-02-09T10:27:59.574868Z",
     "iopub.status.busy": "2021-02-09T10:27:59.574261Z",
     "iopub.status.idle": "2021-02-09T10:27:59.590495Z",
     "shell.execute_reply": "2021-02-09T10:27:59.589620Z",
     "shell.execute_reply.started": "2021-02-09T10:27:59.574815Z"
    }
   },
   "outputs": [],
   "source": [
    "def genNewData(dCode, cSource, nowPOS):\n",
    "    # dCode 经销商代码\n",
    "    # cSource 客户来源更新\n",
    "    # 进来后再做循环\n",
    "    # 这里需要注意，dataMiss到底有哪些列\n",
    "    tmpArr = transArr(dataCOMPUTed[(dataCOMPUTed['经销商代码']==dCode)&(dataCOMPUTed['客户来源更新']==cSource)&(dataCOMPUTed['潜客量']>0)][['车型new', '潜客量']])\n",
    "    for idx, row in dataBYday[(dataBYday['经销商代码']==dCode)&(dataBYday['客户来源更新']==cSource)].iterrows():\n",
    "        toDel = []\n",
    "        for aIDX in random.sample(range(len(tmpArr)), int(row['潜客量'])):\n",
    "            dataMiss.loc[nowPOS] = [\n",
    "                pd.to_datetime(row['日期']),\n",
    "                row['大区名称'],\n",
    "                row['小区名称'],\n",
    "                row['经销商代码'],\n",
    "                1,\n",
    "                row['客户来源更新'],\n",
    "                tmpArr[aIDX]\n",
    "            ]\n",
    "            nowPOS +=1 \n",
    "            toDel.append(aIDX)\n",
    "        for i in sorted(toDel, reverse=True):\n",
    "            del(tmpArr[i])\n",
    "    return nowPOS"
   ]
  },
  {
   "cell_type": "code",
   "execution_count": 16,
   "metadata": {
    "execution": {
     "iopub.execute_input": "2021-02-09T10:27:59.591276Z",
     "iopub.status.busy": "2021-02-09T10:27:59.591106Z",
     "iopub.status.idle": "2021-02-09T10:27:59.617132Z",
     "shell.execute_reply": "2021-02-09T10:27:59.616023Z",
     "shell.execute_reply.started": "2021-02-09T10:27:59.591253Z"
    }
   },
   "outputs": [],
   "source": [
    "def tempDF(lvl, df):\n",
    "    tmp = df[[lvl, '客户来源更新', '车型new', '潜客量']].copy()\n",
    "    tmp = tmp.groupby([lvl, '客户来源更新', '车型new'])['潜客量'].sum().reset_index()\n",
    "    tmp['%s汇总' % lvl] = tmp.groupby([lvl, '客户来源更新'])['潜客量'].transform('sum')\n",
    "    tmp['车型占比'] = tmp['潜客量']/tmp['%s汇总' % lvl]\n",
    "    tmp.drop(['潜客量', '%s汇总' % lvl], axis=1, inplace=True)\n",
    "    return tmp"
   ]
  },
  {
   "cell_type": "code",
   "execution_count": 17,
   "metadata": {
    "execution": {
     "iopub.execute_input": "2021-02-09T10:27:59.618475Z",
     "iopub.status.busy": "2021-02-09T10:27:59.618153Z",
     "iopub.status.idle": "2021-02-09T10:27:59.634246Z",
     "shell.execute_reply": "2021-02-09T10:27:59.633524Z",
     "shell.execute_reply.started": "2021-02-09T10:27:59.618434Z"
    }
   },
   "outputs": [],
   "source": [
    "def batDraw(lvl):\n",
    "    graphics = []\n",
    "    vals = list(getIDX(lvl, dataUSEstd))\n",
    "    df_o = tempDF(lvl, dataUSEstd)\n",
    "    df_c = tempDF(lvl, dataEsti)\n",
    "\n",
    "    for t in [\"展厅\", \"线上\"]:\n",
    "        tmp = []\n",
    "        for i in vals:\n",
    "            tmp.append(drawGraph(\n",
    "                df_o[(df_o[lvl]==i)&(df_o['客户来源更新']==t)][['车型new', '车型占比']],\n",
    "                df_c[(df_c[lvl]==i)&(df_c['客户来源更新']==t)][['车型new', '车型占比']],\n",
    "                '%s %s' % (i, t)\n",
    "            ))\n",
    "        graphics.append(tmp)\n",
    "\n",
    "    return graphics"
   ]
  },
  {
   "cell_type": "code",
   "execution_count": 18,
   "metadata": {
    "execution": {
     "iopub.execute_input": "2021-02-09T10:27:59.635030Z",
     "iopub.status.busy": "2021-02-09T10:27:59.634864Z",
     "iopub.status.idle": "2021-02-09T10:27:59.657678Z",
     "shell.execute_reply": "2021-02-09T10:27:59.656152Z",
     "shell.execute_reply.started": "2021-02-09T10:27:59.635008Z"
    }
   },
   "outputs": [],
   "source": [
    "def drawGraph(se1, se2, title='aa'):\n",
    "    tmpdf = se1.merge(se2, on=['车型new'], suffixes=['_origin', '_fix'])\n",
    "    tmpdf.set_index(['车型new'], inplace=True)\n",
    "    m = tmpdf.plot_bokeh(kind='barh', legend='top_right', title=title, show_figure=False, zooming=False)\n",
    "    return m"
   ]
  },
  {
   "cell_type": "code",
   "execution_count": 19,
   "metadata": {
    "execution": {
     "iopub.execute_input": "2021-02-09T10:27:59.659244Z",
     "iopub.status.busy": "2021-02-09T10:27:59.658892Z",
     "iopub.status.idle": "2021-02-09T10:27:59.674635Z",
     "shell.execute_reply": "2021-02-09T10:27:59.673668Z",
     "shell.execute_reply.started": "2021-02-09T10:27:59.659197Z"
    }
   },
   "outputs": [],
   "source": [
    "def resetType(ser):\n",
    "    if pd.isnull(ser['分组名称']):\n",
    "        return np.nan\n",
    "    else:\n",
    "        return ser['车型']"
   ]
  },
  {
   "cell_type": "code",
   "execution_count": 20,
   "metadata": {
    "execution": {
     "iopub.execute_input": "2021-02-09T10:27:59.676464Z",
     "iopub.status.busy": "2021-02-09T10:27:59.676064Z",
     "iopub.status.idle": "2021-02-09T10:27:59.696516Z",
     "shell.execute_reply": "2021-02-09T10:27:59.694868Z",
     "shell.execute_reply.started": "2021-02-09T10:27:59.676411Z"
    }
   },
   "outputs": [],
   "source": [
    "def covTypes(df):\n",
    "    for col in df.columns:\n",
    "        if col == '潜客量':\n",
    "            df[col] = df[col].astype('int32')\n",
    "        elif col== '日期':\n",
    "            continue\n",
    "        else:\n",
    "            df[col] = df[col].astype('category')"
   ]
  },
  {
   "cell_type": "code",
   "execution_count": 21,
   "metadata": {
    "execution": {
     "iopub.execute_input": "2021-02-09T10:27:59.698420Z",
     "iopub.status.busy": "2021-02-09T10:27:59.698031Z",
     "iopub.status.idle": "2021-02-09T10:27:59.718911Z",
     "shell.execute_reply": "2021-02-09T10:27:59.717479Z",
     "shell.execute_reply.started": "2021-02-09T10:27:59.698369Z"
    }
   },
   "outputs": [],
   "source": [
    "def getIDX(cName, df, c=6):\n",
    "    # 在df[cName]的最高30%里，随机取c个作为输出\n",
    "    # 用于将来的分布验证\n",
    "    tmp = df[[cName, '潜客量']].groupby([cName])['潜客量'].sum().reset_index()\n",
    "    tmplist = df[cName].unique()\n",
    "    if int(len(tmplist)*0.3) <= c:\n",
    "        tmpidx = tmp.sort_values(by='潜客量', ascending=False).index.values\n",
    "    else:\n",
    "        tmpidx = tmp.sort_values(by='潜客量', ascending=False)[:int(len(tmplist)*0.3)].index.values\n",
    "    return np.array(tmp[cName].iloc[random.sample(list(tmpidx), c)])"
   ]
  },
  {
   "cell_type": "code",
   "execution_count": 22,
   "metadata": {
    "execution": {
     "iopub.execute_input": "2021-02-09T10:27:59.720234Z",
     "iopub.status.busy": "2021-02-09T10:27:59.719945Z",
     "iopub.status.idle": "2021-02-09T10:27:59.741700Z",
     "shell.execute_reply": "2021-02-09T10:27:59.740935Z",
     "shell.execute_reply.started": "2021-02-09T10:27:59.720195Z"
    }
   },
   "outputs": [],
   "source": [
    "def balanceCom(rows):\n",
    "    # 根据差值选择计算方式\n",
    "    if rows['差值'] < 0:\n",
    "        if rows['已进位'] and rows['顺序']+rows['差值']<=0:\n",
    "            return rows['预计算潜客2'] - 1\n",
    "    elif rows['差值'] > 0:\n",
    "        if (not rows['已进位']) and rows['顺序'] - rows['差值'] <= 0:\n",
    "            return rows['预计算潜客2'] + 1\n",
    "    return rows['预计算潜客2']"
   ]
  },
  {
   "cell_type": "code",
   "execution_count": 23,
   "metadata": {
    "execution": {
     "iopub.execute_input": "2021-02-09T10:27:59.746568Z",
     "iopub.status.busy": "2021-02-09T10:27:59.746341Z",
     "iopub.status.idle": "2021-02-09T10:27:59.768171Z",
     "shell.execute_reply": "2021-02-09T10:27:59.766963Z",
     "shell.execute_reply.started": "2021-02-09T10:27:59.746540Z"
    }
   },
   "outputs": [],
   "source": [
    "def getColumns(col, vals,ty):\n",
    "    # 获取画图的列\n",
    "    oriData = dataUSEstd[(dataUSEstd[col]==vals)&(dataUSEstd['客户来源更新']==ty)][['车型new', '车型占比']]\n",
    "    comData = dataEsti[(dataEsti[col]==vals)&(dataEsti['客户来源更新']==ty)][['车型new', '车型占比']]\n",
    "    # oriData = statRES(col, dataUSEstd)[]\n",
    "    return oriData.merge(comData, on='车型new', suffixes=['_origin', '_fix'])"
   ]
  },
  {
   "cell_type": "code",
   "execution_count": 24,
   "metadata": {
    "execution": {
     "iopub.execute_input": "2021-02-09T10:27:59.773239Z",
     "iopub.status.busy": "2021-02-09T10:27:59.772946Z",
     "iopub.status.idle": "2021-02-09T10:27:59.815112Z",
     "shell.execute_reply": "2021-02-09T10:27:59.814044Z",
     "shell.execute_reply.started": "2021-02-09T10:27:59.773201Z"
    }
   },
   "outputs": [],
   "source": [
    "# 这里确实要删掉 分组名称，因为分组和车型new是多对一，如果不删，将来merge回来时，分组名称会为NaN\n",
    "dataAvailable = databook[databook['车型new'].notna()]\n",
    "dataAvailable = dataAvailable.drop(['分组名称', '客户来源_原始'], axis=1)"
   ]
  },
  {
   "cell_type": "code",
   "execution_count": 25,
   "metadata": {
    "execution": {
     "iopub.execute_input": "2021-02-09T10:27:59.816047Z",
     "iopub.status.busy": "2021-02-09T10:27:59.815874Z",
     "iopub.status.idle": "2021-02-09T10:27:59.830787Z",
     "shell.execute_reply": "2021-02-09T10:27:59.829982Z",
     "shell.execute_reply.started": "2021-02-09T10:27:59.816022Z"
    }
   },
   "outputs": [
    {
     "data": {
      "text/plain": [
       "(303777, 34357)"
      ]
     },
     "execution_count": 25,
     "metadata": {},
     "output_type": "execute_result"
    }
   ],
   "source": [
    "dataAvailable['潜客量'].sum(), databook[databook['车型new'].isna()]['潜客量'].sum()"
   ]
  },
  {
   "cell_type": "code",
   "execution_count": 26,
   "metadata": {
    "execution": {
     "iopub.execute_input": "2021-02-09T10:27:59.831742Z",
     "iopub.status.busy": "2021-02-09T10:27:59.831570Z",
     "iopub.status.idle": "2021-02-09T10:27:59.844327Z",
     "shell.execute_reply": "2021-02-09T10:27:59.843293Z",
     "shell.execute_reply.started": "2021-02-09T10:27:59.831718Z"
    }
   },
   "outputs": [],
   "source": [
    "dataMiss = pd.DataFrame(columns=list(dataAvailable.columns))"
   ]
  },
  {
   "cell_type": "code",
   "execution_count": 27,
   "metadata": {
    "execution": {
     "iopub.execute_input": "2021-02-09T10:27:59.845545Z",
     "iopub.status.busy": "2021-02-09T10:27:59.845310Z",
     "iopub.status.idle": "2021-02-09T10:27:59.866575Z",
     "shell.execute_reply": "2021-02-09T10:27:59.865569Z",
     "shell.execute_reply.started": "2021-02-09T10:27:59.845513Z"
    }
   },
   "outputs": [],
   "source": [
    "# dataUSE = databook[['客户来源更新', '大区名称', '小区名称', '城市', '经销商代码', '车型new', '潜客量']].copy()\n",
    "dataUSE = databook[['大区名称', '小区名称', '经销商代码', '潜客量', '客户来源更新', '车型new']]"
   ]
  },
  {
   "cell_type": "code",
   "execution_count": 28,
   "metadata": {
    "execution": {
     "iopub.execute_input": "2021-02-09T10:27:59.868434Z",
     "iopub.status.busy": "2021-02-09T10:27:59.868082Z",
     "iopub.status.idle": "2021-02-09T10:27:59.894925Z",
     "shell.execute_reply": "2021-02-09T10:27:59.893551Z",
     "shell.execute_reply.started": "2021-02-09T10:27:59.868386Z"
    }
   },
   "outputs": [
    {
     "name": "stdout",
     "output_type": "stream",
     "text": [
      "6 56 578\n"
     ]
    }
   ],
   "source": [
    "# cityLIST = dataUSE['城市'].unique()\n",
    "area1LIST = dataUSE['大区名称'].unique()\n",
    "area2LIST = dataUSE['小区名称'].unique()\n",
    "dealerLIST = dataUSE['经销商代码'].unique()\n",
    "print(len(area1LIST), len(area2LIST), len(dealerLIST))#, len(cityLIST)"
   ]
  },
  {
   "cell_type": "code",
   "execution_count": 29,
   "metadata": {
    "execution": {
     "iopub.execute_input": "2021-02-09T10:27:59.896163Z",
     "iopub.status.busy": "2021-02-09T10:27:59.895965Z",
     "iopub.status.idle": "2021-02-09T10:27:59.907614Z",
     "shell.execute_reply": "2021-02-09T10:27:59.906423Z",
     "shell.execute_reply.started": "2021-02-09T10:27:59.896126Z"
    }
   },
   "outputs": [],
   "source": [
    "monthDays = len(databook['日期'].unique())"
   ]
  },
  {
   "cell_type": "code",
   "execution_count": 30,
   "metadata": {
    "execution": {
     "iopub.execute_input": "2021-02-09T10:27:59.908554Z",
     "iopub.status.busy": "2021-02-09T10:27:59.908349Z",
     "iopub.status.idle": "2021-02-09T10:27:59.950252Z",
     "shell.execute_reply": "2021-02-09T10:27:59.949131Z",
     "shell.execute_reply.started": "2021-02-09T10:27:59.908526Z"
    }
   },
   "outputs": [],
   "source": [
    "dataBYday = databook[databook['车型new'].isna()].groupby(['日期', '大区名称', '小区名称', '经销商代码', '客户来源更新'])['潜客量'].sum().reset_index()"
   ]
  },
  {
   "cell_type": "code",
   "execution_count": 31,
   "metadata": {
    "execution": {
     "iopub.execute_input": "2021-02-09T10:27:59.951221Z",
     "iopub.status.busy": "2021-02-09T10:27:59.951024Z",
     "iopub.status.idle": "2021-02-09T10:27:59.954653Z",
     "shell.execute_reply": "2021-02-09T10:27:59.953811Z",
     "shell.execute_reply.started": "2021-02-09T10:27:59.951185Z"
    }
   },
   "outputs": [],
   "source": [
    "# 计算 经销商 客户来源 和车型 的group by sum，去掉日期来计算概率\n",
    "# sum(经销商、客户来源、车型)/monthDays 这就是某经销商在某来源下车型出现的概率\n",
    "# dealerDISTbd.groupby([\"经销商代码\", \"客户来源更新\", \"车型new\", \"日期\"])[\"潜客量\"].sum().reset_index()\n",
    "# 按日的做起来太麻烦所以不用这个了"
   ]
  },
  {
   "cell_type": "code",
   "execution_count": 32,
   "metadata": {
    "execution": {
     "iopub.execute_input": "2021-02-09T10:27:59.955560Z",
     "iopub.status.busy": "2021-02-09T10:27:59.955382Z",
     "iopub.status.idle": "2021-02-09T10:28:00.004621Z",
     "shell.execute_reply": "2021-02-09T10:28:00.003453Z",
     "shell.execute_reply.started": "2021-02-09T10:27:59.955536Z"
    }
   },
   "outputs": [],
   "source": [
    "dataUSEstd = dataUSE[dataUSE['车型new'].notna()]\n",
    "dataUSE2b = dataUSE[dataUSE['车型new'].isna()]"
   ]
  },
  {
   "cell_type": "code",
   "execution_count": 33,
   "metadata": {
    "execution": {
     "iopub.execute_input": "2021-02-09T10:28:00.005544Z",
     "iopub.status.busy": "2021-02-09T10:28:00.005371Z",
     "iopub.status.idle": "2021-02-09T10:28:00.036044Z",
     "shell.execute_reply": "2021-02-09T10:28:00.035016Z",
     "shell.execute_reply.started": "2021-02-09T10:28:00.005520Z"
    }
   },
   "outputs": [],
   "source": [
    "# 汇总车型数据\n",
    "dataUSEstd = dataUSEstd.groupby(['大区名称', '小区名称', '经销商代码', '客户来源更新', '车型new'])['潜客量'].sum().reset_index()"
   ]
  },
  {
   "cell_type": "code",
   "execution_count": 34,
   "metadata": {
    "execution": {
     "iopub.execute_input": "2021-02-09T10:28:00.037143Z",
     "iopub.status.busy": "2021-02-09T10:28:00.036956Z",
     "iopub.status.idle": "2021-02-09T10:28:00.046352Z",
     "shell.execute_reply": "2021-02-09T10:28:00.045309Z",
     "shell.execute_reply.started": "2021-02-09T10:28:00.037118Z"
    }
   },
   "outputs": [],
   "source": [
    "# (2021-02-08)创建一个基于车型的城市分布，这里改成 大区分布 \n",
    "# 因为后续会有部分经销商没有对应 \"客户来源更新\" 的分布，比如某些经销商没有线上的已有数据作为基准，这时就用城市的替换\n",
    "# dataCITYstd = dataUSEstd.groupby(['城市', '客户来源更新', '车型new'])['潜客量'].sum().reset_index()\n",
    "dataCITYstd = dataUSEstd.groupby(['大区名称', '车型new'])['潜客量'].sum().reset_index()"
   ]
  },
  {
   "cell_type": "code",
   "execution_count": 35,
   "metadata": {
    "execution": {
     "iopub.execute_input": "2021-02-09T10:28:00.047377Z",
     "iopub.status.busy": "2021-02-09T10:28:00.047197Z",
     "iopub.status.idle": "2021-02-09T10:28:00.089470Z",
     "shell.execute_reply": "2021-02-09T10:28:00.088686Z",
     "shell.execute_reply.started": "2021-02-09T10:28:00.047353Z"
    }
   },
   "outputs": [],
   "source": [
    "# 可能存在来源更新没有的情况，处理起来太复杂，直接用城市了\n",
    "# dataCITYstd['城市汇总'] = dataCITYstd.groupby(['城市', '客户来源更新'])['潜客量'].transform('sum')\n",
    "dataCITYstd['大区汇总'] = dataCITYstd.groupby(['大区名称'])['潜客量'].transform('sum')\n",
    "dataCITYstd['车型占比'] = dataCITYstd['潜客量']/ dataCITYstd['大区汇总']"
   ]
  },
  {
   "cell_type": "code",
   "execution_count": 36,
   "metadata": {
    "execution": {
     "iopub.execute_input": "2021-02-09T10:28:00.090457Z",
     "iopub.status.busy": "2021-02-09T10:28:00.090232Z",
     "iopub.status.idle": "2021-02-09T10:28:00.102853Z",
     "shell.execute_reply": "2021-02-09T10:28:00.102070Z",
     "shell.execute_reply.started": "2021-02-09T10:28:00.090432Z"
    }
   },
   "outputs": [],
   "source": [
    "dataUSEstd['dealer汇总'] = dataUSEstd.groupby(['大区名称', '小区名称', '经销商代码', '客户来源更新'])['潜客量'].transform('sum')\n",
    "dataUSEstd['车型占比'] = dataUSEstd['潜客量']/dataUSEstd['dealer汇总']\n",
    "dataUSEstd['日均概率'] = dataUSEstd['潜客量']/monthDays"
   ]
  },
  {
   "cell_type": "code",
   "execution_count": 37,
   "metadata": {
    "execution": {
     "iopub.execute_input": "2021-02-09T10:28:00.103779Z",
     "iopub.status.busy": "2021-02-09T10:28:00.103602Z",
     "iopub.status.idle": "2021-02-09T10:28:00.125887Z",
     "shell.execute_reply": "2021-02-09T10:28:00.124667Z",
     "shell.execute_reply.started": "2021-02-09T10:28:00.103755Z"
    }
   },
   "outputs": [],
   "source": [
    "dataUSE2b = dataUSE2b.groupby(['大区名称', '小区名称', '经销商代码', '客户来源更新'])['潜客量'].sum().reset_index()"
   ]
  },
  {
   "cell_type": "code",
   "execution_count": 38,
   "metadata": {
    "execution": {
     "iopub.execute_input": "2021-02-09T10:28:00.127026Z",
     "iopub.status.busy": "2021-02-09T10:28:00.126826Z",
     "iopub.status.idle": "2021-02-09T10:28:00.135792Z",
     "shell.execute_reply": "2021-02-09T10:28:00.135123Z",
     "shell.execute_reply.started": "2021-02-09T10:28:00.127002Z"
    },
    "scrolled": true
   },
   "outputs": [],
   "source": [
    "datatmp = dataUSE2b.copy()"
   ]
  },
  {
   "cell_type": "code",
   "execution_count": 39,
   "metadata": {
    "execution": {
     "iopub.execute_input": "2021-02-09T10:28:00.136675Z",
     "iopub.status.busy": "2021-02-09T10:28:00.136496Z",
     "iopub.status.idle": "2021-02-09T10:28:00.171190Z",
     "shell.execute_reply": "2021-02-09T10:28:00.170387Z",
     "shell.execute_reply.started": "2021-02-09T10:28:00.136650Z"
    }
   },
   "outputs": [],
   "source": [
    "datatmp = datatmp.merge(dataUSEstd[[\"经销商代码\", \"客户来源更新\", \"车型new\", \"车型占比\"]], on=[\"经销商代码\", \"客户来源更新\"], how='left')"
   ]
  },
  {
   "cell_type": "code",
   "execution_count": 40,
   "metadata": {
    "execution": {
     "iopub.execute_input": "2021-02-09T10:28:00.172123Z",
     "iopub.status.busy": "2021-02-09T10:28:00.171946Z",
     "iopub.status.idle": "2021-02-09T10:28:00.180395Z",
     "shell.execute_reply": "2021-02-09T10:28:00.179537Z",
     "shell.execute_reply.started": "2021-02-09T10:28:00.172098Z"
    }
   },
   "outputs": [],
   "source": [
    "noneSTD = datatmp[datatmp['车型占比'].isna()]"
   ]
  },
  {
   "cell_type": "code",
   "execution_count": 41,
   "metadata": {
    "execution": {
     "iopub.execute_input": "2021-02-09T10:28:00.181493Z",
     "iopub.status.busy": "2021-02-09T10:28:00.181284Z",
     "iopub.status.idle": "2021-02-09T10:28:00.199647Z",
     "shell.execute_reply": "2021-02-09T10:28:00.199057Z",
     "shell.execute_reply.started": "2021-02-09T10:28:00.181465Z"
    }
   },
   "outputs": [],
   "source": [
    "datatmp = datatmp[datatmp['车型占比'].notna()]"
   ]
  },
  {
   "cell_type": "code",
   "execution_count": 42,
   "metadata": {
    "execution": {
     "iopub.execute_input": "2021-02-09T10:28:00.200598Z",
     "iopub.status.busy": "2021-02-09T10:28:00.200326Z",
     "iopub.status.idle": "2021-02-09T10:28:00.264715Z",
     "shell.execute_reply": "2021-02-09T10:28:00.263983Z",
     "shell.execute_reply.started": "2021-02-09T10:28:00.200545Z"
    }
   },
   "outputs": [],
   "source": [
    "noneSTD.drop(['车型new', '车型占比'], axis=1, inplace=True)"
   ]
  },
  {
   "cell_type": "code",
   "execution_count": 43,
   "metadata": {
    "execution": {
     "iopub.execute_input": "2021-02-09T10:28:00.265729Z",
     "iopub.status.busy": "2021-02-09T10:28:00.265552Z",
     "iopub.status.idle": "2021-02-09T10:28:00.275956Z",
     "shell.execute_reply": "2021-02-09T10:28:00.275378Z",
     "shell.execute_reply.started": "2021-02-09T10:28:00.265705Z"
    }
   },
   "outputs": [],
   "source": [
    "noneSTD = noneSTD.merge(dataCITYstd[['大区名称', '车型new', '车型占比']], on=['大区名称'])"
   ]
  },
  {
   "cell_type": "code",
   "execution_count": 44,
   "metadata": {
    "execution": {
     "iopub.execute_input": "2021-02-09T10:28:00.276811Z",
     "iopub.status.busy": "2021-02-09T10:28:00.276637Z",
     "iopub.status.idle": "2021-02-09T10:28:00.295569Z",
     "shell.execute_reply": "2021-02-09T10:28:00.294698Z",
     "shell.execute_reply.started": "2021-02-09T10:28:00.276788Z"
    }
   },
   "outputs": [],
   "source": [
    "datatmp = pd.concat([datatmp, noneSTD], ignore_index=True)"
   ]
  },
  {
   "cell_type": "code",
   "execution_count": 45,
   "metadata": {
    "execution": {
     "iopub.execute_input": "2021-02-09T10:28:00.296822Z",
     "iopub.status.busy": "2021-02-09T10:28:00.296575Z",
     "iopub.status.idle": "2021-02-09T10:28:00.314600Z",
     "shell.execute_reply": "2021-02-09T10:28:00.313834Z",
     "shell.execute_reply.started": "2021-02-09T10:28:00.296789Z"
    },
    "scrolled": true
   },
   "outputs": [],
   "source": [
    "# 预计算潜客1 是未四舍五入的值， 预计算潜客2 是四舍五入后的值\n",
    "datatmp['预计算潜客'] = datatmp[\"潜客量\"] * datatmp[\"车型占比\"]\n",
    "datatmp['预计算潜客1'] = datatmp['预计算潜客'].map(int)\n",
    "datatmp['预计算潜客2'] = datatmp['预计算潜客'].apply(lambda x: int(x+0.5))\n",
    "datatmp['进位可能'] = datatmp['预计算潜客'] - datatmp['预计算潜客1']"
   ]
  },
  {
   "cell_type": "code",
   "execution_count": 46,
   "metadata": {
    "execution": {
     "iopub.execute_input": "2021-02-09T10:28:00.315560Z",
     "iopub.status.busy": "2021-02-09T10:28:00.315380Z",
     "iopub.status.idle": "2021-02-09T10:28:00.329020Z",
     "shell.execute_reply": "2021-02-09T10:28:00.328446Z",
     "shell.execute_reply.started": "2021-02-09T10:28:00.315536Z"
    }
   },
   "outputs": [],
   "source": [
    "# 这里计算出来的 差值 就是四舍五入后的差异，需要用这个差异去修改 datatmp\n",
    "# 里的 预计算潜客2 中不合适的部分。\n",
    "# 并在 datatmp 中插入新的列 调整潜客\n",
    "# 所以需要利用 进位可能，进行多退少补：\n",
    "#     如果需要退n个（差值为负），则寻找 进位可能 > 0.5的数据里最小的n个各去掉 1\n",
    "#     如果需要补n个（差值为正），则寻找 进位可能 < 0.5的数据里最大的n个各增加 1\n",
    "# 这部分需要使用函数计算，感觉还比较麻烦\n",
    "# 这里直接做一个 进位可能 相关的函数，主要是插入 顺序 字段，值是序数：\n",
    "#   大于 0.5 的 升序，比如：\n",
    "#     进位可能: [0.51, 0.66, 0.501, 0.7]\n",
    "#        顺序: [1, 2, 0, 3]\n",
    "#   小于 0.5 的 降序\n",
    "##########################################"
   ]
  },
  {
   "cell_type": "code",
   "execution_count": 47,
   "metadata": {
    "execution": {
     "iopub.execute_input": "2021-02-09T10:28:00.329883Z",
     "iopub.status.busy": "2021-02-09T10:28:00.329689Z",
     "iopub.status.idle": "2021-02-09T10:28:00.348226Z",
     "shell.execute_reply": "2021-02-09T10:28:00.347184Z",
     "shell.execute_reply.started": "2021-02-09T10:28:00.329857Z"
    }
   },
   "outputs": [],
   "source": [
    "# 1. 给 datatemp 增加一列，区分 0.5\n",
    "datatmp['已进位'] = datatmp['进位可能'] >= 0.5"
   ]
  },
  {
   "cell_type": "code",
   "execution_count": 48,
   "metadata": {
    "execution": {
     "iopub.execute_input": "2021-02-09T10:28:00.349617Z",
     "iopub.status.busy": "2021-02-09T10:28:00.349384Z",
     "iopub.status.idle": "2021-02-09T10:28:00.380557Z",
     "shell.execute_reply": "2021-02-09T10:28:00.379663Z",
     "shell.execute_reply.started": "2021-02-09T10:28:00.349585Z"
    }
   },
   "outputs": [],
   "source": [
    "# 都使用的升序，处理时要注意\n",
    "# 先处理 已进位 为 True的\n",
    "datatmp['顺序'] = 0\n",
    "l = datatmp['顺序'] + datatmp[datatmp['已进位']==True].groupby(['经销商代码', '客户来源更新', '已进位'])['进位可能'].rank(ascending=True, method=\"first\").astype('int')\n",
    "r = datatmp['顺序'] + datatmp[datatmp['已进位']==False].groupby(['经销商代码', '客户来源更新', '已进位'])['进位可能'].rank(ascending=False, method=\"first\").astype('int')\n",
    "datatmp['顺序'] = l.fillna(0) + r.fillna(0)"
   ]
  },
  {
   "cell_type": "code",
   "execution_count": 49,
   "metadata": {
    "execution": {
     "iopub.execute_input": "2021-02-09T10:28:00.381528Z",
     "iopub.status.busy": "2021-02-09T10:28:00.381352Z",
     "iopub.status.idle": "2021-02-09T10:28:00.391878Z",
     "shell.execute_reply": "2021-02-09T10:28:00.391030Z",
     "shell.execute_reply.started": "2021-02-09T10:28:00.381504Z"
    }
   },
   "outputs": [],
   "source": [
    "# 计算经销商分来源的预计算潜客2的汇总\n",
    "dataUSEpre = datatmp.groupby(['大区名称', '小区名称', '经销商代码', '客户来源更新'])['预计算潜客2'].sum().reset_index()"
   ]
  },
  {
   "cell_type": "code",
   "execution_count": 50,
   "metadata": {
    "execution": {
     "iopub.execute_input": "2021-02-09T10:28:00.392822Z",
     "iopub.status.busy": "2021-02-09T10:28:00.392647Z",
     "iopub.status.idle": "2021-02-09T10:28:00.412469Z",
     "shell.execute_reply": "2021-02-09T10:28:00.411635Z",
     "shell.execute_reply.started": "2021-02-09T10:28:00.392798Z"
    }
   },
   "outputs": [],
   "source": [
    "#dataUSEadj = datatmp.groupby(['大区名称', '小区名称', '城市', '经销商代码', '客户来源更新'])['预计算潜客2'].sum().reset_index()\n",
    "#dataUSEadj = dataUSE2b.head(200).merge(dataUSEpre[['经销商代码', '客户来源更新', '预计算潜客2']], on=['经销商代码', '客户来源更新'])\n",
    "dataUSEadj = dataUSE2b.merge(dataUSEpre[['经销商代码', '客户来源更新', '预计算潜客2']], on=['经销商代码', '客户来源更新'])\n",
    "dataUSEadj['差值'] = dataUSEadj['潜客量'] - dataUSEadj['预计算潜客2']"
   ]
  },
  {
   "cell_type": "code",
   "execution_count": 51,
   "metadata": {
    "execution": {
     "iopub.execute_input": "2021-02-09T10:28:00.413404Z",
     "iopub.status.busy": "2021-02-09T10:28:00.413231Z",
     "iopub.status.idle": "2021-02-09T10:28:00.432563Z",
     "shell.execute_reply": "2021-02-09T10:28:00.431770Z",
     "shell.execute_reply.started": "2021-02-09T10:28:00.413381Z"
    }
   },
   "outputs": [],
   "source": [
    "# 将 差值 合并进 datatmp\n",
    "datatmp = datatmp.merge(dataUSEadj[['经销商代码', '客户来源更新', '差值']], on=['经销商代码', '客户来源更新'])"
   ]
  },
  {
   "cell_type": "code",
   "execution_count": 52,
   "metadata": {
    "execution": {
     "iopub.execute_input": "2021-02-09T10:28:00.433589Z",
     "iopub.status.busy": "2021-02-09T10:28:00.433375Z",
     "iopub.status.idle": "2021-02-09T10:28:01.792989Z",
     "shell.execute_reply": "2021-02-09T10:28:01.792051Z",
     "shell.execute_reply.started": "2021-02-09T10:28:00.433560Z"
    }
   },
   "outputs": [],
   "source": [
    "datatmp['预计算真值'] = datatmp.apply(balanceCom, axis=1)"
   ]
  },
  {
   "cell_type": "code",
   "execution_count": 53,
   "metadata": {
    "execution": {
     "iopub.execute_input": "2021-02-09T10:28:01.793861Z",
     "iopub.status.busy": "2021-02-09T10:28:01.793685Z",
     "iopub.status.idle": "2021-02-09T10:28:01.796990Z",
     "shell.execute_reply": "2021-02-09T10:28:01.796391Z",
     "shell.execute_reply.started": "2021-02-09T10:28:01.793837Z"
    }
   },
   "outputs": [],
   "source": [
    "# 这里开始合并模拟结果和真实结果"
   ]
  },
  {
   "cell_type": "code",
   "execution_count": 54,
   "metadata": {
    "execution": {
     "iopub.execute_input": "2021-02-09T10:28:01.797847Z",
     "iopub.status.busy": "2021-02-09T10:28:01.797667Z",
     "iopub.status.idle": "2021-02-09T10:28:01.817457Z",
     "shell.execute_reply": "2021-02-09T10:28:01.816445Z",
     "shell.execute_reply.started": "2021-02-09T10:28:01.797822Z"
    }
   },
   "outputs": [],
   "source": [
    "dataCOMPUTed = datatmp[['大区名称', '小区名称', '经销商代码', '客户来源更新','车型new', '预计算真值']].copy()"
   ]
  },
  {
   "cell_type": "code",
   "execution_count": 55,
   "metadata": {
    "execution": {
     "iopub.execute_input": "2021-02-09T10:28:01.818663Z",
     "iopub.status.busy": "2021-02-09T10:28:01.818394Z",
     "iopub.status.idle": "2021-02-09T10:28:01.849338Z",
     "shell.execute_reply": "2021-02-09T10:28:01.848309Z",
     "shell.execute_reply.started": "2021-02-09T10:28:01.818628Z"
    }
   },
   "outputs": [
    {
     "data": {
      "text/html": [
       "<div>\n",
       "<style scoped>\n",
       "    .dataframe tbody tr th:only-of-type {\n",
       "        vertical-align: middle;\n",
       "    }\n",
       "\n",
       "    .dataframe tbody tr th {\n",
       "        vertical-align: top;\n",
       "    }\n",
       "\n",
       "    .dataframe thead th {\n",
       "        text-align: right;\n",
       "    }\n",
       "</style>\n",
       "<table border=\"1\" class=\"dataframe\">\n",
       "  <thead>\n",
       "    <tr style=\"text-align: right;\">\n",
       "      <th></th>\n",
       "      <th>大区名称</th>\n",
       "      <th>小区名称</th>\n",
       "      <th>经销商代码</th>\n",
       "      <th>客户来源更新</th>\n",
       "      <th>车型new</th>\n",
       "      <th>潜客量</th>\n",
       "    </tr>\n",
       "  </thead>\n",
       "  <tbody>\n",
       "    <tr>\n",
       "      <th>0</th>\n",
       "      <td>东北区</td>\n",
       "      <td>吉林小区</td>\n",
       "      <td>SA15016</td>\n",
       "      <td>线上</td>\n",
       "      <td>A3 Lim</td>\n",
       "      <td>0</td>\n",
       "    </tr>\n",
       "    <tr>\n",
       "      <th>1</th>\n",
       "      <td>东北区</td>\n",
       "      <td>吉林小区</td>\n",
       "      <td>SA15016</td>\n",
       "      <td>线上</td>\n",
       "      <td>A3 SpB</td>\n",
       "      <td>1</td>\n",
       "    </tr>\n",
       "    <tr>\n",
       "      <th>2</th>\n",
       "      <td>东北区</td>\n",
       "      <td>吉林小区</td>\n",
       "      <td>SA15016</td>\n",
       "      <td>线上</td>\n",
       "      <td>A4L</td>\n",
       "      <td>4</td>\n",
       "    </tr>\n",
       "    <tr>\n",
       "      <th>3</th>\n",
       "      <td>东北区</td>\n",
       "      <td>吉林小区</td>\n",
       "      <td>SA15016</td>\n",
       "      <td>线上</td>\n",
       "      <td>A6L</td>\n",
       "      <td>6</td>\n",
       "    </tr>\n",
       "    <tr>\n",
       "      <th>4</th>\n",
       "      <td>东北区</td>\n",
       "      <td>吉林小区</td>\n",
       "      <td>SA15016</td>\n",
       "      <td>线上</td>\n",
       "      <td>Q2L</td>\n",
       "      <td>1</td>\n",
       "    </tr>\n",
       "  </tbody>\n",
       "</table>\n",
       "</div>"
      ],
      "text/plain": [
       "  大区名称  小区名称    经销商代码 客户来源更新   车型new  潜客量\n",
       "0  东北区  吉林小区  SA15016     线上  A3 Lim    0\n",
       "1  东北区  吉林小区  SA15016     线上  A3 SpB    1\n",
       "2  东北区  吉林小区  SA15016     线上     A4L    4\n",
       "3  东北区  吉林小区  SA15016     线上     A6L    6\n",
       "4  东北区  吉林小区  SA15016     线上     Q2L    1"
      ]
     },
     "execution_count": 55,
     "metadata": {},
     "output_type": "execute_result"
    }
   ],
   "source": [
    "dataCOMPUTed.rename(columns={'预计算真值': '潜客量'}, inplace=True)\n",
    "dataCOMPUTed.head()"
   ]
  },
  {
   "cell_type": "code",
   "execution_count": 56,
   "metadata": {
    "execution": {
     "iopub.execute_input": "2021-02-09T10:28:01.850263Z",
     "iopub.status.busy": "2021-02-09T10:28:01.850093Z",
     "iopub.status.idle": "2021-02-09T10:28:01.861659Z",
     "shell.execute_reply": "2021-02-09T10:28:01.860757Z",
     "shell.execute_reply.started": "2021-02-09T10:28:01.850240Z"
    }
   },
   "outputs": [],
   "source": [
    "dataEsti = dataCOMPUTed.append(dataUSEstd[['大区名称', '小区名称', '经销商代码', '客户来源更新','车型new', '潜客量']])"
   ]
  },
  {
   "cell_type": "code",
   "execution_count": 57,
   "metadata": {
    "execution": {
     "iopub.execute_input": "2021-02-09T10:28:01.862629Z",
     "iopub.status.busy": "2021-02-09T10:28:01.862425Z",
     "iopub.status.idle": "2021-02-09T10:28:01.879827Z",
     "shell.execute_reply": "2021-02-09T10:28:01.878739Z",
     "shell.execute_reply.started": "2021-02-09T10:28:01.862604Z"
    }
   },
   "outputs": [],
   "source": [
    "dataEsti = dataEsti.groupby(['大区名称', '小区名称', '经销商代码', '客户来源更新','车型new'])['潜客量'].sum().reset_index()"
   ]
  },
  {
   "cell_type": "code",
   "execution_count": 58,
   "metadata": {
    "execution": {
     "iopub.execute_input": "2021-02-09T10:28:01.880850Z",
     "iopub.status.busy": "2021-02-09T10:28:01.880676Z",
     "iopub.status.idle": "2021-02-09T10:28:01.892838Z",
     "shell.execute_reply": "2021-02-09T10:28:01.891978Z",
     "shell.execute_reply.started": "2021-02-09T10:28:01.880826Z"
    }
   },
   "outputs": [],
   "source": [
    "# 添加车型站比\n",
    "dataEsti['dealer汇总'] = dataEsti.groupby(['大区名称', '小区名称', '经销商代码', '客户来源更新'])['潜客量'].transform('sum')\n",
    "dataEsti['车型占比'] = dataEsti['潜客量']/dataEsti['dealer汇总']\n",
    "dataEsti['日均概率'] = dataEsti['潜客量']/monthDays"
   ]
  },
  {
   "cell_type": "code",
   "execution_count": 59,
   "metadata": {
    "execution": {
     "iopub.execute_input": "2021-02-09T10:28:01.897974Z",
     "iopub.status.busy": "2021-02-09T10:28:01.897782Z",
     "iopub.status.idle": "2021-02-09T10:28:01.900848Z",
     "shell.execute_reply": "2021-02-09T10:28:01.900263Z",
     "shell.execute_reply.started": "2021-02-09T10:28:01.897949Z"
    }
   },
   "outputs": [],
   "source": [
    "#### 以下是之前处理的结果"
   ]
  },
  {
   "cell_type": "code",
   "execution_count": 60,
   "metadata": {
    "execution": {
     "iopub.execute_input": "2021-02-09T10:28:01.902467Z",
     "iopub.status.busy": "2021-02-09T10:28:01.902248Z",
     "iopub.status.idle": "2021-02-09T10:28:01.915752Z",
     "shell.execute_reply": "2021-02-09T10:28:01.915174Z",
     "shell.execute_reply.started": "2021-02-09T10:28:01.902443Z"
    },
    "jupyter": {
     "source_hidden": true
    }
   },
   "outputs": [],
   "source": [
    "def summarySTAT():\n",
    "    totalPotentials = databook['潜客量'].sum()\n",
    "    # dealPotentialsbyDay = databook.groupby(['经销商代码', '日期'])['潜客量'].sum().reset_index()\n",
    "    totalDealPotentials = databook.groupby(['经销商代码'])['潜客量'].sum().reset_index()\n",
    "    totalPotentialsFIX = dataEsti['潜客量'].sum()\n",
    "    # dealPotentialsbyDayFIX = dataEsti.groupby(['经销商代码', '日期'])['潜客量'].sum().reset_index()\n",
    "    totalDealPotentialsFIX = dataEsti.groupby(['经销商代码'])['潜客量'].sum().reset_index()\n",
    "    # dealDiffbyDay = dealPotentialsbyDay.merge(dealPotentialsbyDayFIX, on=['经销商代码', '日期'], suffixes=['_origin', '_fix'])\n",
    "    dealDiff = totalDealPotentials.merge(totalDealPotentialsFIX, on=['经销商代码'], suffixes=['_origin', '_fix'])\n",
    "    # dealDiffbyDay['差值'] = dealDiffbyDay['潜客量_origin'] - dealDiffbyDay['潜客量_fix']\n",
    "    dealDiff['差值'] = dealDiff['潜客量_origin'] - dealDiff['潜客量_fix']\n",
    "    print(dealDiff['差值'].value_counts())\n",
    "    return totalPotentials - totalPotentialsFIX, dealDiff['差值'].value_counts()"
   ]
  },
  {
   "cell_type": "code",
   "execution_count": 61,
   "metadata": {
    "execution": {
     "iopub.execute_input": "2021-02-09T10:28:01.916602Z",
     "iopub.status.busy": "2021-02-09T10:28:01.916422Z",
     "iopub.status.idle": "2021-02-09T10:28:01.944431Z",
     "shell.execute_reply": "2021-02-09T10:28:01.943089Z",
     "shell.execute_reply.started": "2021-02-09T10:28:01.916578Z"
    }
   },
   "outputs": [],
   "source": [
    "dealerUnique = dataCOMPUTed[['大区名称', '小区名称', '经销商代码', '客户来源更新']].drop_duplicates()\n",
    "dealerUnique = dealerUnique.reset_index(drop=True)[['经销商代码', '客户来源更新']]"
   ]
  },
  {
   "cell_type": "code",
   "execution_count": 62,
   "metadata": {
    "collapsed": true,
    "execution": {
     "iopub.execute_input": "2021-02-09T10:28:01.945360Z",
     "iopub.status.busy": "2021-02-09T10:28:01.945158Z",
     "iopub.status.idle": "2021-02-09T10:31:04.476327Z",
     "shell.execute_reply": "2021-02-09T10:31:04.475439Z",
     "shell.execute_reply.started": "2021-02-09T10:28:01.945324Z"
    },
    "jupyter": {
     "outputs_hidden": true
    }
   },
   "outputs": [
    {
     "name": "stdout",
     "output_type": "stream",
     "text": [
      "0 SA15016 线上\n",
      "14\n",
      "1 SA22001 线上\n",
      "33\n",
      "2 SA22002 线上\n",
      "61\n",
      "3 SA22003 线上\n",
      "81\n",
      "4 SA22008 线上\n",
      "104\n",
      "5 SA22009 线上\n",
      "108\n",
      "6 SA22012 线上\n",
      "165\n",
      "7 SA22015 线上\n",
      "168\n",
      "8 SA22016 线上\n",
      "183\n",
      "9 SA15009 线上\n",
      "188\n",
      "10 SA21002 线上\n",
      "401\n",
      "11 SA21005 线上\n",
      "421\n",
      "12 SA21006 线上\n",
      "444\n",
      "13 SA21013 线上\n",
      "550\n",
      "14 SA21015 线上\n",
      "677\n",
      "15 SA21016 线上\n",
      "795\n",
      "16 SA21018 线上\n",
      "798\n",
      "17 SA21020 线上\n",
      "802\n",
      "18 SA21024 线上\n",
      "831\n",
      "19 SA21026 线上\n",
      "900\n",
      "20 SA21027 线上\n",
      "1010\n",
      "21 SA21007 线上\n",
      "1034\n",
      "22 SA21009 线上\n",
      "1053\n",
      "23 SA21010 线上\n",
      "1148\n",
      "24 SA21011 线上\n",
      "1180\n",
      "25 SA21012 线上\n",
      "1248\n",
      "26 SA21014 线上\n",
      "1316\n",
      "27 SA21021 线上\n",
      "1349\n",
      "28 SA21022 线上\n",
      "1399\n",
      "29 SA21023 线上\n",
      "1435\n",
      "30 SA21025 线上\n",
      "1437\n",
      "31 SA37010 线上\n",
      "1579\n",
      "32 SA37014 线上\n",
      "1651\n",
      "33 SA37017 线上\n",
      "1756\n",
      "34 SA37018 线上\n",
      "1770\n",
      "35 SA37021 线上\n",
      "1872\n",
      "36 SA37037 线上\n",
      "2084\n",
      "37 SA37041 线上\n",
      "2253\n",
      "38 SA37043 线上\n",
      "2323\n",
      "39 SA37052 线上\n",
      "2331\n",
      "40 SA37053 线上\n",
      "2336\n",
      "41 SA37517 线上\n",
      "2356\n",
      "42 SA37005 线上\n",
      "2368\n",
      "43 SA37007 线上\n",
      "2419\n",
      "44 SA37013 线上\n",
      "2576\n",
      "45 SA37023 线上\n",
      "2662\n",
      "46 SA37025 线上\n",
      "2684\n",
      "47 SA37026 线上\n",
      "2753\n",
      "48 SA37028 线上\n",
      "2786\n",
      "49 SA37042 展厅\n",
      "2787\n",
      "50 SA37042 线上\n",
      "2847\n",
      "51 SA37055 线上\n",
      "2884\n",
      "52 SA37505 线上\n",
      "2893\n",
      "53 SA37525 线上\n",
      "2894\n",
      "54 SA37605 展厅\n",
      "2914\n",
      "55 SA37605 线上\n",
      "2918\n",
      "56 SA37011 线上\n",
      "2937\n",
      "57 SA37029 线上\n",
      "3057\n",
      "58 SA37030 线上\n",
      "3082\n",
      "59 SA37033 线上\n",
      "3104\n",
      "60 SA37040 线上\n",
      "3227\n",
      "61 SA37046 线上\n",
      "3248\n",
      "62 SA37050 线上\n",
      "3347\n",
      "63 SA37056 线上\n",
      "3477\n",
      "64 SA37057 展厅\n",
      "3526\n",
      "65 SA37057 线上\n",
      "3558\n",
      "66 SA37058 线上\n",
      "3653\n",
      "67 SA37059 线上\n",
      "3669\n",
      "68 SA37015 线上\n",
      "3983\n",
      "69 SA37016 线上\n",
      "4001\n",
      "70 SA37020 展厅\n",
      "4012\n",
      "71 SA37020 线上\n",
      "4092\n",
      "72 SA37022 线上\n",
      "4109\n",
      "73 SA37031 线上\n",
      "4127\n",
      "74 SA37045 线上\n",
      "4217\n",
      "75 SA37047 线上\n",
      "4236\n",
      "76 SA37049 线上\n",
      "4246\n",
      "77 SA15011 线上\n",
      "4265\n",
      "78 SA23001 线上\n",
      "4303\n",
      "79 SA23002 线上\n",
      "4324\n",
      "80 SA23003 线上\n",
      "4388\n",
      "81 SA23004 线上\n",
      "4394\n",
      "82 SA23005 线上\n",
      "4590\n",
      "83 SA23006 线上\n",
      "4602\n",
      "84 SA23007 线上\n",
      "4606\n",
      "85 SA23008 线上\n",
      "4609\n",
      "86 SA23010 线上\n",
      "4622\n",
      "87 SA23012 线上\n",
      "4633\n",
      "88 SA33015 线上\n",
      "4643\n",
      "89 SA33025 线上\n",
      "4667\n",
      "90 SA33028 线上\n",
      "4676\n",
      "91 SA33047 线上\n",
      "4688\n",
      "92 SA33066 线上\n",
      "4738\n",
      "93 SA33075 线上\n",
      "4742\n",
      "94 SA33076 线上\n",
      "4752\n",
      "95 SA33515 线上\n",
      "4755\n",
      "96 SA33008 展厅\n",
      "4757\n",
      "97 SA33008 线上\n",
      "4917\n",
      "98 SA33011 线上\n",
      "5052\n",
      "99 SA33022 线上\n",
      "5235\n",
      "100 SA33043 线上\n",
      "5363\n",
      "101 SA33048 线上\n",
      "5398\n",
      "102 SA33052 线上\n",
      "5438\n",
      "103 SA33059 线上\n",
      "5458\n",
      "104 SA33082 线上\n",
      "5463\n",
      "105 SA33002 线上\n",
      "5501\n",
      "106 SA33016 线上\n",
      "5531\n",
      "107 SA33019 线上\n",
      "5570\n",
      "108 SA33024 线上\n",
      "5623\n",
      "109 SA33033 线上\n",
      "5674\n",
      "110 SA33040 线上\n",
      "5681\n",
      "111 SA33063 线上\n",
      "5742\n",
      "112 SA33064 线上\n",
      "5772\n",
      "113 SA33079 线上\n",
      "5861\n",
      "114 SA33080 线上\n",
      "5871\n",
      "115 SA33001 线上\n",
      "5923\n",
      "116 SA33006 线上\n",
      "5981\n",
      "117 SA33012 线上\n",
      "6109\n",
      "118 SA33030 线上\n",
      "6184\n",
      "119 SA33034 线上\n",
      "6196\n",
      "120 SA33038 线上\n",
      "6265\n",
      "121 SA33050 展厅\n",
      "6266\n",
      "122 SA33050 线上\n",
      "6334\n",
      "123 SA33058 线上\n",
      "6502\n",
      "124 SA33071 展厅\n",
      "6503\n",
      "125 SA33071 线上\n",
      "6590\n",
      "126 SA33072 展厅\n",
      "6591\n",
      "127 SA33072 线上\n",
      "6624\n",
      "128 SA33077 线上\n",
      "6680\n",
      "129 SA33003 线上\n",
      "6721\n",
      "130 SA33020 线上\n",
      "6772\n",
      "131 SA33021 线上\n",
      "6819\n",
      "132 SA33037 线上\n",
      "6896\n",
      "133 SA33044 线上\n",
      "6900\n",
      "134 SA33049 线上\n",
      "6922\n",
      "135 SA33053 线上\n",
      "6926\n",
      "136 SA33056 线上\n",
      "6947\n",
      "137 SA33065 展厅\n",
      "6948\n",
      "138 SA33065 线上\n",
      "7049\n",
      "139 SA33007 线上\n",
      "7082\n",
      "140 SA33017 线上\n",
      "7179\n",
      "141 SA33031 展厅\n",
      "7180\n",
      "142 SA33031 线上\n",
      "7198\n",
      "143 SA33042 线上\n",
      "7248\n",
      "144 SA33057 线上\n",
      "7252\n",
      "145 SA33062 线上\n",
      "7299\n",
      "146 SA33005 线上\n",
      "7409\n",
      "147 SA33009 线上\n",
      "7455\n",
      "148 SA33026 线上\n",
      "7502\n",
      "149 SA33032 线上\n",
      "7514\n",
      "150 SA33035 线上\n",
      "7684\n",
      "151 SA33036 线上\n",
      "7717\n",
      "152 SA33045 展厅\n",
      "7719\n",
      "153 SA33045 线上\n",
      "7741\n",
      "154 SA35002 线上\n",
      "7789\n",
      "155 SA35008 展厅\n",
      "7792\n",
      "156 SA35008 线上\n",
      "7810\n",
      "157 SA35009 线上\n",
      "7852\n",
      "158 SA35013 线上\n",
      "7859\n",
      "159 SA35015 线上\n",
      "7873\n",
      "160 SA35016 展厅\n",
      "7875\n",
      "161 SA35016 线上\n",
      "7909\n",
      "162 SA35020 线上\n",
      "7947\n",
      "163 SA35023 线上\n",
      "7980\n",
      "164 SA35508 线上\n",
      "7995\n",
      "165 SA35001 线上\n",
      "8008\n",
      "166 SA35004 线上\n",
      "8053\n",
      "167 SA35005 展厅\n",
      "8059\n",
      "168 SA35005 线上\n",
      "8155\n",
      "169 SA35010 线上\n",
      "8215\n",
      "170 SA35011 线上\n",
      "8282\n",
      "171 SA35012 线上\n",
      "8311\n",
      "172 SA35018 线上\n",
      "8435\n",
      "173 SA35021 线上\n",
      "8476\n",
      "174 SA35022 线上\n",
      "8499\n",
      "175 SA32003 展厅\n",
      "8501\n",
      "176 SA32003 线上\n",
      "8685\n",
      "177 SA32004 线上\n",
      "8722\n",
      "178 SA32012 线上\n",
      "8786\n",
      "179 SA32024 线上\n",
      "8819\n",
      "180 SA32047 线上\n",
      "8857\n",
      "181 SA32049 线上\n",
      "8896\n",
      "182 SA32070 线上\n",
      "8947\n",
      "183 SA32076 线上\n",
      "9048\n",
      "184 SA32078 线上\n",
      "9074\n",
      "185 SA32006 线上\n",
      "9154\n",
      "186 SA32020 线上\n",
      "9316\n",
      "187 SA32022 线上\n",
      "9337\n",
      "188 SA32043 线上\n",
      "9399\n",
      "189 SA32044 线上\n",
      "9457\n",
      "190 SA32058 线上\n",
      "9468\n",
      "191 SA32061 展厅\n",
      "9471\n",
      "192 SA32061 线上\n",
      "9497\n",
      "193 SA32063 线上\n",
      "9509\n",
      "194 SA32075 展厅\n",
      "9530\n",
      "195 SA32075 线上\n",
      "9539\n",
      "196 SA32543 线上\n",
      "9561\n",
      "197 SA32005 线上\n",
      "9740\n",
      "198 SA32011 线上\n",
      "9768\n",
      "199 SA32027 线上\n",
      "9827\n",
      "200 SA32037 线上\n",
      "9924\n",
      "201 SA32067 线上\n",
      "9932\n",
      "202 SA32068 线上\n",
      "9961\n",
      "203 SA32069 线上\n",
      "9995\n",
      "204 SA32077 线上\n",
      "10040\n",
      "205 SA32079 线上\n",
      "10091\n",
      "206 SA32009 线上\n",
      "10129\n",
      "207 SA32023 展厅\n",
      "10130\n",
      "208 SA32023 线上\n",
      "10233\n",
      "209 SA32029 线上\n",
      "10347\n",
      "210 SA32048 线上\n",
      "10477\n",
      "211 SA32052 线上\n",
      "10495\n",
      "212 SA32053 线上\n",
      "10539\n",
      "213 SA32059 线上\n",
      "10540\n",
      "214 SA32062 线上\n",
      "10555\n",
      "215 SA32072 展厅\n",
      "10557\n",
      "216 SA32072 线上\n",
      "10644\n",
      "217 SA32073 线上\n",
      "10649\n",
      "218 SA32080 线上\n",
      "10718\n",
      "219 SA32002 线上\n",
      "10809\n",
      "220 SA32018 线上\n",
      "10831\n",
      "221 SA32021 线上\n",
      "10877\n",
      "222 SA32032 线上\n",
      "10910\n",
      "223 SA32042 线上\n",
      "10922\n",
      "224 SA32045 线上\n",
      "10932\n",
      "225 SA32050 线上\n",
      "10943\n",
      "226 SA32051 线上\n",
      "11003\n",
      "227 SA32054 线上\n",
      "11013\n",
      "228 SA31001 线上\n",
      "11044\n",
      "229 SA31003 线上\n",
      "11141\n",
      "230 SA31010 线上\n",
      "11255\n",
      "231 SA31015 线上\n",
      "11298\n",
      "232 SA31018 线上\n",
      "11369\n",
      "233 SA31022 线上\n",
      "11511\n",
      "234 SA31025 线上\n",
      "11549\n",
      "235 SA31029 线上\n",
      "11797\n",
      "236 SA31032 线上\n",
      "11854\n",
      "237 SA31002 线上\n",
      "12026\n",
      "238 SA31004 线上\n",
      "12050\n",
      "239 SA31008 线上\n",
      "12074\n",
      "240 SA31009 线上\n",
      "12181\n",
      "241 SA31016 展厅\n",
      "12272\n",
      "242 SA31016 线上\n",
      "12297\n",
      "243 SA31017 线上\n",
      "12357\n",
      "244 SA31020 线上\n",
      "12387\n",
      "245 SA31023 线上\n",
      "12398\n",
      "246 SA31033 线上\n",
      "12415\n",
      "247 SA31523 线上\n",
      "12428\n",
      "248 SA34001 线上\n",
      "12464\n",
      "249 SA34003 线上\n",
      "12471\n",
      "250 SA34004 展厅\n",
      "12473\n",
      "251 SA34004 线上\n",
      "12491\n",
      "252 SA34006 线上\n",
      "12521\n",
      "253 SA34009 线上\n",
      "12671\n",
      "254 SA34011 线上\n",
      "12674\n",
      "255 SA34012 线上\n",
      "12689\n",
      "256 SA34016 线上\n",
      "12696\n",
      "257 SA34017 线上\n",
      "12755\n",
      "258 SA34019 线上\n",
      "12757\n",
      "259 SA34021 线上\n",
      "12773\n",
      "260 SA34025 线上\n",
      "12774\n",
      "261 SA34026 线上\n",
      "12775\n",
      "262 SA34002 展厅\n",
      "12776\n",
      "263 SA34002 线上\n",
      "12821\n",
      "264 SA34005 线上\n",
      "12882\n",
      "265 SA34007 线上\n",
      "12904\n",
      "266 SA34010 线上\n",
      "12917\n",
      "267 SA34013 线上\n",
      "12932\n",
      "268 SA34015 展厅\n",
      "12933\n",
      "269 SA34015 线上\n",
      "12968\n",
      "270 SA34022 线上\n",
      "12969\n",
      "271 SA34023 线上\n",
      "12970\n",
      "272 SA34507 线上\n",
      "12976\n",
      "273 SA34607 线上\n",
      "12979\n",
      "274 SA34707 线上\n",
      "12985\n",
      "275 SA32010 线上\n",
      "13142\n",
      "276 SA32015 线上\n",
      "13170\n",
      "277 SA32016 线上\n",
      "13196\n",
      "278 SA32017 线上\n",
      "13230\n",
      "279 SA32028 线上\n",
      "13270\n",
      "280 SA32033 线上\n",
      "13304\n",
      "281 SA32035 线上\n",
      "13335\n",
      "282 SA32036 线上\n",
      "13354\n",
      "283 SA32041 展厅\n",
      "13355\n",
      "284 SA32041 线上\n",
      "13429\n",
      "285 SA32057 线上\n",
      "13454\n",
      "286 SA32060 线上\n",
      "13631\n",
      "287 SA32065 线上\n",
      "13635\n",
      "288 SA41002 展厅\n",
      "13637\n",
      "289 SA41002 线上\n",
      "13934\n",
      "290 SA41004 线上\n",
      "13958\n",
      "291 SA41009 线上\n",
      "13980\n",
      "292 SA41013 线上\n",
      "13987\n",
      "293 SA41016 线上\n",
      "14040\n",
      "294 SA41017 线上\n",
      "14050\n",
      "295 SA41021 展厅\n",
      "14052\n",
      "296 SA41021 线上\n",
      "14205\n",
      "297 SA41023 线上\n",
      "14312\n",
      "298 SA41025 线上\n",
      "14422\n",
      "299 SA41026 线上\n",
      "14430\n",
      "300 SA41027 线上\n",
      "14431\n",
      "301 SA41030 线上\n",
      "14629\n",
      "302 SA41031 线上\n",
      "14650\n",
      "303 SA41035 线上\n",
      "14786\n",
      "304 SA41005 线上\n",
      "14820\n",
      "305 SA41008 线上\n",
      "14877\n",
      "306 SA41010 线上\n",
      "14882\n",
      "307 SA41014 线上\n",
      "14934\n",
      "308 SA41018 线上\n",
      "14937\n",
      "309 SA41020 线上\n",
      "14957\n",
      "310 SA41029 线上\n",
      "14959\n",
      "311 SA41032 线上\n",
      "14988\n",
      "312 SA41033 线上\n",
      "15006\n",
      "313 SA41505 线上\n",
      "15017\n",
      "314 SA13002 线上\n",
      "15091\n",
      "315 SA13003 线上\n",
      "15101\n",
      "316 SA13006 线上\n",
      "15117\n",
      "317 SA13008 线上\n",
      "15131\n",
      "318 SA13009 线上\n",
      "15160\n",
      "319 SA13010 线上\n",
      "15187\n",
      "320 SA13015 线上\n",
      "15247\n",
      "321 SA13017 线上\n",
      "15251\n",
      "322 SA13020 线上\n",
      "15338\n",
      "323 SA13001 线上\n",
      "15357\n",
      "324 SA13004 线上\n",
      "15361\n",
      "325 SA13005 线上\n",
      "15389\n",
      "326 SA13007 线上\n",
      "15392\n",
      "327 SA13011 线上\n",
      "15397\n",
      "328 SA13012 线上\n",
      "15410\n",
      "329 SA13013 线上\n",
      "15424\n",
      "330 SA13018 线上\n",
      "15430\n",
      "331 SA13019 线上\n",
      "15440\n",
      "332 SA13021 线上\n",
      "15575\n",
      "333 SA13022 线上\n",
      "15593\n",
      "334 SA15001 线上\n",
      "15638\n",
      "335 SA15002 线上\n",
      "15707\n",
      "336 SA15003 线上\n",
      "15761\n",
      "337 SA15005 线上\n",
      "15777\n",
      "338 SA15006 线上\n",
      "15872\n",
      "339 SA15007 展厅\n",
      "15874\n",
      "340 SA15007 线上\n",
      "15896\n",
      "341 SA15008 线上\n",
      "15906\n",
      "342 SA15010 线上\n",
      "15952\n",
      "343 SA15012 线上\n",
      "15963\n",
      "344 SA15013 线上\n",
      "15983\n",
      "345 SA15015 线上\n",
      "15985\n",
      "346 SA11003 线上\n",
      "16015\n",
      "347 SA11016 线上\n",
      "16057\n",
      "348 SA11022 线上\n",
      "16274\n",
      "349 SA11031 线上\n",
      "16295\n",
      "350 SA11033 线上\n",
      "16336\n",
      "351 SA11036 线上\n",
      "16347\n",
      "352 SA11038 线上\n",
      "16351\n",
      "353 SA11043 线上\n",
      "16382\n",
      "354 SA11011 线上\n",
      "16403\n",
      "355 SA11014 线上\n",
      "16409\n",
      "356 SA11026 线上\n",
      "16455\n",
      "357 SA11035 线上\n",
      "16456\n",
      "358 SA11041 线上\n",
      "16476\n",
      "359 SA11042 线上\n",
      "16479\n",
      "360 SA11045 线上\n",
      "16480\n",
      "361 SA11002 线上\n",
      "16626\n",
      "362 SA11017 线上\n",
      "16945\n",
      "363 SA11019 展厅\n",
      "16946\n",
      "364 SA11019 线上\n",
      "16948\n",
      "365 SA11027 线上\n",
      "16984\n",
      "366 SA11030 线上\n",
      "17001\n",
      "367 SA11040 线上\n",
      "17023\n",
      "368 SA11046 线上\n",
      "17069\n",
      "369 SA11050 线上\n",
      "17097\n",
      "370 SA12001 线上\n",
      "17111\n",
      "371 SA12002 线上\n",
      "17169\n",
      "372 SA12004 线上\n",
      "17200\n",
      "373 SA12005 线上\n",
      "17287\n",
      "374 SA12006 线上\n",
      "17342\n",
      "375 SA12009 线上\n",
      "17351\n",
      "376 SA12011 线上\n",
      "17377\n",
      "377 SA12013 线上\n",
      "17518\n",
      "378 SA14001 线上\n",
      "17555\n",
      "379 SA14002 展厅\n",
      "17558\n",
      "380 SA14002 线上\n",
      "17610\n",
      "381 SA14006 线上\n",
      "17637\n",
      "382 SA14007 线上\n",
      "17698\n",
      "383 SA14008 线上\n",
      "17761\n",
      "384 SA14010 线上\n",
      "17785\n",
      "385 SA14011 线上\n",
      "17885\n",
      "386 SA14013 线上\n",
      "17983\n",
      "387 SA14016 线上\n",
      "17990\n",
      "388 SA14017 线上\n",
      "18010\n",
      "389 SA14018 线上\n",
      "18011\n",
      "390 SA14019 线上\n",
      "18039\n",
      "391 SA14021 线上\n",
      "18040\n",
      "392 SA44001 线上\n",
      "18219\n",
      "393 SA44002 展厅\n",
      "18221\n",
      "394 SA44002 线上\n",
      "18428\n",
      "395 SA44003 线上\n",
      "18584\n",
      "396 SA44019 线上\n",
      "18644\n",
      "397 SA44027 线上\n",
      "18680\n",
      "398 SA44029 线上\n",
      "18690\n",
      "399 SA44033 线上\n",
      "18858\n",
      "400 SA44037 线上\n",
      "18873\n",
      "401 SA44043 展厅\n",
      "18876\n",
      "402 SA44043 线上\n",
      "19068\n",
      "403 SA44044 线上\n",
      "19165\n",
      "404 SA44059 线上\n",
      "19257\n",
      "405 SA44072 线上\n",
      "19279\n",
      "406 SA44075 线上\n",
      "19302\n",
      "407 SA44079 线上\n",
      "19366\n",
      "408 SA44080 线上\n",
      "19412\n",
      "409 SA45002 线上\n",
      "19488\n",
      "410 SA45003 线上\n",
      "19580\n",
      "411 SA45005 线上\n",
      "19620\n",
      "412 SA45006 线上\n",
      "19673\n",
      "413 SA45007 线上\n",
      "19774\n",
      "414 SA45008 线上\n",
      "19780\n",
      "415 SA45009 线上\n",
      "19810\n",
      "416 SA45011 线上\n",
      "19824\n",
      "417 SA46003 线上\n",
      "19870\n",
      "418 SA46005 线上\n",
      "19906\n",
      "419 SA46008 线上\n",
      "19923\n",
      "420 SA42005 线上\n",
      "20027\n",
      "421 SA42010 线上\n",
      "20454\n",
      "422 SA42011 线上\n",
      "20456\n",
      "423 SA42013 线上\n",
      "20632\n",
      "424 SA42014 展厅\n",
      "20633\n",
      "425 SA42014 线上\n",
      "21094\n",
      "426 SA42020 线上\n",
      "21224\n",
      "427 SA36001 线上\n",
      "21226\n",
      "428 SA36003 线上\n",
      "21353\n",
      "429 SA36006 线上\n",
      "21529\n",
      "430 SA36007 线上\n",
      "22374\n",
      "431 SA36008 线上\n",
      "22383\n",
      "432 SA36009 线上\n",
      "22387\n",
      "433 SA36012 线上\n",
      "22409\n",
      "434 SA36013 展厅\n",
      "22410\n",
      "435 SA36013 线上\n",
      "22419\n",
      "436 SA36015 线上\n",
      "22444\n",
      "437 SA36016 展厅\n",
      "22454\n",
      "438 SA36016 线上\n",
      "22513\n",
      "439 SA36017 线上\n",
      "22522\n",
      "440 SA36018 线上\n",
      "22995\n",
      "441 SA36503 线上\n",
      "23010\n",
      "442 SA44006 线上\n",
      "23098\n",
      "443 SA44011 线上\n",
      "23129\n",
      "444 SA44012 线上\n",
      "23168\n",
      "445 SA44018 线上\n",
      "23265\n",
      "446 SA44028 线上\n",
      "23390\n",
      "447 SA44031 展厅\n",
      "23394\n",
      "448 SA44031 线上\n",
      "23443\n",
      "449 SA44036 线上\n",
      "23495\n",
      "450 SA44051 线上\n",
      "23578\n",
      "451 SA44058 线上\n",
      "23776\n",
      "452 SA44060 线上\n",
      "23850\n",
      "453 SA44061 线上\n",
      "23983\n",
      "454 SA44062 线上\n",
      "24168\n",
      "455 SA42004 线上\n",
      "24226\n",
      "456 SA42006 线上\n",
      "24261\n",
      "457 SA42008 线上\n",
      "24334\n",
      "458 SA42009 线上\n",
      "24385\n",
      "459 SA42012 线上\n",
      "24392\n",
      "460 SA42015 线上\n",
      "24425\n",
      "461 SA42016 线上\n",
      "24498\n",
      "462 SA42017 线上\n",
      "24561\n",
      "463 SA42018 线上\n",
      "24569\n",
      "464 SA42019 线上\n",
      "24572\n",
      "465 SA42021 线上\n",
      "24579\n",
      "466 SA43006 线上\n",
      "24585\n",
      "467 SA43007 线上\n",
      "24673\n",
      "468 SA43008 线上\n",
      "24678\n",
      "469 SA43011 线上\n",
      "24692\n",
      "470 SA43013 线上\n",
      "24773\n",
      "471 SA43015 展厅\n",
      "24774\n",
      "472 SA43015 线上\n",
      "24867\n",
      "473 SA43016 线上\n",
      "24896\n",
      "474 SA43017 线上\n",
      "24898\n",
      "475 SA43019 线上\n",
      "24918\n",
      "476 SA43022 线上\n",
      "24953\n",
      "477 SA43025 线上\n",
      "24958\n",
      "478 SA44009 线上\n",
      "24961\n",
      "479 SA44010 线上\n",
      "25125\n",
      "480 SA44017 线上\n",
      "25268\n",
      "481 SA44020 线上\n",
      "25397\n",
      "482 SA44025 线上\n",
      "25420\n",
      "483 SA44030 线上\n",
      "25427\n",
      "484 SA44039 线上\n",
      "25488\n",
      "485 SA44049 线上\n",
      "25523\n",
      "486 SA44055 线上\n",
      "25547\n",
      "487 SA44067 线上\n",
      "25573\n",
      "488 SA44071 线上\n",
      "25633\n",
      "489 SA44016 线上\n",
      "25808\n",
      "490 SA44023 线上\n",
      "25965\n",
      "491 SA44035 线上\n",
      "25988\n",
      "492 SA44042 线上\n",
      "26162\n",
      "493 SA44046 线上\n",
      "26256\n",
      "494 SA44070 线上\n",
      "26284\n",
      "495 SA44004 线上\n",
      "26289\n",
      "496 SA44013 线上\n",
      "26295\n",
      "497 SA44022 展厅\n",
      "26304\n",
      "498 SA44022 线上\n",
      "26423\n",
      "499 SA44026 线上\n",
      "26560\n",
      "500 SA44040 线上\n",
      "26591\n",
      "501 SA44041 线上\n",
      "26617\n",
      "502 SA44045 线上\n",
      "26697\n",
      "503 SA44064 线上\n",
      "26705\n",
      "504 SA43001 线上\n",
      "26906\n",
      "505 SA43003 线上\n",
      "26980\n",
      "506 SA43005 线上\n",
      "27112\n",
      "507 SA43009 线上\n",
      "27169\n",
      "508 SA43010 线上\n",
      "27721\n",
      "509 SA43012 线上\n",
      "27880\n",
      "510 SA43014 线上\n",
      "27882\n",
      "511 SA43021 线上\n",
      "27894\n",
      "512 SA53001 展厅\n",
      "27895\n",
      "513 SA53001 线上\n",
      "28060\n",
      "514 SA53002 展厅\n",
      "28079\n",
      "515 SA53002 线上\n",
      "28408\n",
      "516 SA53005 线上\n",
      "28434\n",
      "517 SA53006 线上\n",
      "28455\n",
      "518 SA53007 线上\n",
      "28491\n",
      "519 SA53010 线上\n",
      "28511\n",
      "520 SA53011 线上\n",
      "28529\n",
      "521 SA53012 线上\n",
      "28748\n",
      "522 SA53016 线上\n",
      "28756\n",
      "523 SA53501 线上\n",
      "28757\n",
      "524 SA51004 线上\n",
      "28786\n",
      "525 SA51008 线上\n",
      "28794\n",
      "526 SA51011 线上\n",
      "28870\n",
      "527 SA51015 线上\n",
      "28875\n",
      "528 SA51016 线上\n",
      "28878\n",
      "529 SA51017 线上\n",
      "28997\n",
      "530 SA51018 线上\n",
      "29000\n",
      "531 SA51021 线上\n",
      "29008\n",
      "532 SA51022 线上\n",
      "29010\n",
      "533 SA51023 线上\n",
      "29012\n",
      "534 SA51027 线上\n",
      "29016\n",
      "535 SA51032 线上\n",
      "29018\n",
      "536 SA51033 线上\n",
      "29058\n",
      "537 SA51038 线上\n",
      "29065\n",
      "538 SA51001 线上\n",
      "29126\n",
      "539 SA51003 线上\n",
      "29258\n",
      "540 SA51005 线上\n",
      "29270\n",
      "541 SA51006 线上\n",
      "29353\n",
      "542 SA51009 线上\n",
      "29454\n",
      "543 SA51013 线上\n",
      "29483\n",
      "544 SA51014 线上\n",
      "29556\n",
      "545 SA51019 线上\n",
      "29622\n",
      "546 SA51020 线上\n",
      "29826\n",
      "547 SA51025 线上\n",
      "29930\n",
      "548 SA51030 线上\n",
      "29946\n",
      "549 SA54001 线上\n",
      "29949\n",
      "550 SA63001 线上\n",
      "30010\n",
      "551 SA63002 线上\n",
      "30033\n",
      "552 SA65001 线上\n",
      "30124\n",
      "553 SA65002 线上\n",
      "30139\n",
      "554 SA65501 线上\n",
      "30145\n",
      "555 SA65601 展厅\n",
      "30146\n",
      "556 SA65601 线上\n",
      "30156\n",
      "557 SA65701 线上\n",
      "30186\n",
      "558 SA62001 线上\n",
      "30382\n",
      "559 SA62002 线上\n",
      "30421\n",
      "560 SA62003 展厅\n",
      "30422\n",
      "561 SA62003 线上\n",
      "30530\n",
      "562 SA62005 线上\n",
      "30764\n",
      "563 SA62006 线上\n",
      "30771\n",
      "564 SA64001 线上\n",
      "30789\n",
      "565 SA64005 线上\n",
      "30852\n",
      "566 SA52002 线上\n",
      "31100\n",
      "567 SA52003 线上\n",
      "31295\n",
      "568 SA52005 线上\n",
      "31321\n",
      "569 SA52006 线上\n",
      "31333\n",
      "570 SA52007 线上\n",
      "31602\n",
      "571 SA52008 线上\n",
      "31671\n",
      "572 SA52009 线上\n",
      "31700\n",
      "573 SA52010 线上\n",
      "31738\n",
      "574 SA52011 线上\n",
      "31761\n",
      "575 SA52013 线上\n",
      "31781\n",
      "576 SA52015 线上\n",
      "31786\n",
      "577 SA52016 线上\n",
      "32665\n",
      "578 SA52505 线上\n",
      "32703\n",
      "579 SA55002 线上\n",
      "32719\n",
      "580 SA55003 线上\n",
      "32829\n",
      "581 SA55005 线上\n",
      "32967\n",
      "582 SA55006 展厅\n",
      "32968\n",
      "583 SA55006 线上\n",
      "33158\n",
      "584 SA55007 线上\n",
      "33206\n",
      "585 SA55009 线上\n",
      "33208\n",
      "586 SA55010 线上\n",
      "33374\n",
      "587 SA55011 线上\n",
      "33375\n",
      "588 SA55012 线上\n",
      "33387\n",
      "589 SA55013 线上\n",
      "33397\n",
      "590 SA61001 线上\n",
      "33651\n",
      "591 SA61003 线上\n",
      "33739\n",
      "592 SA61005 线上\n",
      "33798\n",
      "593 SA61006 线上\n",
      "33810\n",
      "594 SA61007 展厅\n",
      "33811\n",
      "595 SA61007 线上\n",
      "34036\n",
      "596 SA61008 线上\n",
      "34071\n",
      "597 SA61010 线上\n",
      "34074\n",
      "598 SA61011 线上\n",
      "34173\n",
      "599 SA61012 线上\n",
      "34180\n",
      "600 SA61013 线上\n",
      "34193\n",
      "601 SA61015 线上\n",
      "34259\n",
      "602 SA61016 线上\n",
      "34315\n",
      "603 SA61017 线上\n",
      "34336\n",
      "604 SA61018 线上\n",
      "34352\n",
      "605 SA44050 线上\n",
      "34357\n"
     ]
    }
   ],
   "source": [
    "start = 0\n",
    "for idx, row in dealerUnique.iterrows():\n",
    "    print(idx, row['经销商代码'], row['客户来源更新'])\n",
    "    start = genNewData(row['经销商代码'], row['客户来源更新'], start)\n",
    "    print(start)"
   ]
  },
  {
   "cell_type": "code",
   "execution_count": 63,
   "metadata": {
    "execution": {
     "iopub.execute_input": "2021-02-09T10:31:04.477487Z",
     "iopub.status.busy": "2021-02-09T10:31:04.477302Z",
     "iopub.status.idle": "2021-02-09T10:31:04.489552Z",
     "shell.execute_reply": "2021-02-09T10:31:04.488720Z",
     "shell.execute_reply.started": "2021-02-09T10:31:04.477463Z"
    }
   },
   "outputs": [
    {
     "data": {
      "text/html": [
       "<div>\n",
       "<style scoped>\n",
       "    .dataframe tbody tr th:only-of-type {\n",
       "        vertical-align: middle;\n",
       "    }\n",
       "\n",
       "    .dataframe tbody tr th {\n",
       "        vertical-align: top;\n",
       "    }\n",
       "\n",
       "    .dataframe thead th {\n",
       "        text-align: right;\n",
       "    }\n",
       "</style>\n",
       "<table border=\"1\" class=\"dataframe\">\n",
       "  <thead>\n",
       "    <tr style=\"text-align: right;\">\n",
       "      <th></th>\n",
       "      <th>日期</th>\n",
       "      <th>大区名称</th>\n",
       "      <th>小区名称</th>\n",
       "      <th>经销商代码</th>\n",
       "      <th>潜客量</th>\n",
       "      <th>客户来源更新</th>\n",
       "      <th>车型new</th>\n",
       "    </tr>\n",
       "  </thead>\n",
       "  <tbody>\n",
       "    <tr>\n",
       "      <th>0</th>\n",
       "      <td>2021-01-09</td>\n",
       "      <td>东北区</td>\n",
       "      <td>吉林小区</td>\n",
       "      <td>SA15016</td>\n",
       "      <td>1</td>\n",
       "      <td>线上</td>\n",
       "      <td>Q5L</td>\n",
       "    </tr>\n",
       "  </tbody>\n",
       "</table>\n",
       "</div>"
      ],
      "text/plain": [
       "          日期 大区名称  小区名称    经销商代码 潜客量 客户来源更新 车型new\n",
       "0 2021-01-09  东北区  吉林小区  SA15016   1     线上   Q5L"
      ]
     },
     "execution_count": 63,
     "metadata": {},
     "output_type": "execute_result"
    }
   ],
   "source": [
    "dataMiss.head(1)"
   ]
  },
  {
   "cell_type": "code",
   "execution_count": 64,
   "metadata": {
    "execution": {
     "iopub.execute_input": "2021-02-09T10:31:04.490401Z",
     "iopub.status.busy": "2021-02-09T10:31:04.490186Z",
     "iopub.status.idle": "2021-02-09T10:31:04.502790Z",
     "shell.execute_reply": "2021-02-09T10:31:04.501563Z",
     "shell.execute_reply.started": "2021-02-09T10:31:04.490377Z"
    }
   },
   "outputs": [],
   "source": [
    "# a1 = dataMiss.groupby(['大区名称', '小区名称', '城市', '经销商代码', '客户来源更新', '车型new'])['潜客量'].sum().reset_index()\n",
    "\n",
    "# a2 = a1.merge(dataCOMPUTed, on=['大区名称', '小区名称', '城市', '经销商代码', '客户来源更新', '车型new'], suffixes=['_o', '_f'])"
   ]
  },
  {
   "cell_type": "code",
   "execution_count": 65,
   "metadata": {
    "execution": {
     "iopub.execute_input": "2021-02-09T10:31:04.504135Z",
     "iopub.status.busy": "2021-02-09T10:31:04.503859Z",
     "iopub.status.idle": "2021-02-09T10:31:04.518860Z",
     "shell.execute_reply": "2021-02-09T10:31:04.517416Z",
     "shell.execute_reply.started": "2021-02-09T10:31:04.504100Z"
    }
   },
   "outputs": [],
   "source": [
    "# 图表所需的层次\n",
    "# (2021-02-08)去掉了城市维度\n",
    "# graphLVL = [\"大区名称\", \"小区名称\", \"城市\", \"经销商代码\"]\n",
    "graphLVL = [\"大区名称\", \"小区名称\", \"经销商代码\"]"
   ]
  },
  {
   "cell_type": "code",
   "execution_count": 66,
   "metadata": {
    "collapsed": true,
    "execution": {
     "iopub.execute_input": "2021-02-09T10:31:04.520667Z",
     "iopub.status.busy": "2021-02-09T10:31:04.520276Z",
     "iopub.status.idle": "2021-02-09T10:31:08.314302Z",
     "shell.execute_reply": "2021-02-09T10:31:08.313363Z",
     "shell.execute_reply.started": "2021-02-09T10:31:04.520616Z"
    },
    "jupyter": {
     "outputs_hidden": true
    },
    "scrolled": true
   },
   "outputs": [
    {
     "name": "stderr",
     "output_type": "stream",
     "text": [
      "BokehDeprecationWarning: 'legend' keyword is deprecated, use explicit 'legend_label', 'legend_field', or 'legend_group' keywords instead\n",
      "BokehDeprecationWarning: 'legend' keyword is deprecated, use explicit 'legend_label', 'legend_field', or 'legend_group' keywords instead\n",
      "BokehDeprecationWarning: 'legend' keyword is deprecated, use explicit 'legend_label', 'legend_field', or 'legend_group' keywords instead\n",
      "BokehDeprecationWarning: 'legend' keyword is deprecated, use explicit 'legend_label', 'legend_field', or 'legend_group' keywords instead\n",
      "BokehDeprecationWarning: 'legend' keyword is deprecated, use explicit 'legend_label', 'legend_field', or 'legend_group' keywords instead\n",
      "BokehDeprecationWarning: 'legend' keyword is deprecated, use explicit 'legend_label', 'legend_field', or 'legend_group' keywords instead\n",
      "BokehDeprecationWarning: 'legend' keyword is deprecated, use explicit 'legend_label', 'legend_field', or 'legend_group' keywords instead\n",
      "BokehDeprecationWarning: 'legend' keyword is deprecated, use explicit 'legend_label', 'legend_field', or 'legend_group' keywords instead\n",
      "BokehDeprecationWarning: 'legend' keyword is deprecated, use explicit 'legend_label', 'legend_field', or 'legend_group' keywords instead\n",
      "BokehDeprecationWarning: 'legend' keyword is deprecated, use explicit 'legend_label', 'legend_field', or 'legend_group' keywords instead\n",
      "BokehDeprecationWarning: 'legend' keyword is deprecated, use explicit 'legend_label', 'legend_field', or 'legend_group' keywords instead\n",
      "BokehDeprecationWarning: 'legend' keyword is deprecated, use explicit 'legend_label', 'legend_field', or 'legend_group' keywords instead\n",
      "BokehDeprecationWarning: 'legend' keyword is deprecated, use explicit 'legend_label', 'legend_field', or 'legend_group' keywords instead\n",
      "BokehDeprecationWarning: 'legend' keyword is deprecated, use explicit 'legend_label', 'legend_field', or 'legend_group' keywords instead\n",
      "BokehDeprecationWarning: 'legend' keyword is deprecated, use explicit 'legend_label', 'legend_field', or 'legend_group' keywords instead\n",
      "BokehDeprecationWarning: 'legend' keyword is deprecated, use explicit 'legend_label', 'legend_field', or 'legend_group' keywords instead\n",
      "BokehDeprecationWarning: 'legend' keyword is deprecated, use explicit 'legend_label', 'legend_field', or 'legend_group' keywords instead\n",
      "BokehDeprecationWarning: 'legend' keyword is deprecated, use explicit 'legend_label', 'legend_field', or 'legend_group' keywords instead\n",
      "BokehDeprecationWarning: 'legend' keyword is deprecated, use explicit 'legend_label', 'legend_field', or 'legend_group' keywords instead\n",
      "BokehDeprecationWarning: 'legend' keyword is deprecated, use explicit 'legend_label', 'legend_field', or 'legend_group' keywords instead\n",
      "BokehDeprecationWarning: 'legend' keyword is deprecated, use explicit 'legend_label', 'legend_field', or 'legend_group' keywords instead\n",
      "BokehDeprecationWarning: 'legend' keyword is deprecated, use explicit 'legend_label', 'legend_field', or 'legend_group' keywords instead\n",
      "BokehDeprecationWarning: 'legend' keyword is deprecated, use explicit 'legend_label', 'legend_field', or 'legend_group' keywords instead\n",
      "BokehDeprecationWarning: 'legend' keyword is deprecated, use explicit 'legend_label', 'legend_field', or 'legend_group' keywords instead\n",
      "BokehDeprecationWarning: 'legend' keyword is deprecated, use explicit 'legend_label', 'legend_field', or 'legend_group' keywords instead\n",
      "BokehDeprecationWarning: 'legend' keyword is deprecated, use explicit 'legend_label', 'legend_field', or 'legend_group' keywords instead\n",
      "BokehDeprecationWarning: 'legend' keyword is deprecated, use explicit 'legend_label', 'legend_field', or 'legend_group' keywords instead\n",
      "BokehDeprecationWarning: 'legend' keyword is deprecated, use explicit 'legend_label', 'legend_field', or 'legend_group' keywords instead\n",
      "BokehDeprecationWarning: 'legend' keyword is deprecated, use explicit 'legend_label', 'legend_field', or 'legend_group' keywords instead\n",
      "BokehDeprecationWarning: 'legend' keyword is deprecated, use explicit 'legend_label', 'legend_field', or 'legend_group' keywords instead\n",
      "BokehDeprecationWarning: 'legend' keyword is deprecated, use explicit 'legend_label', 'legend_field', or 'legend_group' keywords instead\n",
      "BokehDeprecationWarning: 'legend' keyword is deprecated, use explicit 'legend_label', 'legend_field', or 'legend_group' keywords instead\n",
      "BokehDeprecationWarning: 'legend' keyword is deprecated, use explicit 'legend_label', 'legend_field', or 'legend_group' keywords instead\n",
      "BokehDeprecationWarning: 'legend' keyword is deprecated, use explicit 'legend_label', 'legend_field', or 'legend_group' keywords instead\n",
      "BokehDeprecationWarning: 'legend' keyword is deprecated, use explicit 'legend_label', 'legend_field', or 'legend_group' keywords instead\n",
      "BokehDeprecationWarning: 'legend' keyword is deprecated, use explicit 'legend_label', 'legend_field', or 'legend_group' keywords instead\n",
      "BokehDeprecationWarning: 'legend' keyword is deprecated, use explicit 'legend_label', 'legend_field', or 'legend_group' keywords instead\n",
      "BokehDeprecationWarning: 'legend' keyword is deprecated, use explicit 'legend_label', 'legend_field', or 'legend_group' keywords instead\n",
      "BokehDeprecationWarning: 'legend' keyword is deprecated, use explicit 'legend_label', 'legend_field', or 'legend_group' keywords instead\n",
      "BokehDeprecationWarning: 'legend' keyword is deprecated, use explicit 'legend_label', 'legend_field', or 'legend_group' keywords instead\n",
      "BokehDeprecationWarning: 'legend' keyword is deprecated, use explicit 'legend_label', 'legend_field', or 'legend_group' keywords instead\n",
      "BokehDeprecationWarning: 'legend' keyword is deprecated, use explicit 'legend_label', 'legend_field', or 'legend_group' keywords instead\n",
      "BokehDeprecationWarning: 'legend' keyword is deprecated, use explicit 'legend_label', 'legend_field', or 'legend_group' keywords instead\n",
      "BokehDeprecationWarning: 'legend' keyword is deprecated, use explicit 'legend_label', 'legend_field', or 'legend_group' keywords instead\n",
      "BokehDeprecationWarning: 'legend' keyword is deprecated, use explicit 'legend_label', 'legend_field', or 'legend_group' keywords instead\n",
      "BokehDeprecationWarning: 'legend' keyword is deprecated, use explicit 'legend_label', 'legend_field', or 'legend_group' keywords instead\n",
      "BokehDeprecationWarning: 'legend' keyword is deprecated, use explicit 'legend_label', 'legend_field', or 'legend_group' keywords instead\n",
      "BokehDeprecationWarning: 'legend' keyword is deprecated, use explicit 'legend_label', 'legend_field', or 'legend_group' keywords instead\n",
      "BokehDeprecationWarning: 'legend' keyword is deprecated, use explicit 'legend_label', 'legend_field', or 'legend_group' keywords instead\n",
      "BokehDeprecationWarning: 'legend' keyword is deprecated, use explicit 'legend_label', 'legend_field', or 'legend_group' keywords instead\n",
      "BokehDeprecationWarning: 'legend' keyword is deprecated, use explicit 'legend_label', 'legend_field', or 'legend_group' keywords instead\n",
      "BokehDeprecationWarning: 'legend' keyword is deprecated, use explicit 'legend_label', 'legend_field', or 'legend_group' keywords instead\n",
      "BokehDeprecationWarning: 'legend' keyword is deprecated, use explicit 'legend_label', 'legend_field', or 'legend_group' keywords instead\n",
      "BokehDeprecationWarning: 'legend' keyword is deprecated, use explicit 'legend_label', 'legend_field', or 'legend_group' keywords instead\n",
      "BokehDeprecationWarning: 'legend' keyword is deprecated, use explicit 'legend_label', 'legend_field', or 'legend_group' keywords instead\n",
      "BokehDeprecationWarning: 'legend' keyword is deprecated, use explicit 'legend_label', 'legend_field', or 'legend_group' keywords instead\n",
      "BokehDeprecationWarning: 'legend' keyword is deprecated, use explicit 'legend_label', 'legend_field', or 'legend_group' keywords instead\n",
      "BokehDeprecationWarning: 'legend' keyword is deprecated, use explicit 'legend_label', 'legend_field', or 'legend_group' keywords instead\n",
      "BokehDeprecationWarning: 'legend' keyword is deprecated, use explicit 'legend_label', 'legend_field', or 'legend_group' keywords instead\n",
      "BokehDeprecationWarning: 'legend' keyword is deprecated, use explicit 'legend_label', 'legend_field', or 'legend_group' keywords instead\n",
      "BokehDeprecationWarning: 'legend' keyword is deprecated, use explicit 'legend_label', 'legend_field', or 'legend_group' keywords instead\n",
      "BokehDeprecationWarning: 'legend' keyword is deprecated, use explicit 'legend_label', 'legend_field', or 'legend_group' keywords instead\n",
      "BokehDeprecationWarning: 'legend' keyword is deprecated, use explicit 'legend_label', 'legend_field', or 'legend_group' keywords instead\n",
      "BokehDeprecationWarning: 'legend' keyword is deprecated, use explicit 'legend_label', 'legend_field', or 'legend_group' keywords instead\n",
      "BokehDeprecationWarning: 'legend' keyword is deprecated, use explicit 'legend_label', 'legend_field', or 'legend_group' keywords instead\n",
      "BokehDeprecationWarning: 'legend' keyword is deprecated, use explicit 'legend_label', 'legend_field', or 'legend_group' keywords instead\n",
      "BokehDeprecationWarning: 'legend' keyword is deprecated, use explicit 'legend_label', 'legend_field', or 'legend_group' keywords instead\n",
      "BokehDeprecationWarning: 'legend' keyword is deprecated, use explicit 'legend_label', 'legend_field', or 'legend_group' keywords instead\n",
      "BokehDeprecationWarning: 'legend' keyword is deprecated, use explicit 'legend_label', 'legend_field', or 'legend_group' keywords instead\n",
      "BokehDeprecationWarning: 'legend' keyword is deprecated, use explicit 'legend_label', 'legend_field', or 'legend_group' keywords instead\n",
      "BokehDeprecationWarning: 'legend' keyword is deprecated, use explicit 'legend_label', 'legend_field', or 'legend_group' keywords instead\n",
      "BokehDeprecationWarning: 'legend' keyword is deprecated, use explicit 'legend_label', 'legend_field', or 'legend_group' keywords instead\n"
     ]
    }
   ],
   "source": [
    "pics = []\n",
    "for pic in graphLVL:\n",
    "    pics.extend(batDraw(pic))\n",
    "html = pb.plot_grid(pics, plot_width=300, return_html=True)"
   ]
  },
  {
   "cell_type": "code",
   "execution_count": 67,
   "metadata": {
    "execution": {
     "iopub.execute_input": "2021-02-09T10:31:08.315377Z",
     "iopub.status.busy": "2021-02-09T10:31:08.315190Z",
     "iopub.status.idle": "2021-02-09T10:31:08.319653Z",
     "shell.execute_reply": "2021-02-09T10:31:08.318780Z",
     "shell.execute_reply.started": "2021-02-09T10:31:08.315353Z"
    }
   },
   "outputs": [],
   "source": [
    "with open(\"Results/AudiPotentialCustomer/History/DistributionCheck.%s.html\" % monstr, 'w') as f:\n",
    "    f.write(html)"
   ]
  },
  {
   "cell_type": "code",
   "execution_count": 68,
   "metadata": {
    "execution": {
     "iopub.execute_input": "2021-02-09T10:31:08.320540Z",
     "iopub.status.busy": "2021-02-09T10:31:08.320357Z",
     "iopub.status.idle": "2021-02-09T10:31:08.332824Z",
     "shell.execute_reply": "2021-02-09T10:31:08.332176Z",
     "shell.execute_reply.started": "2021-02-09T10:31:08.320516Z"
    }
   },
   "outputs": [],
   "source": [
    "# 轮盘赌算法，应该用不着了，直接用估计值去填坑\n",
    "# import random\n",
    "# maxnum = 10000\n",
    "# pDIS = [0.046414, 0.050633, 0.147679, 0.147679, 0.270042, 0.008439, 0.004219, 0.033755, 0.025316, 0.07173, 0.004219, 0.008439, 0.181435]\n",
    "# pDISsum = []\n",
    "# for i in range(len(pDIS)):\n",
    "#     if pDISsum:\n",
    "#         pDISsum.append(pDISsum[-1] + pDIS[i])\n",
    "#     else:\n",
    "#         pDISsum.append(pDIS[i])\n",
    "# result = [0] * len(pDIS)\n",
    "# for i in range(maxnum):\n",
    "#     rNUM = random.random()\n",
    "#     for n, m in enumerate(pDISsum):\n",
    "#         if rNUM < m:\n",
    "#             result[n] += 1\n",
    "#             break\n",
    "# print(list(map(lambda x: '%.3f' % x, pDIS)))      \n",
    "# print(list(map(lambda x: '%.3f' % (x/maxnum), result)))"
   ]
  },
  {
   "cell_type": "code",
   "execution_count": 69,
   "metadata": {
    "execution": {
     "iopub.execute_input": "2021-02-09T10:31:08.333664Z",
     "iopub.status.busy": "2021-02-09T10:31:08.333439Z",
     "iopub.status.idle": "2021-02-09T10:31:08.355727Z",
     "shell.execute_reply": "2021-02-09T10:31:08.354405Z",
     "shell.execute_reply.started": "2021-02-09T10:31:08.333641Z"
    }
   },
   "outputs": [
    {
     "data": {
      "text/plain": [
       "(34357, 303777)"
      ]
     },
     "execution_count": 69,
     "metadata": {},
     "output_type": "execute_result"
    }
   ],
   "source": [
    "dataMiss['潜客量'].sum(), dataAvailable['潜客量'].sum()"
   ]
  },
  {
   "cell_type": "code",
   "execution_count": 70,
   "metadata": {
    "execution": {
     "iopub.execute_input": "2021-02-09T10:31:08.357393Z",
     "iopub.status.busy": "2021-02-09T10:31:08.357058Z",
     "iopub.status.idle": "2021-02-09T10:31:08.383562Z",
     "shell.execute_reply": "2021-02-09T10:31:08.382479Z",
     "shell.execute_reply.started": "2021-02-09T10:31:08.357349Z"
    }
   },
   "outputs": [],
   "source": [
    "databookNew = dataAvailable.append(dataMiss, ignore_index=True)"
   ]
  },
  {
   "cell_type": "code",
   "execution_count": 71,
   "metadata": {
    "execution": {
     "iopub.execute_input": "2021-02-09T10:31:08.384633Z",
     "iopub.status.busy": "2021-02-09T10:31:08.384447Z",
     "iopub.status.idle": "2021-02-09T10:31:08.397283Z",
     "shell.execute_reply": "2021-02-09T10:31:08.396446Z",
     "shell.execute_reply.started": "2021-02-09T10:31:08.384608Z"
    }
   },
   "outputs": [
    {
     "data": {
      "text/html": [
       "<div>\n",
       "<style scoped>\n",
       "    .dataframe tbody tr th:only-of-type {\n",
       "        vertical-align: middle;\n",
       "    }\n",
       "\n",
       "    .dataframe tbody tr th {\n",
       "        vertical-align: top;\n",
       "    }\n",
       "\n",
       "    .dataframe thead th {\n",
       "        text-align: right;\n",
       "    }\n",
       "</style>\n",
       "<table border=\"1\" class=\"dataframe\">\n",
       "  <thead>\n",
       "    <tr style=\"text-align: right;\">\n",
       "      <th></th>\n",
       "      <th>日期</th>\n",
       "      <th>大区名称</th>\n",
       "      <th>小区名称</th>\n",
       "      <th>经销商代码</th>\n",
       "      <th>潜客量</th>\n",
       "      <th>客户来源更新</th>\n",
       "      <th>车型new</th>\n",
       "    </tr>\n",
       "  </thead>\n",
       "  <tbody>\n",
       "    <tr>\n",
       "      <th>0</th>\n",
       "      <td>2021-01-01</td>\n",
       "      <td>北部区</td>\n",
       "      <td>北京1区</td>\n",
       "      <td>SA11003</td>\n",
       "      <td>1</td>\n",
       "      <td>线上</td>\n",
       "      <td>A3 SpB</td>\n",
       "    </tr>\n",
       "  </tbody>\n",
       "</table>\n",
       "</div>"
      ],
      "text/plain": [
       "          日期 大区名称  小区名称    经销商代码 潜客量 客户来源更新   车型new\n",
       "0 2021-01-01  北部区  北京1区  SA11003   1     线上  A3 SpB"
      ]
     },
     "execution_count": 71,
     "metadata": {},
     "output_type": "execute_result"
    }
   ],
   "source": [
    "databookNew.head(1)"
   ]
  },
  {
   "cell_type": "code",
   "execution_count": 72,
   "metadata": {
    "execution": {
     "iopub.execute_input": "2021-02-09T10:31:08.398087Z",
     "iopub.status.busy": "2021-02-09T10:31:08.397912Z",
     "iopub.status.idle": "2021-02-09T10:31:08.421948Z",
     "shell.execute_reply": "2021-02-09T10:31:08.420996Z",
     "shell.execute_reply.started": "2021-02-09T10:31:08.398064Z"
    }
   },
   "outputs": [
    {
     "data": {
      "text/plain": [
       "(338134, 338134, 303777, 34357)"
      ]
     },
     "execution_count": 72,
     "metadata": {},
     "output_type": "execute_result"
    }
   ],
   "source": [
    "# 这是一个总数检查，databookNew = databookALL\n",
    "databookNew['潜客量'].sum(),databookALL['潜客量'].sum(), dataAvailable['潜客量'].sum(), dataMiss['潜客量'].sum()"
   ]
  },
  {
   "cell_type": "code",
   "execution_count": 73,
   "metadata": {
    "execution": {
     "iopub.execute_input": "2021-02-09T10:31:08.423051Z",
     "iopub.status.busy": "2021-02-09T10:31:08.422839Z",
     "iopub.status.idle": "2021-02-09T10:31:32.436456Z",
     "shell.execute_reply": "2021-02-09T10:31:32.435537Z",
     "shell.execute_reply.started": "2021-02-09T10:31:08.423027Z"
    }
   },
   "outputs": [],
   "source": [
    "# databookNew = databookNew.groupby(['月份', '日期', '大区名称', '大区', '小区名称', '经销商代码', '经销商名称', '城市', '客户来源更新', '车型new'])['潜客量'].sum().reset_index()\n",
    "databookNew = databookNew.groupby(['日期', '大区名称', '小区名称', '经销商代码', '客户来源更新', '车型new'])['潜客量'].sum().reset_index()"
   ]
  },
  {
   "cell_type": "code",
   "execution_count": 74,
   "metadata": {
    "execution": {
     "iopub.execute_input": "2021-02-09T10:31:32.437555Z",
     "iopub.status.busy": "2021-02-09T10:31:32.437367Z",
     "iopub.status.idle": "2021-02-09T10:31:32.984803Z",
     "shell.execute_reply": "2021-02-09T10:31:32.983870Z",
     "shell.execute_reply.started": "2021-02-09T10:31:32.437530Z"
    }
   },
   "outputs": [],
   "source": [
    "# 这里做 城市、经销商名称、大区 的生成\n",
    "# databookNew['大区'] = databook['大区名称'].map(settingHash['bigarea'])\n",
    "databookNew['大区'] = databookNew['大区名称'].map(settingHash['bigarea'])\n",
    "databookNew['月份'] = databookNew['日期'].map(lambda x: str(x.month)+\"月\")\n",
    "databookNew['经销商名称'] = databookNew['经销商代码'].map(settingHash['cname'])\n",
    "databookNew['城市'] = databookNew['经销商代码'].map(settingHash['city'])"
   ]
  },
  {
   "cell_type": "code",
   "execution_count": 75,
   "metadata": {
    "execution": {
     "iopub.execute_input": "2021-02-09T10:31:32.985855Z",
     "iopub.status.busy": "2021-02-09T10:31:32.985668Z",
     "iopub.status.idle": "2021-02-09T10:31:33.062032Z",
     "shell.execute_reply": "2021-02-09T10:31:33.061034Z",
     "shell.execute_reply.started": "2021-02-09T10:31:32.985830Z"
    }
   },
   "outputs": [],
   "source": [
    "# databookNew 做类型转换，减少体积\n",
    "covTypes(databookNew)"
   ]
  },
  {
   "cell_type": "code",
   "execution_count": 76,
   "metadata": {
    "execution": {
     "iopub.execute_input": "2021-02-09T10:31:33.063128Z",
     "iopub.status.busy": "2021-02-09T10:31:33.062942Z",
     "iopub.status.idle": "2021-02-09T10:32:26.556957Z",
     "shell.execute_reply": "2021-02-09T10:32:26.555902Z",
     "shell.execute_reply.started": "2021-02-09T10:31:33.063104Z"
    }
   },
   "outputs": [],
   "source": [
    "# 存两个文件\n",
    "# 1. pkl压缩版，万一以后要操作就不必从excel中读取了\n",
    "# 2. excel文件，分发给相关工作人员\n",
    "databookNew.to_pickle('Results/AudiPotentialCustomer/History/potential.mani.%s.pkl' % monstr, compression='bz2')\n",
    "databookNew.to_excel('Results/potential.%s.xlsx' % monstr, encoding='utf8', header=True, index=False)"
   ]
  },
  {
   "cell_type": "code",
   "execution_count": 77,
   "metadata": {
    "execution": {
     "iopub.execute_input": "2021-02-09T10:32:26.558068Z",
     "iopub.status.busy": "2021-02-09T10:32:26.557887Z",
     "iopub.status.idle": "2021-02-09T10:32:26.561791Z",
     "shell.execute_reply": "2021-02-09T10:32:26.560952Z",
     "shell.execute_reply.started": "2021-02-09T10:32:26.558044Z"
    }
   },
   "outputs": [],
   "source": [
    "endtime = datetime.datetime.now()"
   ]
  },
  {
   "cell_type": "code",
   "execution_count": 78,
   "metadata": {
    "execution": {
     "iopub.execute_input": "2021-02-09T10:32:26.562762Z",
     "iopub.status.busy": "2021-02-09T10:32:26.562571Z",
     "iopub.status.idle": "2021-02-09T10:32:26.585960Z",
     "shell.execute_reply": "2021-02-09T10:32:26.584464Z",
     "shell.execute_reply.started": "2021-02-09T10:32:26.562737Z"
    }
   },
   "outputs": [
    {
     "data": {
      "text/plain": [
       "267"
      ]
     },
     "execution_count": 78,
     "metadata": {},
     "output_type": "execute_result"
    }
   ],
   "source": [
    "(endtime - starttime).seconds"
   ]
  }
 ],
 "metadata": {
  "kernelspec": {
   "display_name": "Python 3",
   "language": "python",
   "name": "python3"
  },
  "language_info": {
   "codemirror_mode": {
    "name": "ipython",
    "version": 3
   },
   "file_extension": ".py",
   "mimetype": "text/x-python",
   "name": "python",
   "nbconvert_exporter": "python",
   "pygments_lexer": "ipython3",
   "version": "3.7.9"
  }
 },
 "nbformat": 4,
 "nbformat_minor": 4
}
