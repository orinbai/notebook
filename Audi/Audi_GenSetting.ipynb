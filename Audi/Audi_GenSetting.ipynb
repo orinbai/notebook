{
 "cells": [
  {
   "cell_type": "code",
   "execution_count": 1,
   "metadata": {
    "execution": {
     "iopub.execute_input": "2021-02-09T10:22:02.496011Z",
     "iopub.status.busy": "2021-02-09T10:22:02.495823Z",
     "iopub.status.idle": "2021-02-09T10:22:02.847240Z",
     "shell.execute_reply": "2021-02-09T10:22:02.846335Z",
     "shell.execute_reply.started": "2021-02-09T10:22:02.495985Z"
    }
   },
   "outputs": [],
   "source": [
    "import pandas as pd\n",
    "import datetime"
   ]
  },
  {
   "cell_type": "code",
   "execution_count": 2,
   "metadata": {
    "execution": {
     "iopub.execute_input": "2021-02-09T10:22:02.849078Z",
     "iopub.status.busy": "2021-02-09T10:22:02.848879Z",
     "iopub.status.idle": "2021-02-09T10:22:02.852660Z",
     "shell.execute_reply": "2021-02-09T10:22:02.851757Z",
     "shell.execute_reply.started": "2021-02-09T10:22:02.849052Z"
    }
   },
   "outputs": [],
   "source": [
    "starttime = datetime.datetime.now()"
   ]
  },
  {
   "cell_type": "code",
   "execution_count": 3,
   "metadata": {
    "execution": {
     "iopub.execute_input": "2021-02-09T10:22:02.854476Z",
     "iopub.status.busy": "2021-02-09T10:22:02.854244Z",
     "iopub.status.idle": "2021-02-09T10:22:23.261773Z",
     "shell.execute_reply": "2021-02-09T10:22:23.260742Z",
     "shell.execute_reply.started": "2021-02-09T10:22:02.854450Z"
    }
   },
   "outputs": [],
   "source": [
    "# 这个文件名和目录会发生变化，记得按实际情况修改\n",
    "dataDF = pd.read_excel(\"Data/AudiPotentialCustomer/1月整月潜客量原始_20210203导出.xlsx\", sheet_name=0)\n",
    "setDF = pd.read_excel(\"Data/AudiPotentialCustomer/车型代码－2021版_update0127.xlsx\")"
   ]
  },
  {
   "cell_type": "code",
   "execution_count": 4,
   "metadata": {
    "execution": {
     "iopub.execute_input": "2021-02-09T10:22:23.263015Z",
     "iopub.status.busy": "2021-02-09T10:22:23.262830Z",
     "iopub.status.idle": "2021-02-09T10:22:23.274571Z",
     "shell.execute_reply": "2021-02-09T10:22:23.273489Z",
     "shell.execute_reply.started": "2021-02-09T10:22:23.262990Z"
    }
   },
   "outputs": [],
   "source": [
    "# 把读入的数据列名改成我们处理时的名字，这个也可能会需要按实际情况修改。\n",
    "dataDF.rename(columns={'快速筛选-日期':'日期', 'Unnamed: 6':'潜客量', '经销商CODE':'经销商代码', '一级渠道':'客户来源_原始', '车系分组':'分组名称'},inplace=True)"
   ]
  },
  {
   "cell_type": "code",
   "execution_count": 5,
   "metadata": {
    "execution": {
     "iopub.execute_input": "2021-02-09T10:22:23.275454Z",
     "iopub.status.busy": "2021-02-09T10:22:23.275277Z",
     "iopub.status.idle": "2021-02-09T10:22:23.291386Z",
     "shell.execute_reply": "2021-02-09T10:22:23.290033Z",
     "shell.execute_reply.started": "2021-02-09T10:22:23.275429Z"
    }
   },
   "outputs": [],
   "source": [
    "# 这里需要增加一个判断，dataDF 前四列不能有空值，潜客量也不能为空。\n",
    "#      日期 大区名称 小区名称 经销商代码\n",
    "# 建乐 有时间补充"
   ]
  },
  {
   "cell_type": "code",
   "execution_count": 6,
   "metadata": {
    "execution": {
     "iopub.execute_input": "2021-02-09T10:22:23.292817Z",
     "iopub.status.busy": "2021-02-09T10:22:23.292515Z",
     "iopub.status.idle": "2021-02-09T10:22:23.308577Z",
     "shell.execute_reply": "2021-02-09T10:22:23.306926Z",
     "shell.execute_reply.started": "2021-02-09T10:22:23.292779Z"
    }
   },
   "outputs": [],
   "source": [
    "def datestr(year, mon):\n",
    "    if len(str(mon)) < 2:\n",
    "        return str(year)+'0'+str(mon)\n",
    "    else:\n",
    "        return str(year)+str(mon)"
   ]
  },
  {
   "cell_type": "code",
   "execution_count": 7,
   "metadata": {
    "execution": {
     "iopub.execute_input": "2021-02-09T10:22:23.310560Z",
     "iopub.status.busy": "2021-02-09T10:22:23.310157Z",
     "iopub.status.idle": "2021-02-09T10:22:23.342142Z",
     "shell.execute_reply": "2021-02-09T10:22:23.341035Z",
     "shell.execute_reply.started": "2021-02-09T10:22:23.310503Z"
    }
   },
   "outputs": [
    {
     "data": {
      "text/plain": [
       "'202101'"
      ]
     },
     "execution_count": 7,
     "metadata": {},
     "output_type": "execute_result"
    }
   ],
   "source": [
    "dataNum = datestr(dataDF.loc[1]['日期'].year, dataDF.loc[1]['日期'].month)\n",
    "dataNum"
   ]
  },
  {
   "cell_type": "code",
   "execution_count": 8,
   "metadata": {
    "execution": {
     "iopub.execute_input": "2021-02-09T10:22:23.344453Z",
     "iopub.status.busy": "2021-02-09T10:22:23.344264Z",
     "iopub.status.idle": "2021-02-09T10:22:23.560274Z",
     "shell.execute_reply": "2021-02-09T10:22:23.559336Z",
     "shell.execute_reply.started": "2021-02-09T10:22:23.344428Z"
    }
   },
   "outputs": [],
   "source": [
    "# 读取配置信息并排重获得将要输出的数据\n",
    "setDF.rename(columns={'经销商':'经销商代码'}, inplace=True)\n",
    "hash1 = setDF[['经销商代码', '城市']].drop_duplicates()\n",
    "hash2 = setDF[['经销商代码', '经销商名称']].drop_duplicates()\n",
    "hash3 = setDF[['Region', '大区']].drop_duplicates()\n",
    "hash4 = dataDF[['分组名称', '分组名称']].drop_duplicates()\n",
    "# 重命名列\n",
    "hash3.rename(columns={'大区': '大区名称', 'Region': '大区'}, inplace=True)\n",
    "hash4.columns = ['分组名称', '车型new']"
   ]
  },
  {
   "cell_type": "code",
   "execution_count": 9,
   "metadata": {
    "execution": {
     "iopub.execute_input": "2021-02-09T10:22:23.561534Z",
     "iopub.status.busy": "2021-02-09T10:22:23.561340Z",
     "iopub.status.idle": "2021-02-09T10:22:23.566327Z",
     "shell.execute_reply": "2021-02-09T10:22:23.565617Z",
     "shell.execute_reply.started": "2021-02-09T10:22:23.561509Z"
    }
   },
   "outputs": [],
   "source": [
    "def covTypes(df):\n",
    "    for col in df.columns:\n",
    "        if col == '潜客量':\n",
    "            df[col] = df[col].astype('int32')\n",
    "        elif col== '日期':\n",
    "            continue\n",
    "        else:\n",
    "            df[col] = df[col].astype('category')"
   ]
  },
  {
   "cell_type": "code",
   "execution_count": 10,
   "metadata": {
    "execution": {
     "iopub.execute_input": "2021-02-09T10:22:23.567253Z",
     "iopub.status.busy": "2021-02-09T10:22:23.567076Z",
     "iopub.status.idle": "2021-02-09T10:22:23.628026Z",
     "shell.execute_reply": "2021-02-09T10:22:23.627066Z",
     "shell.execute_reply.started": "2021-02-09T10:22:23.567228Z"
    }
   },
   "outputs": [],
   "source": [
    "covTypes(dataDF)"
   ]
  },
  {
   "cell_type": "code",
   "execution_count": 11,
   "metadata": {
    "execution": {
     "iopub.execute_input": "2021-02-09T10:22:23.628941Z",
     "iopub.status.busy": "2021-02-09T10:22:23.628761Z",
     "iopub.status.idle": "2021-02-09T10:22:24.087080Z",
     "shell.execute_reply": "2021-02-09T10:22:24.086081Z",
     "shell.execute_reply.started": "2021-02-09T10:22:23.628915Z"
    }
   },
   "outputs": [],
   "source": [
    "# 如果每次都在这里生成pkl，那么missval处理时就不用再来一遍了\n",
    "# 存一个压缩过的pkl文件，使用bz2格式\n",
    "# 如果使用压缩，那么在读取的时候也需要增加 compression='bz2'\n",
    "dataDF.to_pickle(\"Data/AudiPotentialCustomer/History/potential.%s.pkl\" % dataNum, compression='bz2')"
   ]
  },
  {
   "cell_type": "code",
   "execution_count": 12,
   "metadata": {
    "execution": {
     "iopub.execute_input": "2021-02-09T10:22:24.088007Z",
     "iopub.status.busy": "2021-02-09T10:22:24.087827Z",
     "iopub.status.idle": "2021-02-09T10:22:24.208953Z",
     "shell.execute_reply": "2021-02-09T10:22:24.208158Z",
     "shell.execute_reply.started": "2021-02-09T10:22:24.087981Z"
    }
   },
   "outputs": [],
   "source": [
    "# 写excel文件\n",
    "settingExcel = pd.ExcelWriter(\"Data/AudiPotentialCustomer/settingALL.xlsx\")\n",
    "hash1.to_excel(settingExcel, sheet_name=\"city\", index=False)\n",
    "hash2.to_excel(settingExcel, sheet_name=\"cname\", index=False)\n",
    "hash3[['大区名称', '大区']].to_excel(settingExcel, sheet_name='bigarea', index=False)\n",
    "hash4.to_excel(settingExcel, sheet_name='cartype', index=False)\n",
    "settingExcel.save()\n",
    "settingExcel.close()"
   ]
  },
  {
   "cell_type": "code",
   "execution_count": 13,
   "metadata": {
    "execution": {
     "iopub.execute_input": "2021-02-09T10:22:24.209943Z",
     "iopub.status.busy": "2021-02-09T10:22:24.209760Z",
     "iopub.status.idle": "2021-02-09T10:22:24.213250Z",
     "shell.execute_reply": "2021-02-09T10:22:24.212659Z",
     "shell.execute_reply.started": "2021-02-09T10:22:24.209917Z"
    }
   },
   "outputs": [],
   "source": [
    "endtime = datetime.datetime.now()"
   ]
  },
  {
   "cell_type": "code",
   "execution_count": 14,
   "metadata": {
    "execution": {
     "iopub.execute_input": "2021-02-09T10:22:24.214116Z",
     "iopub.status.busy": "2021-02-09T10:22:24.213936Z",
     "iopub.status.idle": "2021-02-09T10:22:24.228070Z",
     "shell.execute_reply": "2021-02-09T10:22:24.227050Z",
     "shell.execute_reply.started": "2021-02-09T10:22:24.214091Z"
    }
   },
   "outputs": [
    {
     "data": {
      "text/plain": [
       "21"
      ]
     },
     "execution_count": 14,
     "metadata": {},
     "output_type": "execute_result"
    }
   ],
   "source": [
    "(endtime - starttime).seconds"
   ]
  }
 ],
 "metadata": {
  "kernelspec": {
   "display_name": "py35",
   "language": "python",
   "name": "py35"
  },
  "language_info": {
   "codemirror_mode": {
    "name": "ipython",
    "version": 3
   },
   "file_extension": ".py",
   "mimetype": "text/x-python",
   "name": "python",
   "nbconvert_exporter": "python",
   "pygments_lexer": "ipython3",
   "version": "3.5.2"
  }
 },
 "nbformat": 4,
 "nbformat_minor": 4
}
