{
 "cells": [
  {
   "cell_type": "code",
   "execution_count": 1,
   "metadata": {
    "execution": {
     "iopub.execute_input": "2021-02-09T10:12:03.123926Z",
     "iopub.status.busy": "2021-02-09T10:12:03.123715Z",
     "iopub.status.idle": "2021-02-09T10:12:03.468462Z",
     "shell.execute_reply": "2021-02-09T10:12:03.467662Z",
     "shell.execute_reply.started": "2021-02-09T10:12:03.123900Z"
    }
   },
   "outputs": [],
   "source": [
    "import pandas as pd\n",
    "import datetime"
   ]
  },
  {
   "cell_type": "code",
   "execution_count": 2,
   "metadata": {
    "execution": {
     "iopub.execute_input": "2021-02-09T10:12:03.472508Z",
     "iopub.status.busy": "2021-02-09T10:12:03.472326Z",
     "iopub.status.idle": "2021-02-09T10:12:03.475813Z",
     "shell.execute_reply": "2021-02-09T10:12:03.475084Z",
     "shell.execute_reply.started": "2021-02-09T10:12:03.472483Z"
    }
   },
   "outputs": [],
   "source": [
    "starttime = datetime.datetime.now()"
   ]
  },
  {
   "cell_type": "code",
   "execution_count": 3,
   "metadata": {
    "execution": {
     "iopub.execute_input": "2021-02-09T10:12:03.477438Z",
     "iopub.status.busy": "2021-02-09T10:12:03.477256Z",
     "iopub.status.idle": "2021-02-09T10:12:23.252070Z",
     "shell.execute_reply": "2021-02-09T10:12:23.250927Z",
     "shell.execute_reply.started": "2021-02-09T10:12:03.477414Z"
    }
   },
   "outputs": [],
   "source": [
    "# 这个文件名和目录会发生变化，记得按实际情况修改\n",
    "dataDF = pd.read_excel(\"Data/AudiPotentialCustomer/1月整月潜客量原始_20210203导出.xlsx\", sheet_name=0)\n",
    "setDF = pd.read_excel(\"Data/AudiPotentialCustomer/车型代码－2021版_update0127.xlsx\")"
   ]
  },
  {
   "cell_type": "code",
   "execution_count": 4,
   "metadata": {
    "execution": {
     "iopub.execute_input": "2021-02-09T10:12:23.253086Z",
     "iopub.status.busy": "2021-02-09T10:12:23.252883Z",
     "iopub.status.idle": "2021-02-09T10:12:23.262813Z",
     "shell.execute_reply": "2021-02-09T10:12:23.261808Z",
     "shell.execute_reply.started": "2021-02-09T10:12:23.253049Z"
    }
   },
   "outputs": [],
   "source": [
    "# 把读入的数据列名改成我们处理时的名字，这个也可能会需要按实际情况修改。\n",
    "dataDF.rename(columns={'快速筛选-日期':'日期', 'Unnamed: 6':'潜客量', '经销商CODE':'经销商代码', '一级渠道':'客户来源_原始', '车系分组':'分组名称'},inplace=True)"
   ]
  },
  {
   "cell_type": "code",
   "execution_count": 5,
   "metadata": {
    "execution": {
     "iopub.execute_input": "2021-02-09T10:12:23.263989Z",
     "iopub.status.busy": "2021-02-09T10:12:23.263765Z",
     "iopub.status.idle": "2021-02-09T10:12:23.279788Z",
     "shell.execute_reply": "2021-02-09T10:12:23.278351Z",
     "shell.execute_reply.started": "2021-02-09T10:12:23.263950Z"
    }
   },
   "outputs": [],
   "source": [
    "# 这里需要增加一个判断，dataDF 前四列不能有空值，潜客量也不能为空。\n",
    "#      日期 大区名称 小区名称 经销商代码\n",
    "# 建乐 有时间补充"
   ]
  },
  {
   "cell_type": "code",
   "execution_count": 6,
   "metadata": {
    "execution": {
     "iopub.execute_input": "2021-02-09T10:12:23.281373Z",
     "iopub.status.busy": "2021-02-09T10:12:23.280923Z",
     "iopub.status.idle": "2021-02-09T10:12:23.302373Z",
     "shell.execute_reply": "2021-02-09T10:12:23.300803Z",
     "shell.execute_reply.started": "2021-02-09T10:12:23.281329Z"
    }
   },
   "outputs": [],
   "source": [
    "def datestr(year, mon):\n",
    "    if len(str(mon)) < 2:\n",
    "        return str(year)+'0'+str(mon)\n",
    "    else:\n",
    "        return str(year)+str(mon)"
   ]
  },
  {
   "cell_type": "code",
   "execution_count": 7,
   "metadata": {
    "execution": {
     "iopub.execute_input": "2021-02-09T10:12:23.304267Z",
     "iopub.status.busy": "2021-02-09T10:12:23.303889Z",
     "iopub.status.idle": "2021-02-09T10:12:23.342433Z",
     "shell.execute_reply": "2021-02-09T10:12:23.341331Z",
     "shell.execute_reply.started": "2021-02-09T10:12:23.304211Z"
    }
   },
   "outputs": [
    {
     "data": {
      "text/plain": [
       "'202101'"
      ]
     },
     "execution_count": 7,
     "metadata": {},
     "output_type": "execute_result"
    }
   ],
   "source": [
    "dataNum = datestr(dataDF.loc[1]['日期'].year, dataDF.loc[1]['日期'].month)\n",
    "dataNum"
   ]
  },
  {
   "cell_type": "code",
   "execution_count": 8,
   "metadata": {
    "execution": {
     "iopub.execute_input": "2021-02-09T10:12:23.344683Z",
     "iopub.status.busy": "2021-02-09T10:12:23.344491Z",
     "iopub.status.idle": "2021-02-09T10:12:23.562404Z",
     "shell.execute_reply": "2021-02-09T10:12:23.561269Z",
     "shell.execute_reply.started": "2021-02-09T10:12:23.344658Z"
    }
   },
   "outputs": [],
   "source": [
    "# 读取配置信息并排重获得将要输出的数据\n",
    "setDF.rename(columns={'经销商':'经销商代码'}, inplace=True)\n",
    "hash1 = setDF[['经销商代码', '城市']].drop_duplicates()\n",
    "hash2 = setDF[['经销商代码', '经销商名称']].drop_duplicates()\n",
    "hash3 = setDF[['Region', '大区']].drop_duplicates()\n",
    "hash4 = dataDF[['分组名称', '分组名称']].drop_duplicates()\n",
    "# 重命名列\n",
    "hash3.rename(columns={'大区': '大区名称', 'Region': '大区'}, inplace=True)\n",
    "hash4.columns = ['分组名称', '车型new']"
   ]
  },
  {
   "cell_type": "code",
   "execution_count": 9,
   "metadata": {
    "execution": {
     "iopub.execute_input": "2021-02-09T10:12:23.563984Z",
     "iopub.status.busy": "2021-02-09T10:12:23.563789Z",
     "iopub.status.idle": "2021-02-09T10:12:23.568927Z",
     "shell.execute_reply": "2021-02-09T10:12:23.568049Z",
     "shell.execute_reply.started": "2021-02-09T10:12:23.563959Z"
    }
   },
   "outputs": [],
   "source": [
    "def covTypes(df):\n",
    "    for col in df.columns:\n",
    "        if col == '潜客量':\n",
    "            df[col] = df[col].astype('int32')\n",
    "        elif col== '日期':\n",
    "            continue\n",
    "        else:\n",
    "            df[col] = df[col].astype('category')"
   ]
  },
  {
   "cell_type": "code",
   "execution_count": 10,
   "metadata": {
    "execution": {
     "iopub.execute_input": "2021-02-09T10:12:23.569837Z",
     "iopub.status.busy": "2021-02-09T10:12:23.569665Z",
     "iopub.status.idle": "2021-02-09T10:12:23.637860Z",
     "shell.execute_reply": "2021-02-09T10:12:23.636772Z",
     "shell.execute_reply.started": "2021-02-09T10:12:23.569813Z"
    }
   },
   "outputs": [],
   "source": [
    "covTypes(dataDF)"
   ]
  },
  {
   "cell_type": "code",
   "execution_count": 11,
   "metadata": {
    "execution": {
     "iopub.execute_input": "2021-02-09T10:12:23.638812Z",
     "iopub.status.busy": "2021-02-09T10:12:23.638633Z",
     "iopub.status.idle": "2021-02-09T10:12:24.102590Z",
     "shell.execute_reply": "2021-02-09T10:12:24.101622Z",
     "shell.execute_reply.started": "2021-02-09T10:12:23.638787Z"
    }
   },
   "outputs": [],
   "source": [
    "# 如果每次都在这里生成pkl，那么missval处理时就不用再来一遍了\n",
    "# 存一个压缩过的pkl文件，使用bz2格式\n",
    "# 如果使用压缩，那么在读取的时候也需要增加 compression='bz2'\n",
    "dataDF.to_pickle(\"Data/AudiPotentialCustomer/History/potential.%s.pkl\" % dataNum, compression='bz2')"
   ]
  },
  {
   "cell_type": "code",
   "execution_count": 12,
   "metadata": {
    "execution": {
     "iopub.execute_input": "2021-02-09T10:12:24.103671Z",
     "iopub.status.busy": "2021-02-09T10:12:24.103492Z",
     "iopub.status.idle": "2021-02-09T10:12:24.220732Z",
     "shell.execute_reply": "2021-02-09T10:12:24.219782Z",
     "shell.execute_reply.started": "2021-02-09T10:12:24.103646Z"
    }
   },
   "outputs": [],
   "source": [
    "# 写excel文件\n",
    "settingExcel = pd.ExcelWriter(\"Data/AudiPotentialCustomer/settingALL.xlsx\")\n",
    "hash1.to_excel(settingExcel, sheet_name=\"city\", index=False)\n",
    "hash2.to_excel(settingExcel, sheet_name=\"cname\", index=False)\n",
    "hash3[['大区名称', '大区']].to_excel(settingExcel, sheet_name='bigarea', index=False)\n",
    "hash4.to_excel(settingExcel, sheet_name='cartype', index=False)\n",
    "settingExcel.save()\n",
    "settingExcel.close()"
   ]
  },
  {
   "cell_type": "code",
   "execution_count": 13,
   "metadata": {
    "execution": {
     "iopub.execute_input": "2021-02-09T10:12:24.221814Z",
     "iopub.status.busy": "2021-02-09T10:12:24.221615Z",
     "iopub.status.idle": "2021-02-09T10:12:24.225423Z",
     "shell.execute_reply": "2021-02-09T10:12:24.224660Z",
     "shell.execute_reply.started": "2021-02-09T10:12:24.221777Z"
    }
   },
   "outputs": [],
   "source": [
    "endtime = datetime.datetime.now()"
   ]
  },
  {
   "cell_type": "code",
   "execution_count": 14,
   "metadata": {
    "execution": {
     "iopub.execute_input": "2021-02-09T10:12:24.226369Z",
     "iopub.status.busy": "2021-02-09T10:12:24.226172Z",
     "iopub.status.idle": "2021-02-09T10:12:24.242563Z",
     "shell.execute_reply": "2021-02-09T10:12:24.241590Z",
     "shell.execute_reply.started": "2021-02-09T10:12:24.226344Z"
    }
   },
   "outputs": [
    {
     "data": {
      "text/plain": [
       "20"
      ]
     },
     "execution_count": 14,
     "metadata": {},
     "output_type": "execute_result"
    }
   ],
   "source": [
    "(endtime - starttime).seconds"
   ]
  }
 ],
 "metadata": {
  "kernelspec": {
   "display_name": "py35",
   "language": "python",
   "name": "py35"
  },
  "language_info": {
   "codemirror_mode": {
    "name": "ipython",
    "version": 3
   },
   "file_extension": ".py",
   "mimetype": "text/x-python",
   "name": "python",
   "nbconvert_exporter": "python",
   "pygments_lexer": "ipython3",
   "version": "3.5.2"
  }
 },
 "nbformat": 4,
 "nbformat_minor": 4
}
