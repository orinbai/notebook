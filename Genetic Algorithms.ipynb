{
 "cells": [
  {
   "cell_type": "code",
   "execution_count": null,
   "metadata": {},
   "outputs": [],
   "source": [
    "# 使用《复杂》中罗比扫地机器人的例子，进行遗传算法编程\n",
    "# 场景说明：\n",
    "# 场地总共是10×10个格子，每个格子可能有三种情况：\n",
    "#    0. 空\n",
    "#    1. 罐子\n",
    "#    2. 墙\n",
    "# 罗比是一个机器人，他每次都只能看到周围和当前格子的情况\n",
    "# 也就是其周围“上下左右中”的情况，按照顺序记入一个列表：\n",
    "#    [0, 0, 0, 0, 0] -> 周围都是空的\n",
    "#    [2, 0, 0, 1, 0] -> 上面是墙，右面有罐子\n",
    "# 针对不同情况他的策略是:\n",
    "#    0:向左走\n",
    "#    1:向右走\n",
    "#    2:向前走\n",
    "#    3:向后走\n",
    "#    4:随机走\n",
    "#    5:什么都不做\n",
    "#    6:捡罐子\n",
    "# 总共7种策略\n",
    "#\n",
    "# 由于需要计算染色体(chromosome)的代表性，所以我们需要确定染色体的长度：\n",
    "#    罗比能看到范围的情况 3 ^ 5 = 243 种，所以染色体需要243位的长度\n",
    "#    我们对应染色体列表的chromosome[0]~chromosome[242]分别对应\n",
    "#    [0,0,0,0,0], [0,0,0,0,0,1], [0,0,0,0,2], ~ ,[2,2,2,2,1], [2,2,2,2,2]\n",
    "#    染色体的值 chromosome[n] 取值于 0 ~ 6 共 7 种策略。\n",
    "# 所以需要在总共 7 ^ 243 种策略中寻找最优策略。\n",
    "# 比如：\n",
    "#    染色体m为chromosom[m] = \"56132....62312\" 长度为243, 其意义为\n",
    "#    [0,0,0,0,0] 采取 5 也就是 什么都不做的策略\n",
    "#    [0,0,0,0,1] 采取 6 也就是 拣罐子\n",
    "#    [0,0,0,0,2] 采取 1 也就是 向右走\n",
    "#    [0,0,0,1,0] 采取 3 也就是 向后走\n",
    "#    [0,0,0,1,1] 采取 2 也就是 向前走\n",
    "# 以此类推\n",
    "# 优化的目的是找到最佳个体，其实就是染色体序列，使其的表现最佳。染色体是基因组合，种群其实就是染色体组合。\n",
    "#\n",
    "# 评分策略：\n",
    "#    有罐子捡起 +10\n",
    "#    没罐子却捡 -1\n",
    "#    撞墙 -5"
   ]
  },
  {
   "cell_type": "code",
   "execution_count": 1,
   "metadata": {},
   "outputs": [],
   "source": [
    "import math, random"
   ]
  },
  {
   "cell_type": "code",
   "execution_count": null,
   "metadata": {},
   "outputs": [],
   "source": [
    "class Population:\n",
    "    def __init__(self, size, chrom_size, cp, mp, gen_max):\n",
    "        # 种群信息\n",
    "        self.individuals = [] # 个体集合\n",
    "        self.fitness = [] # 个体适应度集合\n",
    "        self.selector_probability = [] # 个体选择概率集合\n",
    "        self.new_individuals = [] # 新一代个体集合\n",
    "        \n",
    "        self.elitist = {'chromosome': [0, 0], 'fitness': 0, 'age': 0} # 最佳个体信息\n",
    "        \n",
    "        self.size = size # 种群包含个体数量\n",
    "        self.chromosome_size = chrom_size # 染色体长度\n",
    "        self.crossover_probability = cp # 个体间染色体交叉概率\n",
    "        self.mutation_probability = mp # 个体变异概率\n",
    "        \n",
    "        self.generation_max = gen_max # 进化最大世代数\n",
    "        self.age = 0 # 种群当前世代\n",
    "        \n",
    "#         v = self.chromosome_size\n",
    "#         for  i in range(self.size):\n",
    "#             self.individuals.append([random.randint(0, )])\n",
    "    \n",
    "    def "
   ]
  }
 ],
 "metadata": {
  "kernelspec": {
   "display_name": "Python 3",
   "language": "python",
   "name": "python3"
  },
  "language_info": {
   "codemirror_mode": {
    "name": "ipython",
    "version": 3
   },
   "file_extension": ".py",
   "mimetype": "text/x-python",
   "name": "python",
   "nbconvert_exporter": "python",
   "pygments_lexer": "ipython3",
   "version": "3.5.2"
  }
 },
 "nbformat": 4,
 "nbformat_minor": 2
}
