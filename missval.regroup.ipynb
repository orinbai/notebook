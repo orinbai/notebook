{
 "cells": [
  {
   "cell_type": "code",
   "execution_count": 1,
   "metadata": {
    "execution": {
     "iopub.execute_input": "2021-02-11T08:06:58.175591Z",
     "iopub.status.busy": "2021-02-11T08:06:58.175324Z",
     "iopub.status.idle": "2021-02-11T08:06:58.833255Z",
     "shell.execute_reply": "2021-02-11T08:06:58.832681Z",
     "shell.execute_reply.started": "2021-02-11T08:06:58.175522Z"
    }
   },
   "outputs": [],
   "source": [
    "import pandas as pd\n",
    "import matplotlib.pyplot as plt\n",
    "import pandas_bokeh as pb\n",
    "# from bokeh.plotting import figure, show\n",
    "# from bokeh.io import output_notebook, export_png, output_file\n",
    "# from bokeh.layouts import row, gridplot\n",
    "# from bokeh.models import ColumnDataSource\n",
    "import numpy as np\n",
    "import random\n",
    "import datetime\n",
    "# import seaborn as sns; sns.set()\n",
    "# %matplotlib inline\n",
    "# pb.output_notebook()\n",
    "# output_notebook()"
   ]
  },
  {
   "cell_type": "code",
   "execution_count": 2,
   "metadata": {
    "execution": {
     "iopub.execute_input": "2021-02-10T19:54:14.331492Z",
     "iopub.status.busy": "2021-02-10T19:54:14.331286Z",
     "iopub.status.idle": "2021-02-10T19:54:14.337328Z",
     "shell.execute_reply": "2021-02-10T19:54:14.334008Z",
     "shell.execute_reply.started": "2021-02-10T19:54:14.331471Z"
    }
   },
   "outputs": [],
   "source": [
    "starttime = datetime.datetime.now()"
   ]
  },
  {
   "cell_type": "code",
   "execution_count": 3,
   "metadata": {
    "execution": {
     "iopub.execute_input": "2021-02-10T19:54:14.338815Z",
     "iopub.status.busy": "2021-02-10T19:54:14.338602Z",
     "iopub.status.idle": "2021-02-10T19:54:14.482751Z",
     "shell.execute_reply": "2021-02-10T19:54:14.480647Z",
     "shell.execute_reply.started": "2021-02-10T19:54:14.338791Z"
    }
   },
   "outputs": [],
   "source": [
    "# 已知规则\n",
    "# 1. 客户来源_原始 如果该字段为空，则自动填充为 展厅"
   ]
  },
  {
   "cell_type": "code",
   "execution_count": 2,
   "metadata": {
    "execution": {
     "iopub.execute_input": "2021-02-11T08:07:05.003088Z",
     "iopub.status.busy": "2021-02-11T08:07:05.002470Z",
     "iopub.status.idle": "2021-02-11T08:07:05.009930Z",
     "shell.execute_reply": "2021-02-11T08:07:05.008496Z",
     "shell.execute_reply.started": "2021-02-11T08:07:05.003013Z"
    }
   },
   "outputs": [],
   "source": [
    "filename = 'potential.202101.pkl'\n",
    "monstr = filename.split('.')[1]"
   ]
  },
  {
   "cell_type": "code",
   "execution_count": 3,
   "metadata": {
    "execution": {
     "iopub.execute_input": "2021-02-11T08:07:06.453754Z",
     "iopub.status.busy": "2021-02-11T08:07:06.453389Z",
     "iopub.status.idle": "2021-02-11T08:07:06.546277Z",
     "shell.execute_reply": "2021-02-11T08:07:06.545556Z",
     "shell.execute_reply.started": "2021-02-11T08:07:06.453712Z"
    }
   },
   "outputs": [],
   "source": [
    "databookALL = pd.read_pickle(\"Data/%s\" % filename, compression='bz2')"
   ]
  },
  {
   "cell_type": "code",
   "execution_count": 4,
   "metadata": {
    "execution": {
     "iopub.execute_input": "2021-02-11T08:07:09.905728Z",
     "iopub.status.busy": "2021-02-11T08:07:09.905529Z",
     "iopub.status.idle": "2021-02-11T08:07:09.910807Z",
     "shell.execute_reply": "2021-02-11T08:07:09.910114Z",
     "shell.execute_reply.started": "2021-02-11T08:07:09.905704Z"
    }
   },
   "outputs": [],
   "source": [
    "# databook = databookALL.drop(['车型', '大区', '客户来源更新', '月份'], axis=1)\n",
    "databook = databookALL.copy()"
   ]
  },
  {
   "cell_type": "code",
   "execution_count": 5,
   "metadata": {
    "execution": {
     "iopub.execute_input": "2021-02-11T08:07:10.868988Z",
     "iopub.status.busy": "2021-02-11T08:07:10.868397Z",
     "iopub.status.idle": "2021-02-11T08:07:10.887662Z",
     "shell.execute_reply": "2021-02-11T08:07:10.885554Z",
     "shell.execute_reply.started": "2021-02-11T08:07:10.868915Z"
    }
   },
   "outputs": [
    {
     "data": {
      "text/plain": [
       "338134"
      ]
     },
     "execution_count": 5,
     "metadata": {},
     "output_type": "execute_result"
    }
   ],
   "source": [
    "databookALL['潜客量'].sum()"
   ]
  },
  {
   "cell_type": "code",
   "execution_count": 6,
   "metadata": {
    "execution": {
     "iopub.execute_input": "2021-02-11T08:07:12.333851Z",
     "iopub.status.busy": "2021-02-11T08:07:12.333253Z",
     "iopub.status.idle": "2021-02-11T08:07:12.542443Z",
     "shell.execute_reply": "2021-02-11T08:07:12.541950Z",
     "shell.execute_reply.started": "2021-02-11T08:07:12.333778Z"
    }
   },
   "outputs": [],
   "source": [
    "# setting.xlsx 格式\n",
    "# 每个sheet的名字会被用来作为字段映射时的字典名，所以最好用英文，比如现在setting里的sheet名就是\"cartype\",\"bigarea\"\n",
    "# 同时，sheet的内容是一个字段的映射关系，比如 大区名称->大区\n",
    "#      A    B\n",
    "#  1  东北区 A1\n",
    "# 这样读取的时候就可以按照下面去读了\n",
    "tExcel = pd.read_excel(\"Data/settingALL.xlsx\", sheet_name=None)"
   ]
  },
  {
   "cell_type": "code",
   "execution_count": 7,
   "metadata": {
    "execution": {
     "iopub.execute_input": "2021-02-11T08:07:13.141029Z",
     "iopub.status.busy": "2021-02-11T08:07:13.140415Z",
     "iopub.status.idle": "2021-02-11T08:07:13.154547Z",
     "shell.execute_reply": "2021-02-11T08:07:13.152451Z",
     "shell.execute_reply.started": "2021-02-11T08:07:13.140952Z"
    }
   },
   "outputs": [],
   "source": [
    "# 这里settingHash就是未来做dataframe.map()用的\n",
    "settingHash = {}\n",
    "for keys in tExcel:\n",
    "    settingHash[keys] = dict(tExcel[keys].values)"
   ]
  },
  {
   "cell_type": "code",
   "execution_count": 8,
   "metadata": {
    "execution": {
     "iopub.execute_input": "2021-02-11T08:07:14.328244Z",
     "iopub.status.busy": "2021-02-11T08:07:14.327572Z",
     "iopub.status.idle": "2021-02-11T08:07:14.340476Z",
     "shell.execute_reply": "2021-02-11T08:07:14.339193Z",
     "shell.execute_reply.started": "2021-02-11T08:07:14.328166Z"
    }
   },
   "outputs": [
    {
     "data": {
      "text/plain": [
       "dict_keys(['city', 'cname', 'bigarea', 'cartype'])"
      ]
     },
     "execution_count": 8,
     "metadata": {},
     "output_type": "execute_result"
    }
   ],
   "source": [
    "tExcel.keys()"
   ]
  },
  {
   "cell_type": "code",
   "execution_count": 9,
   "metadata": {
    "execution": {
     "iopub.execute_input": "2021-02-11T08:07:15.621191Z",
     "iopub.status.busy": "2021-02-11T08:07:15.620972Z",
     "iopub.status.idle": "2021-02-11T08:07:15.629806Z",
     "shell.execute_reply": "2021-02-11T08:07:15.629035Z",
     "shell.execute_reply.started": "2021-02-11T08:07:15.621169Z"
    }
   },
   "outputs": [],
   "source": [
    "# 客户来源_原始 中 所有NaN值 都会赋值为展厅\n",
    "databook['客户来源更新'] = databook['客户来源_原始'].fillna('展厅')\n",
    "\n",
    "databook['车型new'] = databook['分组名称'].map(settingHash['cartype'])"
   ]
  },
  {
   "cell_type": "code",
   "execution_count": 12,
   "metadata": {
    "execution": {
     "iopub.execute_input": "2021-02-10T19:54:15.508878Z",
     "iopub.status.busy": "2021-02-10T19:54:15.508384Z",
     "iopub.status.idle": "2021-02-10T19:54:15.599560Z",
     "shell.execute_reply": "2021-02-10T19:54:15.598902Z",
     "shell.execute_reply.started": "2021-02-10T19:54:15.508844Z"
    }
   },
   "outputs": [],
   "source": [
    "# (2021-02-08) 保存原始车型信息，所以不用考虑空值\n",
    "# map的方式举例，m没用，但是建议将其保留，备以后查\n",
    "# 当有新的车型进来时，可以在这里看到。\n",
    "# m = pd.DataFrame({'a':databook['分组名称'].head(200), 'b':databook['分组名称'].head(200)})\n",
    "# m['b'] = m['a'].map(settingHash['cartype'])\n",
    "# m.drop_duplicates(['a','b'],  'first')"
   ]
  },
  {
   "cell_type": "code",
   "execution_count": 10,
   "metadata": {
    "execution": {
     "iopub.execute_input": "2021-02-10T20:42:18.972579Z",
     "iopub.status.busy": "2021-02-10T20:42:18.972366Z",
     "iopub.status.idle": "2021-02-10T20:42:18.976082Z",
     "shell.execute_reply": "2021-02-10T20:42:18.975303Z",
     "shell.execute_reply.started": "2021-02-10T20:42:18.972557Z"
    }
   },
   "outputs": [],
   "source": [
    "def transArr(df):\n",
    "    # 将 [[A4L, 10], [A6, 5]], 这种类型的改成10个A4L，5个A6\n",
    "    # [A4L, A4L, A4L, A4L, A4L, A4L, A4L, A4L, A4L, A4L, A6, A6, A6, A6, A6]\n",
    "    # 方便后面按照随机取数出来，这样取出来应该就是这种分布\n",
    "    tmp = []\n",
    "    for idx, row in df.iterrows():\n",
    "        tmp.extend([row['车型new']] * row['潜客量'])\n",
    "    return tmp"
   ]
  },
  {
   "cell_type": "code",
   "execution_count": 11,
   "metadata": {
    "execution": {
     "iopub.execute_input": "2021-02-10T20:42:20.021439Z",
     "iopub.status.busy": "2021-02-10T20:42:20.020807Z",
     "iopub.status.idle": "2021-02-10T20:42:20.034636Z",
     "shell.execute_reply": "2021-02-10T20:42:20.032737Z",
     "shell.execute_reply.started": "2021-02-10T20:42:20.021358Z"
    }
   },
   "outputs": [],
   "source": [
    "# 清空dataMiss时，要用这种办法\n",
    "# dataMiss.drop(dataMiss.index, inplace=True)"
   ]
  },
  {
   "cell_type": "code",
   "execution_count": 12,
   "metadata": {
    "execution": {
     "iopub.execute_input": "2021-02-10T20:42:21.007395Z",
     "iopub.status.busy": "2021-02-10T20:42:21.006754Z",
     "iopub.status.idle": "2021-02-10T20:42:21.026589Z",
     "shell.execute_reply": "2021-02-10T20:42:21.025017Z",
     "shell.execute_reply.started": "2021-02-10T20:42:21.007313Z"
    }
   },
   "outputs": [],
   "source": [
    "def genNewData(dCode, cSource, nowPOS):\n",
    "    # dCode 经销商代码\n",
    "    # cSource 客户来源更新\n",
    "    # 进来后再做循环\n",
    "    # 这里需要注意，dataMiss到底有哪些列\n",
    "    tmpArr = transArr(dataCOMPUTed[(dataCOMPUTed['经销商代码']==dCode)&(dataCOMPUTed['客户来源更新']==cSource)&(dataCOMPUTed['潜客量']>0)][['车型new', '潜客量']])\n",
    "    for idx, row in dataBYday[(dataBYday['经销商代码']==dCode)&(dataBYday['客户来源更新']==cSource)].iterrows():\n",
    "        toDel = []\n",
    "        for aIDX in random.sample(range(len(tmpArr)), int(row['潜客量'])):\n",
    "            dataMiss.loc[nowPOS] = [\n",
    "                pd.to_datetime(row['日期']),\n",
    "                row['大区名称'],\n",
    "                row['小区名称'],\n",
    "                row['经销商代码'],\n",
    "                1,\n",
    "                row['客户来源更新'],\n",
    "                tmpArr[aIDX]\n",
    "            ]\n",
    "            nowPOS +=1 \n",
    "            toDel.append(aIDX)\n",
    "        for i in sorted(toDel, reverse=True):\n",
    "            del(tmpArr[i])\n",
    "    return nowPOS"
   ]
  },
  {
   "cell_type": "code",
   "execution_count": 13,
   "metadata": {
    "execution": {
     "iopub.execute_input": "2021-02-10T20:42:21.854457Z",
     "iopub.status.busy": "2021-02-10T20:42:21.853825Z",
     "iopub.status.idle": "2021-02-10T20:42:21.867033Z",
     "shell.execute_reply": "2021-02-10T20:42:21.865582Z",
     "shell.execute_reply.started": "2021-02-10T20:42:21.854377Z"
    }
   },
   "outputs": [],
   "source": [
    "def tempDF(lvl, df):\n",
    "    tmp = df[[lvl, '客户来源更新', '车型new', '潜客量']].copy()\n",
    "    tmp = tmp.groupby([lvl, '客户来源更新', '车型new'])['潜客量'].sum().reset_index()\n",
    "    tmp['%s汇总' % lvl] = tmp.groupby([lvl, '客户来源更新'])['潜客量'].transform('sum')\n",
    "    tmp['车型占比'] = tmp['潜客量']/tmp['%s汇总' % lvl]\n",
    "    tmp.drop(['潜客量', '%s汇总' % lvl], axis=1, inplace=True)\n",
    "    return tmp"
   ]
  },
  {
   "cell_type": "code",
   "execution_count": 14,
   "metadata": {
    "execution": {
     "iopub.execute_input": "2021-02-10T20:42:22.964328Z",
     "iopub.status.busy": "2021-02-10T20:42:22.963828Z",
     "iopub.status.idle": "2021-02-10T20:42:22.978967Z",
     "shell.execute_reply": "2021-02-10T20:42:22.977333Z",
     "shell.execute_reply.started": "2021-02-10T20:42:22.964266Z"
    }
   },
   "outputs": [],
   "source": [
    "def batDraw(lvl):\n",
    "    graphics = []\n",
    "    vals = list(getIDX(lvl, dataUSEstd))\n",
    "    df_o = tempDF(lvl, dataUSEstd)\n",
    "    df_c = tempDF(lvl, dataEsti)\n",
    "\n",
    "    for t in [\"展厅\", \"线上\"]:\n",
    "        tmp = []\n",
    "        for i in vals:\n",
    "            tmp.append(drawGraph(\n",
    "                df_o[(df_o[lvl]==i)&(df_o['客户来源更新']==t)][['车型new', '车型占比']],\n",
    "                df_c[(df_c[lvl]==i)&(df_c['客户来源更新']==t)][['车型new', '车型占比']],\n",
    "                '%s %s' % (i, t)\n",
    "            ))\n",
    "        graphics.append(tmp)\n",
    "\n",
    "    return graphics"
   ]
  },
  {
   "cell_type": "code",
   "execution_count": 15,
   "metadata": {
    "execution": {
     "iopub.execute_input": "2021-02-10T20:42:24.913715Z",
     "iopub.status.busy": "2021-02-10T20:42:24.913074Z",
     "iopub.status.idle": "2021-02-10T20:42:24.925212Z",
     "shell.execute_reply": "2021-02-10T20:42:24.923499Z",
     "shell.execute_reply.started": "2021-02-10T20:42:24.913636Z"
    }
   },
   "outputs": [],
   "source": [
    "def drawGraph(se1, se2, title='aa'):\n",
    "    tmpdf = se1.merge(se2, on=['车型new'], suffixes=['_origin', '_fix'])\n",
    "    tmpdf.set_index(['车型new'], inplace=True)\n",
    "    m = tmpdf.plot_bokeh(kind='barh', legend='top_right', title=title, show_figure=False, zooming=False)\n",
    "    return m"
   ]
  },
  {
   "cell_type": "code",
   "execution_count": 16,
   "metadata": {
    "execution": {
     "iopub.execute_input": "2021-02-10T20:42:27.379533Z",
     "iopub.status.busy": "2021-02-10T20:42:27.378879Z",
     "iopub.status.idle": "2021-02-10T20:42:27.390728Z",
     "shell.execute_reply": "2021-02-10T20:42:27.388995Z",
     "shell.execute_reply.started": "2021-02-10T20:42:27.379451Z"
    }
   },
   "outputs": [],
   "source": [
    "def resetType(ser):\n",
    "    if pd.isnull(ser['分组名称']):\n",
    "        return np.nan\n",
    "    else:\n",
    "        return ser['车型']"
   ]
  },
  {
   "cell_type": "code",
   "execution_count": 54,
   "metadata": {
    "execution": {
     "iopub.execute_input": "2021-02-11T19:54:16.277465Z",
     "iopub.status.busy": "2021-02-11T19:54:16.276878Z",
     "iopub.status.idle": "2021-02-11T19:54:16.287035Z",
     "shell.execute_reply": "2021-02-11T19:54:16.285812Z",
     "shell.execute_reply.started": "2021-02-11T19:54:16.277391Z"
    }
   },
   "outputs": [],
   "source": [
    "def covTypes(df):\n",
    "    for col in df.columns:\n",
    "        if col == '潜客量':\n",
    "            df[col] = df[col].astype('int32')\n",
    "        elif col== '日期':\n",
    "            continue\n",
    "        else:\n",
    "            df[col] = df[col].astype('category')"
   ]
  },
  {
   "cell_type": "code",
   "execution_count": 18,
   "metadata": {
    "execution": {
     "iopub.execute_input": "2021-02-10T20:42:30.280564Z",
     "iopub.status.busy": "2021-02-10T20:42:30.279926Z",
     "iopub.status.idle": "2021-02-10T20:42:30.297699Z",
     "shell.execute_reply": "2021-02-10T20:42:30.295745Z",
     "shell.execute_reply.started": "2021-02-10T20:42:30.280483Z"
    }
   },
   "outputs": [],
   "source": [
    "def getIDX(cName, df, c=6):\n",
    "    # 在df[cName]的最高30%里，随机取c个作为输出\n",
    "    # 用于将来的分布验证\n",
    "    tmp = df[[cName, '潜客量']].groupby([cName])['潜客量'].sum().reset_index()\n",
    "    tmplist = df[cName].unique()\n",
    "    if int(len(tmplist)*0.3) <= c:\n",
    "        tmpidx = tmp.sort_values(by='潜客量', ascending=False).index.values\n",
    "    else:\n",
    "        tmpidx = tmp.sort_values(by='潜客量', ascending=False)[:int(len(tmplist)*0.3)].index.values\n",
    "    return np.array(tmp[cName].iloc[random.sample(list(tmpidx), c)])"
   ]
  },
  {
   "cell_type": "code",
   "execution_count": 19,
   "metadata": {
    "execution": {
     "iopub.execute_input": "2021-02-10T20:42:31.534650Z",
     "iopub.status.busy": "2021-02-10T20:42:31.534009Z",
     "iopub.status.idle": "2021-02-10T20:42:31.547156Z",
     "shell.execute_reply": "2021-02-10T20:42:31.545328Z",
     "shell.execute_reply.started": "2021-02-10T20:42:31.534568Z"
    }
   },
   "outputs": [],
   "source": [
    "def balanceCom(rows):\n",
    "    # 根据差值选择计算方式\n",
    "    if rows['差值'] < 0:\n",
    "        if rows['已进位'] and rows['顺序']+rows['差值']<=0:\n",
    "            return rows['预计算潜客2'] - 1\n",
    "    elif rows['差值'] > 0:\n",
    "        if (not rows['已进位']) and rows['顺序'] - rows['差值'] <= 0:\n",
    "            return rows['预计算潜客2'] + 1\n",
    "    return rows['预计算潜客2']"
   ]
  },
  {
   "cell_type": "code",
   "execution_count": 20,
   "metadata": {
    "execution": {
     "iopub.execute_input": "2021-02-10T20:42:32.760771Z",
     "iopub.status.busy": "2021-02-10T20:42:32.760135Z",
     "iopub.status.idle": "2021-02-10T20:42:32.773930Z",
     "shell.execute_reply": "2021-02-10T20:42:32.771796Z",
     "shell.execute_reply.started": "2021-02-10T20:42:32.760690Z"
    }
   },
   "outputs": [],
   "source": [
    "def getColumns(col, vals,ty):\n",
    "    # 获取画图的列\n",
    "    oriData = dataUSEstd[(dataUSEstd[col]==vals)&(dataUSEstd['客户来源更新']==ty)][['车型new', '车型占比']]\n",
    "    comData = dataEsti[(dataEsti[col]==vals)&(dataEsti['客户来源更新']==ty)][['车型new', '车型占比']]\n",
    "    # oriData = statRES(col, dataUSEstd)[]\n",
    "    return oriData.merge(comData, on='车型new', suffixes=['_origin', '_fix'])"
   ]
  },
  {
   "cell_type": "code",
   "execution_count": 55,
   "metadata": {
    "execution": {
     "iopub.execute_input": "2021-02-11T19:54:21.356465Z",
     "iopub.status.busy": "2021-02-11T19:54:21.356175Z",
     "iopub.status.idle": "2021-02-11T19:54:21.364230Z",
     "shell.execute_reply": "2021-02-11T19:54:21.363296Z",
     "shell.execute_reply.started": "2021-02-11T19:54:21.356432Z"
    }
   },
   "outputs": [],
   "source": [
    "covTypes(databook)"
   ]
  },
  {
   "cell_type": "code",
   "execution_count": 10,
   "metadata": {
    "execution": {
     "iopub.execute_input": "2021-02-11T08:07:24.405201Z",
     "iopub.status.busy": "2021-02-11T08:07:24.404616Z",
     "iopub.status.idle": "2021-02-11T08:07:24.432457Z",
     "shell.execute_reply": "2021-02-11T08:07:24.431690Z",
     "shell.execute_reply.started": "2021-02-11T08:07:24.405129Z"
    }
   },
   "outputs": [],
   "source": [
    "# 这里确实要删掉 分组名称，因为分组和车型new是多对一，如果不删，将来merge回来时，分组名称会为NaN\n",
    "dataAvailable = databook[databook['车型new'].notna()]\n",
    "dataAvailable = dataAvailable.drop(['分组名称', '客户来源_原始'], axis=1)"
   ]
  },
  {
   "cell_type": "code",
   "execution_count": 11,
   "metadata": {
    "execution": {
     "iopub.execute_input": "2021-02-11T08:07:25.766347Z",
     "iopub.status.busy": "2021-02-11T08:07:25.765709Z",
     "iopub.status.idle": "2021-02-11T08:07:25.778667Z",
     "shell.execute_reply": "2021-02-11T08:07:25.778183Z",
     "shell.execute_reply.started": "2021-02-11T08:07:25.766267Z"
    }
   },
   "outputs": [
    {
     "data": {
      "text/plain": [
       "(303777, 34357)"
      ]
     },
     "execution_count": 11,
     "metadata": {},
     "output_type": "execute_result"
    }
   ],
   "source": [
    "dataAvailable['潜客量'].sum(), databook[databook['车型new'].isna()]['潜客量'].sum()"
   ]
  },
  {
   "cell_type": "code",
   "execution_count": 12,
   "metadata": {
    "execution": {
     "iopub.execute_input": "2021-02-11T08:07:29.332226Z",
     "iopub.status.busy": "2021-02-11T08:07:29.331557Z",
     "iopub.status.idle": "2021-02-11T08:07:29.355223Z",
     "shell.execute_reply": "2021-02-11T08:07:29.354058Z",
     "shell.execute_reply.started": "2021-02-11T08:07:29.332147Z"
    }
   },
   "outputs": [],
   "source": [
    "dataMiss = pd.DataFrame(columns=list(dataAvailable.columns))"
   ]
  },
  {
   "cell_type": "code",
   "execution_count": 13,
   "metadata": {
    "execution": {
     "iopub.execute_input": "2021-02-11T08:07:31.461135Z",
     "iopub.status.busy": "2021-02-11T08:07:31.460922Z",
     "iopub.status.idle": "2021-02-11T08:07:31.465367Z",
     "shell.execute_reply": "2021-02-11T08:07:31.464671Z",
     "shell.execute_reply.started": "2021-02-11T08:07:31.461114Z"
    }
   },
   "outputs": [],
   "source": [
    "# dataUSE = databook[['客户来源更新', '大区名称', '小区名称', '城市', '经销商代码', '车型new', '潜客量']].copy()\n",
    "dataUSE = databook[['大区名称', '小区名称', '经销商代码', '潜客量', '客户来源更新', '车型new']]"
   ]
  },
  {
   "cell_type": "code",
   "execution_count": 14,
   "metadata": {
    "execution": {
     "iopub.execute_input": "2021-02-11T08:07:33.076352Z",
     "iopub.status.busy": "2021-02-11T08:07:33.076141Z",
     "iopub.status.idle": "2021-02-11T08:07:33.086369Z",
     "shell.execute_reply": "2021-02-11T08:07:33.085743Z",
     "shell.execute_reply.started": "2021-02-11T08:07:33.076333Z"
    }
   },
   "outputs": [
    {
     "name": "stdout",
     "output_type": "stream",
     "text": [
      "6 56 578\n"
     ]
    }
   ],
   "source": [
    "# cityLIST = dataUSE['城市'].unique()\n",
    "area1LIST = dataUSE['大区名称'].unique()\n",
    "area2LIST = dataUSE['小区名称'].unique()\n",
    "dealerLIST = dataUSE['经销商代码'].unique()\n",
    "print(len(area1LIST), len(area2LIST), len(dealerLIST))#, len(cityLIST)"
   ]
  },
  {
   "cell_type": "code",
   "execution_count": 15,
   "metadata": {
    "execution": {
     "iopub.execute_input": "2021-02-11T08:07:34.559264Z",
     "iopub.status.busy": "2021-02-11T08:07:34.558624Z",
     "iopub.status.idle": "2021-02-11T08:07:34.570875Z",
     "shell.execute_reply": "2021-02-11T08:07:34.568782Z",
     "shell.execute_reply.started": "2021-02-11T08:07:34.559185Z"
    }
   },
   "outputs": [],
   "source": [
    "monthDays = len(databook['日期'].unique())"
   ]
  },
  {
   "cell_type": "code",
   "execution_count": 64,
   "metadata": {
    "execution": {
     "iopub.execute_input": "2021-02-11T19:58:24.988400Z",
     "iopub.status.busy": "2021-02-11T19:58:24.988069Z",
     "iopub.status.idle": "2021-02-11T19:58:25.018205Z",
     "shell.execute_reply": "2021-02-11T19:58:25.016671Z",
     "shell.execute_reply.started": "2021-02-11T19:58:24.988361Z"
    }
   },
   "outputs": [
    {
     "data": {
      "text/html": [
       "<div>\n",
       "<style scoped>\n",
       "    .dataframe tbody tr th:only-of-type {\n",
       "        vertical-align: middle;\n",
       "    }\n",
       "\n",
       "    .dataframe tbody tr th {\n",
       "        vertical-align: top;\n",
       "    }\n",
       "\n",
       "    .dataframe thead th {\n",
       "        text-align: right;\n",
       "    }\n",
       "</style>\n",
       "<table border=\"1\" class=\"dataframe\">\n",
       "  <thead>\n",
       "    <tr style=\"text-align: right;\">\n",
       "      <th></th>\n",
       "      <th></th>\n",
       "      <th></th>\n",
       "      <th>潜客量</th>\n",
       "    </tr>\n",
       "    <tr>\n",
       "      <th>大区名称</th>\n",
       "      <th>客户来源更新</th>\n",
       "      <th>车型new</th>\n",
       "      <th></th>\n",
       "    </tr>\n",
       "  </thead>\n",
       "  <tbody>\n",
       "    <tr>\n",
       "      <th rowspan=\"5\" valign=\"top\">东北区</th>\n",
       "      <th rowspan=\"5\" valign=\"top\">展厅</th>\n",
       "      <th>A3 Lim</th>\n",
       "      <td>1.639752</td>\n",
       "    </tr>\n",
       "    <tr>\n",
       "      <th>A3 SpB</th>\n",
       "      <td>1.636076</td>\n",
       "    </tr>\n",
       "    <tr>\n",
       "      <th>A4 AR</th>\n",
       "      <td>1.279793</td>\n",
       "    </tr>\n",
       "    <tr>\n",
       "      <th>A4 AV</th>\n",
       "      <td>1.131313</td>\n",
       "    </tr>\n",
       "    <tr>\n",
       "      <th>A4L</th>\n",
       "      <td>3.148851</td>\n",
       "    </tr>\n",
       "    <tr>\n",
       "      <th>...</th>\n",
       "      <th>...</th>\n",
       "      <th>...</th>\n",
       "      <td>...</td>\n",
       "    </tr>\n",
       "    <tr>\n",
       "      <th rowspan=\"5\" valign=\"top\">西部区</th>\n",
       "      <th rowspan=\"5\" valign=\"top\">线上</th>\n",
       "      <th>Q5L Spb</th>\n",
       "      <td>1.051282</td>\n",
       "    </tr>\n",
       "    <tr>\n",
       "      <th>Q7</th>\n",
       "      <td>1.129555</td>\n",
       "    </tr>\n",
       "    <tr>\n",
       "      <th>Q8</th>\n",
       "      <td>1.069767</td>\n",
       "    </tr>\n",
       "    <tr>\n",
       "      <th>S+Niche</th>\n",
       "      <td>1.555957</td>\n",
       "    </tr>\n",
       "    <tr>\n",
       "      <th>e-tron</th>\n",
       "      <td>1.000000</td>\n",
       "    </tr>\n",
       "  </tbody>\n",
       "</table>\n",
       "<p>288 rows × 1 columns</p>\n",
       "</div>"
      ],
      "text/plain": [
       "                          潜客量\n",
       "大区名称 客户来源更新 车型new            \n",
       "东北区  展厅     A3 Lim   1.639752\n",
       "            A3 SpB   1.636076\n",
       "            A4 AR    1.279793\n",
       "            A4 AV    1.131313\n",
       "            A4L      3.148851\n",
       "...                       ...\n",
       "西部区  线上     Q5L Spb  1.051282\n",
       "            Q7       1.129555\n",
       "            Q8       1.069767\n",
       "            S+Niche  1.555957\n",
       "            e-tron   1.000000\n",
       "\n",
       "[288 rows x 1 columns]"
      ]
     },
     "execution_count": 64,
     "metadata": {},
     "output_type": "execute_result"
    }
   ],
   "source": [
    "dataAvailable.groupby(by=['大区名称', '客户来源更新', '车型new']).mean()"
   ]
  },
  {
   "cell_type": "code",
   "execution_count": 24,
   "metadata": {
    "execution": {
     "iopub.execute_input": "2021-02-11T08:11:28.491401Z",
     "iopub.status.busy": "2021-02-11T08:11:28.491144Z",
     "iopub.status.idle": "2021-02-11T08:11:28.503549Z",
     "shell.execute_reply": "2021-02-11T08:11:28.502964Z",
     "shell.execute_reply.started": "2021-02-11T08:11:28.491377Z"
    }
   },
   "outputs": [
    {
     "data": {
      "text/html": [
       "<div>\n",
       "<style scoped>\n",
       "    .dataframe tbody tr th:only-of-type {\n",
       "        vertical-align: middle;\n",
       "    }\n",
       "\n",
       "    .dataframe tbody tr th {\n",
       "        vertical-align: top;\n",
       "    }\n",
       "\n",
       "    .dataframe thead th {\n",
       "        text-align: right;\n",
       "    }\n",
       "</style>\n",
       "<table border=\"1\" class=\"dataframe\">\n",
       "  <thead>\n",
       "    <tr style=\"text-align: right;\">\n",
       "      <th></th>\n",
       "      <th>日期</th>\n",
       "      <th>大区名称</th>\n",
       "      <th>小区名称</th>\n",
       "      <th>经销商代码</th>\n",
       "      <th>潜客量</th>\n",
       "      <th>客户来源更新</th>\n",
       "      <th>车型new</th>\n",
       "    </tr>\n",
       "  </thead>\n",
       "  <tbody>\n",
       "    <tr>\n",
       "      <th>0</th>\n",
       "      <td>2021-01-01</td>\n",
       "      <td>北部区</td>\n",
       "      <td>北京1区</td>\n",
       "      <td>SA11003</td>\n",
       "      <td>1</td>\n",
       "      <td>线上</td>\n",
       "      <td>A3 SpB</td>\n",
       "    </tr>\n",
       "    <tr>\n",
       "      <th>1</th>\n",
       "      <td>2021-01-01</td>\n",
       "      <td>北部区</td>\n",
       "      <td>北京1区</td>\n",
       "      <td>SA11003</td>\n",
       "      <td>1</td>\n",
       "      <td>展厅</td>\n",
       "      <td>A4 AV</td>\n",
       "    </tr>\n",
       "    <tr>\n",
       "      <th>2</th>\n",
       "      <td>2021-01-01</td>\n",
       "      <td>北部区</td>\n",
       "      <td>北京1区</td>\n",
       "      <td>SA11003</td>\n",
       "      <td>1</td>\n",
       "      <td>展厅</td>\n",
       "      <td>A4L</td>\n",
       "    </tr>\n",
       "    <tr>\n",
       "      <th>3</th>\n",
       "      <td>2021-01-01</td>\n",
       "      <td>北部区</td>\n",
       "      <td>北京1区</td>\n",
       "      <td>SA11003</td>\n",
       "      <td>1</td>\n",
       "      <td>展厅</td>\n",
       "      <td>A5 SpB</td>\n",
       "    </tr>\n",
       "    <tr>\n",
       "      <th>4</th>\n",
       "      <td>2021-01-01</td>\n",
       "      <td>北部区</td>\n",
       "      <td>北京1区</td>\n",
       "      <td>SA11003</td>\n",
       "      <td>3</td>\n",
       "      <td>展厅</td>\n",
       "      <td>A6L</td>\n",
       "    </tr>\n",
       "  </tbody>\n",
       "</table>\n",
       "</div>"
      ],
      "text/plain": [
       "          日期 大区名称  小区名称    经销商代码  潜客量 客户来源更新   车型new\n",
       "0 2021-01-01  北部区  北京1区  SA11003    1     线上  A3 SpB\n",
       "1 2021-01-01  北部区  北京1区  SA11003    1     展厅   A4 AV\n",
       "2 2021-01-01  北部区  北京1区  SA11003    1     展厅     A4L\n",
       "3 2021-01-01  北部区  北京1区  SA11003    1     展厅  A5 SpB\n",
       "4 2021-01-01  北部区  北京1区  SA11003    3     展厅     A6L"
      ]
     },
     "execution_count": 24,
     "metadata": {},
     "output_type": "execute_result"
    }
   ],
   "source": [
    "dataAvailable.head()"
   ]
  },
  {
   "cell_type": "code",
   "execution_count": 22,
   "metadata": {
    "execution": {
     "iopub.execute_input": "2021-02-11T08:10:08.952884Z",
     "iopub.status.busy": "2021-02-11T08:10:08.952286Z",
     "iopub.status.idle": "2021-02-11T08:10:08.983341Z",
     "shell.execute_reply": "2021-02-11T08:10:08.982760Z",
     "shell.execute_reply.started": "2021-02-11T08:10:08.952828Z"
    }
   },
   "outputs": [
    {
     "name": "stdout",
     "output_type": "stream",
     "text": [
      "<class 'pandas.core.frame.DataFrame'>\n",
      "Int64Index: 8084 entries, 1384 to 154255\n",
      "Data columns (total 9 columns):\n",
      " #   Column   Non-Null Count  Dtype         \n",
      "---  ------   --------------  -----         \n",
      " 0   日期       8084 non-null   datetime64[ns]\n",
      " 1   大区名称     8084 non-null   category      \n",
      " 2   小区名称     8084 non-null   category      \n",
      " 3   经销商代码    8084 non-null   category      \n",
      " 4   分组名称     0 non-null      category      \n",
      " 5   客户来源_原始  8084 non-null   category      \n",
      " 6   潜客量      8084 non-null   int32         \n",
      " 7   客户来源更新   8084 non-null   category      \n",
      " 8   车型new    0 non-null      category      \n",
      "dtypes: category(7), datetime64[ns](1), int32(1)\n",
      "memory usage: 246.1 KB\n"
     ]
    }
   ],
   "source": [
    "ooo = databook[databook['车型new'].isna()].copy()\n",
    "ooo.info()\n",
    "# ooo.groupby(['日期', '大区名称', '小区名称', '经销商代码'])['潜客量'].sum().head()"
   ]
  },
  {
   "cell_type": "code",
   "execution_count": 51,
   "metadata": {
    "execution": {
     "iopub.execute_input": "2021-02-11T14:24:56.386378Z",
     "iopub.status.busy": "2021-02-11T14:24:56.385787Z",
     "iopub.status.idle": "2021-02-11T14:24:59.468497Z",
     "shell.execute_reply": "2021-02-11T14:24:59.467879Z",
     "shell.execute_reply.started": "2021-02-11T14:24:56.386303Z"
    }
   },
   "outputs": [],
   "source": [
    "dataBYday = databook[databook['车型new'].isna()].groupby(['日期', '大区名称', '经销商代码', '客户来源更新'])['潜客量'].sum().reset_index()"
   ]
  },
  {
   "cell_type": "code",
   "execution_count": 31,
   "metadata": {
    "execution": {
     "iopub.execute_input": "2021-02-10T19:58:54.431929Z",
     "iopub.status.busy": "2021-02-10T19:58:54.431746Z",
     "iopub.status.idle": "2021-02-10T19:58:54.434402Z",
     "shell.execute_reply": "2021-02-10T19:58:54.433916Z",
     "shell.execute_reply.started": "2021-02-10T19:58:54.431909Z"
    }
   },
   "outputs": [],
   "source": [
    "# 计算 经销商 客户来源 和车型 的group by sum，去掉日期来计算概率\n",
    "# sum(经销商、客户来源、车型)/monthDays 这就是某经销商在某来源下车型出现的概率\n",
    "# dealerDISTbd.groupby([\"经销商代码\", \"客户来源更新\", \"车型new\", \"日期\"])[\"潜客量\"].sum().reset_index()\n",
    "# 按日的做起来太麻烦所以不用这个了"
   ]
  },
  {
   "cell_type": "code",
   "execution_count": 32,
   "metadata": {
    "execution": {
     "iopub.execute_input": "2021-02-10T19:58:54.435354Z",
     "iopub.status.busy": "2021-02-10T19:58:54.435187Z",
     "iopub.status.idle": "2021-02-10T19:58:54.631428Z",
     "shell.execute_reply": "2021-02-10T19:58:54.629512Z",
     "shell.execute_reply.started": "2021-02-10T19:58:54.435332Z"
    }
   },
   "outputs": [],
   "source": [
    "dataUSEstd = dataUSE[dataUSE['车型new'].notna()]\n",
    "dataUSE2b = dataUSE[dataUSE['车型new'].isna()]"
   ]
  },
  {
   "cell_type": "code",
   "execution_count": 33,
   "metadata": {
    "execution": {
     "iopub.execute_input": "2021-02-10T19:58:54.634392Z",
     "iopub.status.busy": "2021-02-10T19:58:54.633845Z",
     "iopub.status.idle": "2021-02-10T20:02:11.688253Z",
     "shell.execute_reply": "2021-02-10T20:02:11.687459Z",
     "shell.execute_reply.started": "2021-02-10T19:58:54.634321Z"
    }
   },
   "outputs": [],
   "source": [
    "# 汇总车型数据\n",
    "dataUSEstd = dataUSEstd.groupby(['大区名称', '小区名称', '经销商代码', '客户来源更新', '车型new'])['潜客量'].sum().reset_index()"
   ]
  },
  {
   "cell_type": "code",
   "execution_count": 34,
   "metadata": {
    "execution": {
     "iopub.execute_input": "2021-02-10T20:02:11.689276Z",
     "iopub.status.busy": "2021-02-10T20:02:11.689033Z",
     "iopub.status.idle": "2021-02-10T20:02:11.944053Z",
     "shell.execute_reply": "2021-02-10T20:02:11.943228Z",
     "shell.execute_reply.started": "2021-02-10T20:02:11.689236Z"
    }
   },
   "outputs": [],
   "source": [
    "# (2021-02-08)创建一个基于车型的城市分布，这里改成 大区分布 \n",
    "# 因为后续会有部分经销商没有对应 \"客户来源更新\" 的分布，比如某些经销商没有线上的已有数据作为基准，这时就用城市的替换\n",
    "# dataCITYstd = dataUSEstd.groupby(['城市', '客户来源更新', '车型new'])['潜客量'].sum().reset_index()\n",
    "dataCITYstd = dataUSEstd.groupby(['大区名称', '车型new'])['潜客量'].sum().reset_index()"
   ]
  },
  {
   "cell_type": "code",
   "execution_count": 35,
   "metadata": {
    "execution": {
     "iopub.execute_input": "2021-02-10T20:02:11.945048Z",
     "iopub.status.busy": "2021-02-10T20:02:11.944862Z",
     "iopub.status.idle": "2021-02-10T20:02:11.952250Z",
     "shell.execute_reply": "2021-02-10T20:02:11.951681Z",
     "shell.execute_reply.started": "2021-02-10T20:02:11.945028Z"
    }
   },
   "outputs": [],
   "source": [
    "# 可能存在来源更新没有的情况，处理起来太复杂，直接用城市了\n",
    "# dataCITYstd['城市汇总'] = dataCITYstd.groupby(['城市', '客户来源更新'])['潜客量'].transform('sum')\n",
    "dataCITYstd['大区汇总'] = dataCITYstd.groupby(['大区名称'])['潜客量'].transform('sum')\n",
    "dataCITYstd['车型占比'] = dataCITYstd['潜客量']/ dataCITYstd['大区汇总']"
   ]
  },
  {
   "cell_type": "code",
   "execution_count": 36,
   "metadata": {
    "execution": {
     "iopub.execute_input": "2021-02-10T20:02:11.953435Z",
     "iopub.status.busy": "2021-02-10T20:02:11.953062Z",
     "iopub.status.idle": "2021-02-10T20:02:12.610441Z",
     "shell.execute_reply": "2021-02-10T20:02:12.609739Z",
     "shell.execute_reply.started": "2021-02-10T20:02:11.953407Z"
    }
   },
   "outputs": [],
   "source": [
    "dataUSEstd['dealer汇总'] = dataUSEstd.groupby(['大区名称', '小区名称', '经销商代码', '客户来源更新'])['潜客量'].transform('sum')\n",
    "dataUSEstd['车型占比'] = dataUSEstd['潜客量']/dataUSEstd['dealer汇总']\n",
    "dataUSEstd['日均概率'] = dataUSEstd['潜客量']/monthDays"
   ]
  },
  {
   "cell_type": "code",
   "execution_count": 37,
   "metadata": {
    "execution": {
     "iopub.execute_input": "2021-02-10T20:02:12.611503Z",
     "iopub.status.busy": "2021-02-10T20:02:12.611336Z",
     "iopub.status.idle": "2021-02-10T20:02:17.147344Z",
     "shell.execute_reply": "2021-02-10T20:02:17.146798Z",
     "shell.execute_reply.started": "2021-02-10T20:02:12.611482Z"
    }
   },
   "outputs": [],
   "source": [
    "dataUSE2b = dataUSE2b.groupby(['大区名称', '小区名称', '经销商代码', '客户来源更新'])['潜客量'].sum().reset_index()"
   ]
  },
  {
   "cell_type": "code",
   "execution_count": 38,
   "metadata": {
    "execution": {
     "iopub.execute_input": "2021-02-10T20:02:17.148209Z",
     "iopub.status.busy": "2021-02-10T20:02:17.148051Z",
     "iopub.status.idle": "2021-02-10T20:02:17.156614Z",
     "shell.execute_reply": "2021-02-10T20:02:17.155198Z",
     "shell.execute_reply.started": "2021-02-10T20:02:17.148188Z"
    },
    "scrolled": true
   },
   "outputs": [],
   "source": [
    "datatmp = dataUSE2b.copy()"
   ]
  },
  {
   "cell_type": "code",
   "execution_count": null,
   "metadata": {
    "execution": {
     "iopub.execute_input": "2021-02-10T20:19:31.809308Z",
     "iopub.status.busy": "2021-02-10T20:19:31.809124Z"
    }
   },
   "outputs": [],
   "source": [
    "datatmp = datatmp.merge(dataUSEstd[[\"经销商代码\", \"客户来源更新\", \"车型new\", \"车型占比\"]], on=[\"经销商代码\", \"客户来源更新\"], how='left')"
   ]
  },
  {
   "cell_type": "code",
   "execution_count": 43,
   "metadata": {
    "execution": {
     "iopub.execute_input": "2021-02-10T20:03:57.745200Z",
     "iopub.status.busy": "2021-02-10T20:03:57.744864Z",
     "iopub.status.idle": "2021-02-10T20:03:57.769308Z",
     "shell.execute_reply": "2021-02-10T20:03:57.768490Z",
     "shell.execute_reply.started": "2021-02-10T20:03:57.745161Z"
    }
   },
   "outputs": [
    {
     "name": "stdout",
     "output_type": "stream",
     "text": [
      "<class 'pandas.core.frame.DataFrame'>\n",
      "RangeIndex: 388416 entries, 0 to 388415\n",
      "Data columns (total 5 columns):\n",
      " #   Column  Non-Null Count   Dtype   \n",
      "---  ------  --------------   -----   \n",
      " 0   大区名称    388416 non-null  category\n",
      " 1   小区名称    388416 non-null  category\n",
      " 2   经销商代码   388416 non-null  category\n",
      " 3   客户来源更新  388416 non-null  category\n",
      " 4   潜客量     388416 non-null  int32   \n",
      "dtypes: category(4), int32(1)\n",
      "memory usage: 3.4 MB\n"
     ]
    }
   ],
   "source": [
    "datatmp.info()"
   ]
  },
  {
   "cell_type": "code",
   "execution_count": 42,
   "metadata": {
    "execution": {
     "iopub.execute_input": "2021-02-10T20:03:23.253797Z",
     "iopub.status.busy": "2021-02-10T20:03:23.253508Z",
     "iopub.status.idle": "2021-02-10T20:03:23.699771Z",
     "shell.execute_reply": "2021-02-10T20:03:23.698661Z",
     "shell.execute_reply.started": "2021-02-10T20:03:23.253763Z"
    }
   },
   "outputs": [
    {
     "ename": "MemoryError",
     "evalue": "Unable to allocate 23.3 GiB for an array with shape (3132186624,) and data type int64",
     "output_type": "error",
     "traceback": [
      "\u001b[0;31m---------------------------------------------------------------------------\u001b[0m",
      "\u001b[0;31mMemoryError\u001b[0m                               Traceback (most recent call last)",
      "\u001b[0;32m<ipython-input-42-e2489aac69f7>\u001b[0m in \u001b[0;36m<module>\u001b[0;34m\u001b[0m\n\u001b[0;32m----> 1\u001b[0;31m \u001b[0mdatatmp\u001b[0m\u001b[0;34m.\u001b[0m\u001b[0mmerge\u001b[0m\u001b[0;34m(\u001b[0m\u001b[0mdataUSEstd\u001b[0m\u001b[0;34m[\u001b[0m\u001b[0;34m[\u001b[0m\u001b[0;34m\"经销商代码\"\u001b[0m\u001b[0;34m,\u001b[0m \u001b[0;34m\"客户来源更新\"\u001b[0m\u001b[0;34m,\u001b[0m \u001b[0;34m\"车型new\"\u001b[0m\u001b[0;34m,\u001b[0m \u001b[0;34m\"车型占比\"\u001b[0m\u001b[0;34m]\u001b[0m\u001b[0;34m]\u001b[0m\u001b[0;34m,\u001b[0m \u001b[0mon\u001b[0m\u001b[0;34m=\u001b[0m\u001b[0;34m[\u001b[0m\u001b[0;34m\"经销商代码\"\u001b[0m\u001b[0;34m,\u001b[0m \u001b[0;34m\"客户来源更新\"\u001b[0m\u001b[0;34m]\u001b[0m\u001b[0;34m,\u001b[0m \u001b[0mhow\u001b[0m\u001b[0;34m=\u001b[0m\u001b[0;34m'left'\u001b[0m\u001b[0;34m)\u001b[0m\u001b[0;34m\u001b[0m\u001b[0;34m\u001b[0m\u001b[0m\n\u001b[0m",
      "\u001b[0;32m~/.local/lib/python3.7/site-packages/pandas/core/frame.py\u001b[0m in \u001b[0;36mmerge\u001b[0;34m(self, right, how, on, left_on, right_on, left_index, right_index, sort, suffixes, copy, indicator, validate)\u001b[0m\n\u001b[1;32m   8203\u001b[0m             \u001b[0mcopy\u001b[0m\u001b[0;34m=\u001b[0m\u001b[0mcopy\u001b[0m\u001b[0;34m,\u001b[0m\u001b[0;34m\u001b[0m\u001b[0;34m\u001b[0m\u001b[0m\n\u001b[1;32m   8204\u001b[0m             \u001b[0mindicator\u001b[0m\u001b[0;34m=\u001b[0m\u001b[0mindicator\u001b[0m\u001b[0;34m,\u001b[0m\u001b[0;34m\u001b[0m\u001b[0;34m\u001b[0m\u001b[0m\n\u001b[0;32m-> 8205\u001b[0;31m             \u001b[0mvalidate\u001b[0m\u001b[0;34m=\u001b[0m\u001b[0mvalidate\u001b[0m\u001b[0;34m,\u001b[0m\u001b[0;34m\u001b[0m\u001b[0;34m\u001b[0m\u001b[0m\n\u001b[0m\u001b[1;32m   8206\u001b[0m         )\n\u001b[1;32m   8207\u001b[0m \u001b[0;34m\u001b[0m\u001b[0m\n",
      "\u001b[0;32m~/.local/lib/python3.7/site-packages/pandas/core/reshape/merge.py\u001b[0m in \u001b[0;36mmerge\u001b[0;34m(left, right, how, on, left_on, right_on, left_index, right_index, sort, suffixes, copy, indicator, validate)\u001b[0m\n\u001b[1;32m     87\u001b[0m         \u001b[0mvalidate\u001b[0m\u001b[0;34m=\u001b[0m\u001b[0mvalidate\u001b[0m\u001b[0;34m,\u001b[0m\u001b[0;34m\u001b[0m\u001b[0;34m\u001b[0m\u001b[0m\n\u001b[1;32m     88\u001b[0m     )\n\u001b[0;32m---> 89\u001b[0;31m     \u001b[0;32mreturn\u001b[0m \u001b[0mop\u001b[0m\u001b[0;34m.\u001b[0m\u001b[0mget_result\u001b[0m\u001b[0;34m(\u001b[0m\u001b[0;34m)\u001b[0m\u001b[0;34m\u001b[0m\u001b[0;34m\u001b[0m\u001b[0m\n\u001b[0m\u001b[1;32m     90\u001b[0m \u001b[0;34m\u001b[0m\u001b[0m\n\u001b[1;32m     91\u001b[0m \u001b[0;34m\u001b[0m\u001b[0m\n",
      "\u001b[0;32m~/.local/lib/python3.7/site-packages/pandas/core/reshape/merge.py\u001b[0m in \u001b[0;36mget_result\u001b[0;34m(self)\u001b[0m\n\u001b[1;32m    682\u001b[0m             \u001b[0mself\u001b[0m\u001b[0;34m.\u001b[0m\u001b[0mleft\u001b[0m\u001b[0;34m,\u001b[0m \u001b[0mself\u001b[0m\u001b[0;34m.\u001b[0m\u001b[0mright\u001b[0m \u001b[0;34m=\u001b[0m \u001b[0mself\u001b[0m\u001b[0;34m.\u001b[0m\u001b[0m_indicator_pre_merge\u001b[0m\u001b[0;34m(\u001b[0m\u001b[0mself\u001b[0m\u001b[0;34m.\u001b[0m\u001b[0mleft\u001b[0m\u001b[0;34m,\u001b[0m \u001b[0mself\u001b[0m\u001b[0;34m.\u001b[0m\u001b[0mright\u001b[0m\u001b[0;34m)\u001b[0m\u001b[0;34m\u001b[0m\u001b[0;34m\u001b[0m\u001b[0m\n\u001b[1;32m    683\u001b[0m \u001b[0;34m\u001b[0m\u001b[0m\n\u001b[0;32m--> 684\u001b[0;31m         \u001b[0mjoin_index\u001b[0m\u001b[0;34m,\u001b[0m \u001b[0mleft_indexer\u001b[0m\u001b[0;34m,\u001b[0m \u001b[0mright_indexer\u001b[0m \u001b[0;34m=\u001b[0m \u001b[0mself\u001b[0m\u001b[0;34m.\u001b[0m\u001b[0m_get_join_info\u001b[0m\u001b[0;34m(\u001b[0m\u001b[0;34m)\u001b[0m\u001b[0;34m\u001b[0m\u001b[0;34m\u001b[0m\u001b[0m\n\u001b[0m\u001b[1;32m    685\u001b[0m \u001b[0;34m\u001b[0m\u001b[0m\n\u001b[1;32m    686\u001b[0m         llabels, rlabels = _items_overlap_with_suffix(\n",
      "\u001b[0;32m~/.local/lib/python3.7/site-packages/pandas/core/reshape/merge.py\u001b[0m in \u001b[0;36m_get_join_info\u001b[0;34m(self)\u001b[0m\n\u001b[1;32m    907\u001b[0m             )\n\u001b[1;32m    908\u001b[0m         \u001b[0;32melse\u001b[0m\u001b[0;34m:\u001b[0m\u001b[0;34m\u001b[0m\u001b[0;34m\u001b[0m\u001b[0m\n\u001b[0;32m--> 909\u001b[0;31m             \u001b[0;34m(\u001b[0m\u001b[0mleft_indexer\u001b[0m\u001b[0;34m,\u001b[0m \u001b[0mright_indexer\u001b[0m\u001b[0;34m)\u001b[0m \u001b[0;34m=\u001b[0m \u001b[0mself\u001b[0m\u001b[0;34m.\u001b[0m\u001b[0m_get_join_indexers\u001b[0m\u001b[0;34m(\u001b[0m\u001b[0;34m)\u001b[0m\u001b[0;34m\u001b[0m\u001b[0;34m\u001b[0m\u001b[0m\n\u001b[0m\u001b[1;32m    910\u001b[0m \u001b[0;34m\u001b[0m\u001b[0m\n\u001b[1;32m    911\u001b[0m             \u001b[0;32mif\u001b[0m \u001b[0mself\u001b[0m\u001b[0;34m.\u001b[0m\u001b[0mright_index\u001b[0m\u001b[0;34m:\u001b[0m\u001b[0;34m\u001b[0m\u001b[0;34m\u001b[0m\u001b[0m\n",
      "\u001b[0;32m~/.local/lib/python3.7/site-packages/pandas/core/reshape/merge.py\u001b[0m in \u001b[0;36m_get_join_indexers\u001b[0;34m(self)\u001b[0m\n\u001b[1;32m    886\u001b[0m         \u001b[0;34m\"\"\" return the join indexers \"\"\"\u001b[0m\u001b[0;34m\u001b[0m\u001b[0;34m\u001b[0m\u001b[0m\n\u001b[1;32m    887\u001b[0m         return get_join_indexers(\n\u001b[0;32m--> 888\u001b[0;31m             \u001b[0mself\u001b[0m\u001b[0;34m.\u001b[0m\u001b[0mleft_join_keys\u001b[0m\u001b[0;34m,\u001b[0m \u001b[0mself\u001b[0m\u001b[0;34m.\u001b[0m\u001b[0mright_join_keys\u001b[0m\u001b[0;34m,\u001b[0m \u001b[0msort\u001b[0m\u001b[0;34m=\u001b[0m\u001b[0mself\u001b[0m\u001b[0;34m.\u001b[0m\u001b[0msort\u001b[0m\u001b[0;34m,\u001b[0m \u001b[0mhow\u001b[0m\u001b[0;34m=\u001b[0m\u001b[0mself\u001b[0m\u001b[0;34m.\u001b[0m\u001b[0mhow\u001b[0m\u001b[0;34m\u001b[0m\u001b[0;34m\u001b[0m\u001b[0m\n\u001b[0m\u001b[1;32m    889\u001b[0m         )\n\u001b[1;32m    890\u001b[0m \u001b[0;34m\u001b[0m\u001b[0m\n",
      "\u001b[0;32m~/.local/lib/python3.7/site-packages/pandas/core/reshape/merge.py\u001b[0m in \u001b[0;36mget_join_indexers\u001b[0;34m(left_keys, right_keys, sort, how, **kwargs)\u001b[0m\n\u001b[1;32m   1439\u001b[0m     }[how]\n\u001b[1;32m   1440\u001b[0m \u001b[0;34m\u001b[0m\u001b[0m\n\u001b[0;32m-> 1441\u001b[0;31m     \u001b[0;32mreturn\u001b[0m \u001b[0mjoin_func\u001b[0m\u001b[0;34m(\u001b[0m\u001b[0mlkey\u001b[0m\u001b[0;34m,\u001b[0m \u001b[0mrkey\u001b[0m\u001b[0;34m,\u001b[0m \u001b[0mcount\u001b[0m\u001b[0;34m,\u001b[0m \u001b[0;34m**\u001b[0m\u001b[0mkwargs\u001b[0m\u001b[0;34m)\u001b[0m\u001b[0;34m\u001b[0m\u001b[0;34m\u001b[0m\u001b[0m\n\u001b[0m\u001b[1;32m   1442\u001b[0m \u001b[0;34m\u001b[0m\u001b[0m\n\u001b[1;32m   1443\u001b[0m \u001b[0;34m\u001b[0m\u001b[0m\n",
      "\u001b[0;32mpandas/_libs/join.pyx\u001b[0m in \u001b[0;36mpandas._libs.join.left_outer_join\u001b[0;34m()\u001b[0m\n",
      "\u001b[0;31mMemoryError\u001b[0m: Unable to allocate 23.3 GiB for an array with shape (3132186624,) and data type int64"
     ]
    }
   ],
   "source": [
    "datatmp.merge(dataUSEstd[[\"经销商代码\", \"客户来源更新\", \"车型new\", \"车型占比\"]], on=[\"经销商代码\", \"客户来源更新\"], how='left')"
   ]
  },
  {
   "cell_type": "code",
   "execution_count": null,
   "metadata": {
    "execution": {
     "iopub.status.busy": "2021-02-10T20:02:17.838691Z",
     "iopub.status.idle": "2021-02-10T20:02:17.838961Z",
     "shell.execute_reply": "2021-02-10T20:02:17.838830Z"
    }
   },
   "outputs": [],
   "source": [
    "noneSTD = datatmp[datatmp['车型占比'].isna()]"
   ]
  },
  {
   "cell_type": "code",
   "execution_count": null,
   "metadata": {
    "execution": {
     "iopub.status.busy": "2021-02-10T20:02:17.839862Z",
     "iopub.status.idle": "2021-02-10T20:02:17.840134Z",
     "shell.execute_reply": "2021-02-10T20:02:17.840008Z"
    }
   },
   "outputs": [],
   "source": [
    "datatmp = datatmp[datatmp['车型占比'].notna()]"
   ]
  },
  {
   "cell_type": "code",
   "execution_count": null,
   "metadata": {
    "execution": {
     "iopub.status.busy": "2021-02-10T20:02:17.840758Z",
     "iopub.status.idle": "2021-02-10T20:02:17.841007Z",
     "shell.execute_reply": "2021-02-10T20:02:17.840886Z"
    }
   },
   "outputs": [],
   "source": [
    "noneSTD.drop(['车型new', '车型占比'], axis=1, inplace=True)"
   ]
  },
  {
   "cell_type": "code",
   "execution_count": null,
   "metadata": {
    "execution": {
     "iopub.status.busy": "2021-02-10T20:02:17.841887Z",
     "iopub.status.idle": "2021-02-10T20:02:17.842145Z",
     "shell.execute_reply": "2021-02-10T20:02:17.842022Z"
    }
   },
   "outputs": [],
   "source": [
    "noneSTD = noneSTD.merge(dataCITYstd[['大区名称', '车型new', '车型占比']], on=['大区名称'])"
   ]
  },
  {
   "cell_type": "code",
   "execution_count": null,
   "metadata": {
    "execution": {
     "iopub.status.busy": "2021-02-10T20:02:17.842978Z",
     "iopub.status.idle": "2021-02-10T20:02:17.843273Z",
     "shell.execute_reply": "2021-02-10T20:02:17.843138Z"
    }
   },
   "outputs": [],
   "source": [
    "datatmp = pd.concat([datatmp, noneSTD], ignore_index=True)"
   ]
  },
  {
   "cell_type": "code",
   "execution_count": null,
   "metadata": {
    "execution": {
     "iopub.status.busy": "2021-02-10T20:02:17.844594Z",
     "iopub.status.idle": "2021-02-10T20:02:17.844929Z",
     "shell.execute_reply": "2021-02-10T20:02:17.844774Z"
    },
    "scrolled": true
   },
   "outputs": [],
   "source": [
    "# 预计算潜客1 是未四舍五入的值， 预计算潜客2 是四舍五入后的值\n",
    "datatmp['预计算潜客'] = datatmp[\"潜客量\"] * datatmp[\"车型占比\"]\n",
    "datatmp['预计算潜客1'] = datatmp['预计算潜客'].map(int)\n",
    "datatmp['预计算潜客2'] = datatmp['预计算潜客'].apply(lambda x: int(x+0.5))\n",
    "datatmp['进位可能'] = datatmp['预计算潜客'] - datatmp['预计算潜客1']"
   ]
  },
  {
   "cell_type": "code",
   "execution_count": null,
   "metadata": {
    "execution": {
     "iopub.status.busy": "2021-02-10T20:02:17.845642Z",
     "iopub.status.idle": "2021-02-10T20:02:17.845906Z",
     "shell.execute_reply": "2021-02-10T20:02:17.845776Z"
    }
   },
   "outputs": [],
   "source": [
    "# 这里计算出来的 差值 就是四舍五入后的差异，需要用这个差异去修改 datatmp\n",
    "# 里的 预计算潜客2 中不合适的部分。\n",
    "# 并在 datatmp 中插入新的列 调整潜客\n",
    "# 所以需要利用 进位可能，进行多退少补：\n",
    "#     如果需要退n个（差值为负），则寻找 进位可能 > 0.5的数据里最小的n个各去掉 1\n",
    "#     如果需要补n个（差值为正），则寻找 进位可能 < 0.5的数据里最大的n个各增加 1\n",
    "# 这部分需要使用函数计算，感觉还比较麻烦\n",
    "# 这里直接做一个 进位可能 相关的函数，主要是插入 顺序 字段，值是序数：\n",
    "#   大于 0.5 的 升序，比如：\n",
    "#     进位可能: [0.51, 0.66, 0.501, 0.7]\n",
    "#        顺序: [1, 2, 0, 3]\n",
    "#   小于 0.5 的 降序\n",
    "##########################################"
   ]
  },
  {
   "cell_type": "code",
   "execution_count": null,
   "metadata": {
    "execution": {
     "iopub.status.busy": "2021-02-10T20:02:17.846510Z",
     "iopub.status.idle": "2021-02-10T20:02:17.846738Z",
     "shell.execute_reply": "2021-02-10T20:02:17.846626Z"
    }
   },
   "outputs": [],
   "source": [
    "# 1. 给 datatemp 增加一列，区分 0.5\n",
    "datatmp['已进位'] = datatmp['进位可能'] >= 0.5"
   ]
  },
  {
   "cell_type": "code",
   "execution_count": null,
   "metadata": {
    "execution": {
     "iopub.status.busy": "2021-02-10T20:02:17.848021Z",
     "iopub.status.idle": "2021-02-10T20:02:17.848334Z",
     "shell.execute_reply": "2021-02-10T20:02:17.848191Z"
    }
   },
   "outputs": [],
   "source": [
    "# 都使用的升序，处理时要注意\n",
    "# 先处理 已进位 为 True的\n",
    "datatmp['顺序'] = 0\n",
    "l = datatmp['顺序'] + datatmp[datatmp['已进位']==True].groupby(['经销商代码', '客户来源更新', '已进位'])['进位可能'].rank(ascending=True, method=\"first\").astype('int')\n",
    "r = datatmp['顺序'] + datatmp[datatmp['已进位']==False].groupby(['经销商代码', '客户来源更新', '已进位'])['进位可能'].rank(ascending=False, method=\"first\").astype('int')\n",
    "datatmp['顺序'] = l.fillna(0) + r.fillna(0)"
   ]
  },
  {
   "cell_type": "code",
   "execution_count": null,
   "metadata": {
    "execution": {
     "iopub.status.busy": "2021-02-10T20:02:17.849075Z",
     "iopub.status.idle": "2021-02-10T20:02:17.849348Z",
     "shell.execute_reply": "2021-02-10T20:02:17.849219Z"
    }
   },
   "outputs": [],
   "source": [
    "# 计算经销商分来源的预计算潜客2的汇总\n",
    "dataUSEpre = datatmp.groupby(['大区名称', '小区名称', '经销商代码', '客户来源更新'])['预计算潜客2'].sum().reset_index()"
   ]
  },
  {
   "cell_type": "code",
   "execution_count": null,
   "metadata": {
    "execution": {
     "iopub.status.busy": "2021-02-10T20:02:17.849965Z",
     "iopub.status.idle": "2021-02-10T20:02:17.850302Z",
     "shell.execute_reply": "2021-02-10T20:02:17.850081Z"
    }
   },
   "outputs": [],
   "source": [
    "#dataUSEadj = datatmp.groupby(['大区名称', '小区名称', '城市', '经销商代码', '客户来源更新'])['预计算潜客2'].sum().reset_index()\n",
    "#dataUSEadj = dataUSE2b.head(200).merge(dataUSEpre[['经销商代码', '客户来源更新', '预计算潜客2']], on=['经销商代码', '客户来源更新'])\n",
    "dataUSEadj = dataUSE2b.merge(dataUSEpre[['经销商代码', '客户来源更新', '预计算潜客2']], on=['经销商代码', '客户来源更新'])\n",
    "dataUSEadj['差值'] = dataUSEadj['潜客量'] - dataUSEadj['预计算潜客2']"
   ]
  },
  {
   "cell_type": "code",
   "execution_count": null,
   "metadata": {
    "execution": {
     "iopub.status.busy": "2021-02-10T20:02:17.850897Z",
     "iopub.status.idle": "2021-02-10T20:02:17.851195Z",
     "shell.execute_reply": "2021-02-10T20:02:17.851065Z"
    }
   },
   "outputs": [],
   "source": [
    "# 将 差值 合并进 datatmp\n",
    "datatmp = datatmp.merge(dataUSEadj[['经销商代码', '客户来源更新', '差值']], on=['经销商代码', '客户来源更新'])"
   ]
  },
  {
   "cell_type": "code",
   "execution_count": null,
   "metadata": {
    "execution": {
     "iopub.status.busy": "2021-02-10T20:02:17.851833Z",
     "iopub.status.idle": "2021-02-10T20:02:17.852072Z",
     "shell.execute_reply": "2021-02-10T20:02:17.851950Z"
    }
   },
   "outputs": [],
   "source": [
    "datatmp['预计算真值'] = datatmp.apply(balanceCom, axis=1)"
   ]
  },
  {
   "cell_type": "code",
   "execution_count": null,
   "metadata": {
    "execution": {
     "iopub.status.busy": "2021-02-10T20:02:17.852667Z",
     "iopub.status.idle": "2021-02-10T20:02:17.852894Z",
     "shell.execute_reply": "2021-02-10T20:02:17.852782Z"
    }
   },
   "outputs": [],
   "source": [
    "# 这里开始合并模拟结果和真实结果"
   ]
  },
  {
   "cell_type": "code",
   "execution_count": null,
   "metadata": {
    "execution": {
     "iopub.status.busy": "2021-02-10T20:02:17.853564Z",
     "iopub.status.idle": "2021-02-10T20:02:17.853785Z",
     "shell.execute_reply": "2021-02-10T20:02:17.853675Z"
    }
   },
   "outputs": [],
   "source": [
    "dataCOMPUTed = datatmp[['大区名称', '小区名称', '经销商代码', '客户来源更新','车型new', '预计算真值']].copy()"
   ]
  },
  {
   "cell_type": "code",
   "execution_count": null,
   "metadata": {
    "execution": {
     "iopub.status.busy": "2021-02-10T20:02:17.854370Z",
     "iopub.status.idle": "2021-02-10T20:02:17.854620Z",
     "shell.execute_reply": "2021-02-10T20:02:17.854508Z"
    }
   },
   "outputs": [],
   "source": [
    "dataCOMPUTed.rename(columns={'预计算真值': '潜客量'}, inplace=True)\n",
    "dataCOMPUTed.head()"
   ]
  },
  {
   "cell_type": "code",
   "execution_count": null,
   "metadata": {
    "execution": {
     "iopub.status.busy": "2021-02-10T20:02:17.855226Z",
     "iopub.status.idle": "2021-02-10T20:02:17.855469Z",
     "shell.execute_reply": "2021-02-10T20:02:17.855358Z"
    }
   },
   "outputs": [],
   "source": [
    "dataEsti = dataCOMPUTed.append(dataUSEstd[['大区名称', '小区名称', '经销商代码', '客户来源更新','车型new', '潜客量']])"
   ]
  },
  {
   "cell_type": "code",
   "execution_count": null,
   "metadata": {
    "execution": {
     "iopub.status.busy": "2021-02-10T20:02:17.856075Z",
     "iopub.status.idle": "2021-02-10T20:02:17.856331Z",
     "shell.execute_reply": "2021-02-10T20:02:17.856208Z"
    }
   },
   "outputs": [],
   "source": [
    "dataEsti = dataEsti.groupby(['大区名称', '小区名称', '经销商代码', '客户来源更新','车型new'])['潜客量'].sum().reset_index()"
   ]
  },
  {
   "cell_type": "code",
   "execution_count": null,
   "metadata": {
    "execution": {
     "iopub.status.busy": "2021-02-10T20:02:17.857113Z",
     "iopub.status.idle": "2021-02-10T20:02:17.857355Z",
     "shell.execute_reply": "2021-02-10T20:02:17.857237Z"
    }
   },
   "outputs": [],
   "source": [
    "# 添加车型站比\n",
    "dataEsti['dealer汇总'] = dataEsti.groupby(['大区名称', '小区名称', '经销商代码', '客户来源更新'])['潜客量'].transform('sum')\n",
    "dataEsti['车型占比'] = dataEsti['潜客量']/dataEsti['dealer汇总']\n",
    "dataEsti['日均概率'] = dataEsti['潜客量']/monthDays"
   ]
  },
  {
   "cell_type": "code",
   "execution_count": null,
   "metadata": {
    "execution": {
     "iopub.status.busy": "2021-02-10T20:02:17.857985Z",
     "iopub.status.idle": "2021-02-10T20:02:17.858254Z",
     "shell.execute_reply": "2021-02-10T20:02:17.858129Z"
    }
   },
   "outputs": [],
   "source": [
    "#### 以下是之前处理的结果"
   ]
  },
  {
   "cell_type": "code",
   "execution_count": null,
   "metadata": {
    "execution": {
     "iopub.status.busy": "2021-02-10T20:02:17.858957Z",
     "iopub.status.idle": "2021-02-10T20:02:17.859224Z",
     "shell.execute_reply": "2021-02-10T20:02:17.859112Z"
    },
    "jupyter": {
     "source_hidden": true
    }
   },
   "outputs": [],
   "source": [
    "def summarySTAT():\n",
    "    totalPotentials = databook['潜客量'].sum()\n",
    "    # dealPotentialsbyDay = databook.groupby(['经销商代码', '日期'])['潜客量'].sum().reset_index()\n",
    "    totalDealPotentials = databook.groupby(['经销商代码'])['潜客量'].sum().reset_index()\n",
    "    totalPotentialsFIX = dataEsti['潜客量'].sum()\n",
    "    # dealPotentialsbyDayFIX = dataEsti.groupby(['经销商代码', '日期'])['潜客量'].sum().reset_index()\n",
    "    totalDealPotentialsFIX = dataEsti.groupby(['经销商代码'])['潜客量'].sum().reset_index()\n",
    "    # dealDiffbyDay = dealPotentialsbyDay.merge(dealPotentialsbyDayFIX, on=['经销商代码', '日期'], suffixes=['_origin', '_fix'])\n",
    "    dealDiff = totalDealPotentials.merge(totalDealPotentialsFIX, on=['经销商代码'], suffixes=['_origin', '_fix'])\n",
    "    # dealDiffbyDay['差值'] = dealDiffbyDay['潜客量_origin'] - dealDiffbyDay['潜客量_fix']\n",
    "    dealDiff['差值'] = dealDiff['潜客量_origin'] - dealDiff['潜客量_fix']\n",
    "    print(dealDiff['差值'].value_counts())\n",
    "    return totalPotentials - totalPotentialsFIX, dealDiff['差值'].value_counts()"
   ]
  },
  {
   "cell_type": "code",
   "execution_count": null,
   "metadata": {
    "execution": {
     "iopub.status.busy": "2021-02-10T20:02:17.859870Z",
     "iopub.status.idle": "2021-02-10T20:02:17.860109Z",
     "shell.execute_reply": "2021-02-10T20:02:17.859985Z"
    }
   },
   "outputs": [],
   "source": [
    "dealerUnique = dataCOMPUTed[['大区名称', '小区名称', '经销商代码', '客户来源更新']].drop_duplicates()\n",
    "dealerUnique = dealerUnique.reset_index(drop=True)[['经销商代码', '客户来源更新']]"
   ]
  },
  {
   "cell_type": "code",
   "execution_count": null,
   "metadata": {
    "execution": {
     "iopub.status.busy": "2021-02-10T20:02:17.860690Z",
     "iopub.status.idle": "2021-02-10T20:02:17.860935Z",
     "shell.execute_reply": "2021-02-10T20:02:17.860814Z"
    }
   },
   "outputs": [],
   "source": [
    "start = 0\n",
    "for idx, row in dealerUnique.iterrows():\n",
    "    print(idx, row['经销商代码'], row['客户来源更新'])\n",
    "    start = genNewData(row['经销商代码'], row['客户来源更新'], start)\n",
    "    print(start)"
   ]
  },
  {
   "cell_type": "code",
   "execution_count": null,
   "metadata": {
    "execution": {
     "iopub.status.busy": "2021-02-10T20:02:17.861540Z",
     "iopub.status.idle": "2021-02-10T20:02:17.861807Z",
     "shell.execute_reply": "2021-02-10T20:02:17.861684Z"
    }
   },
   "outputs": [],
   "source": [
    "dataMiss.head(1)"
   ]
  },
  {
   "cell_type": "code",
   "execution_count": null,
   "metadata": {
    "execution": {
     "iopub.status.busy": "2021-02-10T20:02:17.862407Z",
     "iopub.status.idle": "2021-02-10T20:02:17.862664Z",
     "shell.execute_reply": "2021-02-10T20:02:17.862549Z"
    }
   },
   "outputs": [],
   "source": [
    "# a1 = dataMiss.groupby(['大区名称', '小区名称', '城市', '经销商代码', '客户来源更新', '车型new'])['潜客量'].sum().reset_index()\n",
    "\n",
    "# a2 = a1.merge(dataCOMPUTed, on=['大区名称', '小区名称', '城市', '经销商代码', '客户来源更新', '车型new'], suffixes=['_o', '_f'])"
   ]
  },
  {
   "cell_type": "code",
   "execution_count": null,
   "metadata": {
    "execution": {
     "iopub.status.busy": "2021-02-10T20:02:17.863321Z",
     "iopub.status.idle": "2021-02-10T20:02:17.863557Z",
     "shell.execute_reply": "2021-02-10T20:02:17.863444Z"
    }
   },
   "outputs": [],
   "source": [
    "# 图表所需的层次\n",
    "# (2021-02-08)去掉了城市维度\n",
    "# graphLVL = [\"大区名称\", \"小区名称\", \"城市\", \"经销商代码\"]\n",
    "graphLVL = [\"大区名称\", \"小区名称\", \"经销商代码\"]"
   ]
  },
  {
   "cell_type": "code",
   "execution_count": null,
   "metadata": {
    "execution": {
     "iopub.status.busy": "2021-02-10T20:02:17.864226Z",
     "iopub.status.idle": "2021-02-10T20:02:17.864462Z",
     "shell.execute_reply": "2021-02-10T20:02:17.864351Z"
    },
    "scrolled": true
   },
   "outputs": [],
   "source": [
    "pics = []\n",
    "for pic in graphLVL:\n",
    "    pics.extend(batDraw(pic))\n",
    "html = pb.plot_grid(pics, plot_width=300, return_html=True)"
   ]
  },
  {
   "cell_type": "code",
   "execution_count": null,
   "metadata": {
    "execution": {
     "iopub.status.busy": "2021-02-10T20:02:17.865148Z",
     "iopub.status.idle": "2021-02-10T20:02:17.865430Z",
     "shell.execute_reply": "2021-02-10T20:02:17.865303Z"
    }
   },
   "outputs": [],
   "source": [
    "with open(\"tt.html\", 'w') as f:\n",
    "    f.write(html)"
   ]
  },
  {
   "cell_type": "code",
   "execution_count": null,
   "metadata": {
    "execution": {
     "iopub.status.busy": "2021-02-10T20:02:17.866328Z",
     "iopub.status.idle": "2021-02-10T20:02:17.866578Z",
     "shell.execute_reply": "2021-02-10T20:02:17.866449Z"
    }
   },
   "outputs": [],
   "source": [
    "# 轮盘赌算法，应该用不着了，直接用估计值去填坑\n",
    "# import random\n",
    "# maxnum = 10000\n",
    "# pDIS = [0.046414, 0.050633, 0.147679, 0.147679, 0.270042, 0.008439, 0.004219, 0.033755, 0.025316, 0.07173, 0.004219, 0.008439, 0.181435]\n",
    "# pDISsum = []\n",
    "# for i in range(len(pDIS)):\n",
    "#     if pDISsum:\n",
    "#         pDISsum.append(pDISsum[-1] + pDIS[i])\n",
    "#     else:\n",
    "#         pDISsum.append(pDIS[i])\n",
    "# result = [0] * len(pDIS)\n",
    "# for i in range(maxnum):\n",
    "#     rNUM = random.random()\n",
    "#     for n, m in enumerate(pDISsum):\n",
    "#         if rNUM < m:\n",
    "#             result[n] += 1\n",
    "#             break\n",
    "# print(list(map(lambda x: '%.3f' % x, pDIS)))      \n",
    "# print(list(map(lambda x: '%.3f' % (x/maxnum), result)))"
   ]
  },
  {
   "cell_type": "code",
   "execution_count": null,
   "metadata": {
    "execution": {
     "iopub.status.busy": "2021-02-10T20:02:17.867203Z",
     "iopub.status.idle": "2021-02-10T20:02:17.867425Z",
     "shell.execute_reply": "2021-02-10T20:02:17.867314Z"
    }
   },
   "outputs": [],
   "source": [
    "dataMiss['潜客量'].sum(), dataAvailable['潜客量'].sum()"
   ]
  },
  {
   "cell_type": "code",
   "execution_count": null,
   "metadata": {
    "execution": {
     "iopub.status.busy": "2021-02-10T20:02:17.868124Z",
     "iopub.status.idle": "2021-02-10T20:02:17.868400Z",
     "shell.execute_reply": "2021-02-10T20:02:17.868275Z"
    }
   },
   "outputs": [],
   "source": [
    "databookNew = dataAvailable.append(dataMiss, ignore_index=True)"
   ]
  },
  {
   "cell_type": "code",
   "execution_count": null,
   "metadata": {
    "execution": {
     "iopub.status.busy": "2021-02-10T20:02:17.868966Z",
     "iopub.status.idle": "2021-02-10T20:02:17.869185Z",
     "shell.execute_reply": "2021-02-10T20:02:17.869075Z"
    }
   },
   "outputs": [],
   "source": [
    "databookNew.head(1)"
   ]
  },
  {
   "cell_type": "code",
   "execution_count": null,
   "metadata": {
    "execution": {
     "iopub.status.busy": "2021-02-10T20:02:17.869924Z",
     "iopub.status.idle": "2021-02-10T20:02:17.870214Z",
     "shell.execute_reply": "2021-02-10T20:02:17.870065Z"
    }
   },
   "outputs": [],
   "source": [
    "# 这是一个总数检查，databookNew = databookALL\n",
    "databookNew['潜客量'].sum(),databookALL['潜客量'].sum(), dataAvailable['潜客量'].sum(), dataMiss['潜客量'].sum()"
   ]
  },
  {
   "cell_type": "code",
   "execution_count": null,
   "metadata": {
    "execution": {
     "iopub.status.busy": "2021-02-10T20:02:17.871756Z",
     "iopub.status.idle": "2021-02-10T20:02:17.872057Z",
     "shell.execute_reply": "2021-02-10T20:02:17.871916Z"
    }
   },
   "outputs": [],
   "source": [
    "# databookNew = databookNew.groupby(['月份', '日期', '大区名称', '大区', '小区名称', '经销商代码', '经销商名称', '城市', '客户来源更新', '车型new'])['潜客量'].sum().reset_index()\n",
    "databookNew = databookNew.groupby(['日期', '大区名称', '小区名称', '经销商代码', '客户来源更新', '车型new'])['潜客量'].sum().reset_index()"
   ]
  },
  {
   "cell_type": "code",
   "execution_count": null,
   "metadata": {
    "execution": {
     "iopub.status.busy": "2021-02-10T20:02:17.872786Z",
     "iopub.status.idle": "2021-02-10T20:02:17.873056Z",
     "shell.execute_reply": "2021-02-10T20:02:17.872915Z"
    }
   },
   "outputs": [],
   "source": [
    "# 这里做 城市、经销商名称、大区 的生成\n",
    "# databookNew['大区'] = databook['大区名称'].map(settingHash['bigarea'])\n",
    "databookNew['大区'] = databookNew['大区名称'].map(settingHash['bigarea'])\n",
    "databookNew['月份'] = databookNew['日期'].map(lambda x: str(x.month)+\"月\")\n",
    "databookNew['经销商名称'] = databookNew['经销商代码'].map(settingHash['cname'])\n",
    "databookNew['城市'] = databookNew['经销商代码'].map(settingHash['city'])"
   ]
  },
  {
   "cell_type": "code",
   "execution_count": null,
   "metadata": {
    "execution": {
     "iopub.status.busy": "2021-02-10T20:02:17.873921Z",
     "iopub.status.idle": "2021-02-10T20:02:17.874204Z",
     "shell.execute_reply": "2021-02-10T20:02:17.874068Z"
    }
   },
   "outputs": [],
   "source": [
    "# databookNew 做类型转换，减少体积\n",
    "covTypes(databookNew)"
   ]
  },
  {
   "cell_type": "code",
   "execution_count": null,
   "metadata": {
    "execution": {
     "iopub.status.busy": "2021-02-10T20:02:17.874919Z",
     "iopub.status.idle": "2021-02-10T20:02:17.875192Z",
     "shell.execute_reply": "2021-02-10T20:02:17.875073Z"
    }
   },
   "outputs": [],
   "source": [
    "# 存两个文件\n",
    "# 1. pkl压缩版，万一以后要操作就不必从excel中读取了\n",
    "# 2. excel文件，分发给相关工作人员\n",
    "databookNew.to_pickle('Results/potential.mani.%s.pkl' % monstr, compression='bz2')\n",
    "databookNew.to_excel('Results/potential.%s.xlsx' % monstr, encoding='utf8', header=True, index=False)"
   ]
  },
  {
   "cell_type": "code",
   "execution_count": null,
   "metadata": {
    "execution": {
     "iopub.status.busy": "2021-02-10T20:02:17.875954Z",
     "iopub.status.idle": "2021-02-10T20:02:17.876268Z",
     "shell.execute_reply": "2021-02-10T20:02:17.876068Z"
    }
   },
   "outputs": [],
   "source": [
    "endtime = datetime.datetime.now()"
   ]
  },
  {
   "cell_type": "code",
   "execution_count": null,
   "metadata": {
    "execution": {
     "iopub.status.busy": "2021-02-10T20:02:17.877130Z",
     "iopub.status.idle": "2021-02-10T20:02:17.877420Z",
     "shell.execute_reply": "2021-02-10T20:02:17.877275Z"
    }
   },
   "outputs": [],
   "source": [
    "(endtime - starttime).seconds"
   ]
  }
 ],
 "metadata": {
  "kernelspec": {
   "display_name": "Python 3",
   "language": "python",
   "name": "python3"
  },
  "language_info": {
   "codemirror_mode": {
    "name": "ipython",
    "version": 3
   },
   "file_extension": ".py",
   "mimetype": "text/x-python",
   "name": "python",
   "nbconvert_exporter": "python",
   "pygments_lexer": "ipython3",
   "version": "3.7.9"
  }
 },
 "nbformat": 4,
 "nbformat_minor": 4
}
